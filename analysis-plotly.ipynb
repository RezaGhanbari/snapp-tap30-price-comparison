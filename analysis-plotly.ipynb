{
 "cells": [
  {
   "cell_type": "code",
   "execution_count": 1,
   "metadata": {},
   "outputs": [
    {
     "data": {
      "text/html": [
       "<script type=\"text/javascript\">window.PlotlyConfig = {MathJaxConfig: 'local'};</script><script type=\"text/javascript\">if (window.MathJax) {MathJax.Hub.Config({SVG: {font: \"STIX-Web\"}});}</script><script>requirejs.config({paths: { 'plotly': ['https://cdn.plot.ly/plotly-latest.min']},});if(!window._Plotly) {require(['plotly'],function(plotly) {window._Plotly=plotly;});}</script>"
      ],
      "text/vnd.plotly.v1+html": [
       "<script type=\"text/javascript\">window.PlotlyConfig = {MathJaxConfig: 'local'};</script><script type=\"text/javascript\">if (window.MathJax) {MathJax.Hub.Config({SVG: {font: \"STIX-Web\"}});}</script><script>requirejs.config({paths: { 'plotly': ['https://cdn.plot.ly/plotly-latest.min']},});if(!window._Plotly) {require(['plotly'],function(plotly) {window._Plotly=plotly;});}</script>"
      ]
     },
     "metadata": {},
     "output_type": "display_data"
    }
   ],
   "source": [
    "import pandas as pd\n",
    "import numpy as np\n",
    "import plotly.tools as tools\n",
    "import plotly.plotly as py\n",
    "import plotly.figure_factory as ff\n",
    "import plotly.graph_objs as go\n",
    "from plotly.offline import download_plotlyjs, init_notebook_mode, plot, iplot\n",
    "\n",
    "tools.set_credentials_file(username='saeedesmaili', api_key='TU3U83YV7K3u348OMgdu')\n",
    "init_notebook_mode(connected=True)\n"
   ]
  },
  {
   "cell_type": "code",
   "execution_count": 2,
   "metadata": {},
   "outputs": [
    {
     "data": {
      "text/html": [
       "<div>\n",
       "<style scoped>\n",
       "    .dataframe tbody tr th:only-of-type {\n",
       "        vertical-align: middle;\n",
       "    }\n",
       "\n",
       "    .dataframe tbody tr th {\n",
       "        vertical-align: top;\n",
       "    }\n",
       "\n",
       "    .dataframe thead th {\n",
       "        text-align: right;\n",
       "    }\n",
       "</style>\n",
       "<table border=\"1\" class=\"dataframe\">\n",
       "  <thead>\n",
       "    <tr style=\"text-align: right;\">\n",
       "      <th></th>\n",
       "      <th>origin_lat</th>\n",
       "      <th>origin_lng</th>\n",
       "      <th>destination_lat</th>\n",
       "      <th>destination_lng</th>\n",
       "      <th>service</th>\n",
       "      <th>type</th>\n",
       "      <th>price</th>\n",
       "      <th>distance</th>\n",
       "      <th>is_discounted</th>\n",
       "      <th>is_surged</th>\n",
       "      <th>timestamp</th>\n",
       "      <th>city</th>\n",
       "      <th>ride_id</th>\n",
       "      <th>counts</th>\n",
       "      <th>distance_neshan</th>\n",
       "      <th>origin_name</th>\n",
       "      <th>destination_name</th>\n",
       "      <th>price_per_km</th>\n",
       "      <th>unique_id</th>\n",
       "      <th>counts_</th>\n",
       "    </tr>\n",
       "  </thead>\n",
       "  <tbody>\n",
       "    <tr>\n",
       "      <th>0</th>\n",
       "      <td>35.74941</td>\n",
       "      <td>50.94286</td>\n",
       "      <td>35.79844</td>\n",
       "      <td>50.89926</td>\n",
       "      <td>Snapp</td>\n",
       "      <td>Eco</td>\n",
       "      <td>7000.0</td>\n",
       "      <td>11470.0</td>\n",
       "      <td>True</td>\n",
       "      <td>False</td>\n",
       "      <td>2018-10-16 10:51</td>\n",
       "      <td>Karaj</td>\n",
       "      <td>3574941509428635798445089926</td>\n",
       "      <td>1146</td>\n",
       "      <td>19895</td>\n",
       "      <td>مشکین دشت</td>\n",
       "      <td>مهرشهر</td>\n",
       "      <td>351.847198</td>\n",
       "      <td>35749415094286357984450899262018-10-16 10:51</td>\n",
       "      <td>2</td>\n",
       "    </tr>\n",
       "    <tr>\n",
       "      <th>1</th>\n",
       "      <td>35.83157</td>\n",
       "      <td>50.98972</td>\n",
       "      <td>35.74941</td>\n",
       "      <td>50.94286</td>\n",
       "      <td>Snapp</td>\n",
       "      <td>Eco</td>\n",
       "      <td>7000.0</td>\n",
       "      <td>13705.0</td>\n",
       "      <td>True</td>\n",
       "      <td>False</td>\n",
       "      <td>2018-10-16 11:01</td>\n",
       "      <td>Karaj</td>\n",
       "      <td>3583157509897235749415094286</td>\n",
       "      <td>1311</td>\n",
       "      <td>14898</td>\n",
       "      <td>جهانشهر</td>\n",
       "      <td>مشکین دشت</td>\n",
       "      <td>469.861726</td>\n",
       "      <td>35831575098972357494150942862018-10-16 11:01</td>\n",
       "      <td>2</td>\n",
       "    </tr>\n",
       "    <tr>\n",
       "      <th>2</th>\n",
       "      <td>35.74941</td>\n",
       "      <td>50.94286</td>\n",
       "      <td>35.79844</td>\n",
       "      <td>50.89926</td>\n",
       "      <td>Snapp</td>\n",
       "      <td>Eco</td>\n",
       "      <td>7000.0</td>\n",
       "      <td>11470.0</td>\n",
       "      <td>True</td>\n",
       "      <td>False</td>\n",
       "      <td>2018-10-16 11:02</td>\n",
       "      <td>Karaj</td>\n",
       "      <td>3574941509428635798445089926</td>\n",
       "      <td>1146</td>\n",
       "      <td>19895</td>\n",
       "      <td>مشکین دشت</td>\n",
       "      <td>مهرشهر</td>\n",
       "      <td>351.847198</td>\n",
       "      <td>35749415094286357984450899262018-10-16 11:02</td>\n",
       "      <td>2</td>\n",
       "    </tr>\n",
       "    <tr>\n",
       "      <th>3</th>\n",
       "      <td>35.74941</td>\n",
       "      <td>50.94286</td>\n",
       "      <td>35.79844</td>\n",
       "      <td>50.89926</td>\n",
       "      <td>Snapp</td>\n",
       "      <td>Eco</td>\n",
       "      <td>7000.0</td>\n",
       "      <td>11470.0</td>\n",
       "      <td>True</td>\n",
       "      <td>False</td>\n",
       "      <td>2018-10-16 10:51</td>\n",
       "      <td>Karaj</td>\n",
       "      <td>3574941509428635798445089926</td>\n",
       "      <td>1146</td>\n",
       "      <td>19895</td>\n",
       "      <td>مشکین دشت</td>\n",
       "      <td>مهرشهر</td>\n",
       "      <td>351.847198</td>\n",
       "      <td>35749415094286357984450899262018-10-16 10:51</td>\n",
       "      <td>2</td>\n",
       "    </tr>\n",
       "    <tr>\n",
       "      <th>4</th>\n",
       "      <td>35.83157</td>\n",
       "      <td>50.98972</td>\n",
       "      <td>35.74941</td>\n",
       "      <td>50.94286</td>\n",
       "      <td>Snapp</td>\n",
       "      <td>Eco</td>\n",
       "      <td>7000.0</td>\n",
       "      <td>13705.0</td>\n",
       "      <td>True</td>\n",
       "      <td>False</td>\n",
       "      <td>2018-10-16 11:01</td>\n",
       "      <td>Karaj</td>\n",
       "      <td>3583157509897235749415094286</td>\n",
       "      <td>1311</td>\n",
       "      <td>14898</td>\n",
       "      <td>جهانشهر</td>\n",
       "      <td>مشکین دشت</td>\n",
       "      <td>469.861726</td>\n",
       "      <td>35831575098972357494150942862018-10-16 11:01</td>\n",
       "      <td>2</td>\n",
       "    </tr>\n",
       "  </tbody>\n",
       "</table>\n",
       "</div>"
      ],
      "text/plain": [
       "   origin_lat  origin_lng  destination_lat  destination_lng service type  \\\n",
       "0    35.74941    50.94286         35.79844         50.89926   Snapp  Eco   \n",
       "1    35.83157    50.98972         35.74941         50.94286   Snapp  Eco   \n",
       "2    35.74941    50.94286         35.79844         50.89926   Snapp  Eco   \n",
       "3    35.74941    50.94286         35.79844         50.89926   Snapp  Eco   \n",
       "4    35.83157    50.98972         35.74941         50.94286   Snapp  Eco   \n",
       "\n",
       "    price  distance  is_discounted  is_surged         timestamp   city  \\\n",
       "0  7000.0   11470.0           True      False  2018-10-16 10:51  Karaj   \n",
       "1  7000.0   13705.0           True      False  2018-10-16 11:01  Karaj   \n",
       "2  7000.0   11470.0           True      False  2018-10-16 11:02  Karaj   \n",
       "3  7000.0   11470.0           True      False  2018-10-16 10:51  Karaj   \n",
       "4  7000.0   13705.0           True      False  2018-10-16 11:01  Karaj   \n",
       "\n",
       "                        ride_id  counts  distance_neshan origin_name  \\\n",
       "0  3574941509428635798445089926    1146            19895   مشکین دشت   \n",
       "1  3583157509897235749415094286    1311            14898     جهانشهر   \n",
       "2  3574941509428635798445089926    1146            19895   مشکین دشت   \n",
       "3  3574941509428635798445089926    1146            19895   مشکین دشت   \n",
       "4  3583157509897235749415094286    1311            14898     جهانشهر   \n",
       "\n",
       "  destination_name  price_per_km  \\\n",
       "0           مهرشهر    351.847198   \n",
       "1        مشکین دشت    469.861726   \n",
       "2           مهرشهر    351.847198   \n",
       "3           مهرشهر    351.847198   \n",
       "4        مشکین دشت    469.861726   \n",
       "\n",
       "                                      unique_id  counts_  \n",
       "0  35749415094286357984450899262018-10-16 10:51        2  \n",
       "1  35831575098972357494150942862018-10-16 11:01        2  \n",
       "2  35749415094286357984450899262018-10-16 11:02        2  \n",
       "3  35749415094286357984450899262018-10-16 10:51        2  \n",
       "4  35831575098972357494150942862018-10-16 11:01        2  "
      ]
     },
     "execution_count": 2,
     "metadata": {},
     "output_type": "execute_result"
    }
   ],
   "source": [
    "df = pd.read_csv('rides_final.csv')\n",
    "df.head()"
   ]
  },
  {
   "cell_type": "code",
   "execution_count": null,
   "metadata": {},
   "outputs": [],
   "source": []
  },
  {
   "cell_type": "code",
   "execution_count": 3,
   "metadata": {},
   "outputs": [
    {
     "data": {
      "text/html": [
       "<div>\n",
       "<style scoped>\n",
       "    .dataframe tbody tr th:only-of-type {\n",
       "        vertical-align: middle;\n",
       "    }\n",
       "\n",
       "    .dataframe tbody tr th {\n",
       "        vertical-align: top;\n",
       "    }\n",
       "\n",
       "    .dataframe thead th {\n",
       "        text-align: right;\n",
       "    }\n",
       "</style>\n",
       "<table border=\"1\" class=\"dataframe\">\n",
       "  <thead>\n",
       "    <tr style=\"text-align: right;\">\n",
       "      <th></th>\n",
       "      <th>timestamp</th>\n",
       "      <th>snapp_price</th>\n",
       "      <th>tap30_price</th>\n",
       "    </tr>\n",
       "  </thead>\n",
       "  <tbody>\n",
       "    <tr>\n",
       "      <th>0</th>\n",
       "      <td>0</td>\n",
       "      <td>944.153240</td>\n",
       "      <td>865.037928</td>\n",
       "    </tr>\n",
       "    <tr>\n",
       "      <th>1</th>\n",
       "      <td>1</td>\n",
       "      <td>942.492925</td>\n",
       "      <td>895.791759</td>\n",
       "    </tr>\n",
       "    <tr>\n",
       "      <th>2</th>\n",
       "      <td>2</td>\n",
       "      <td>876.453139</td>\n",
       "      <td>910.732667</td>\n",
       "    </tr>\n",
       "    <tr>\n",
       "      <th>3</th>\n",
       "      <td>3</td>\n",
       "      <td>928.828912</td>\n",
       "      <td>915.682928</td>\n",
       "    </tr>\n",
       "    <tr>\n",
       "      <th>4</th>\n",
       "      <td>4</td>\n",
       "      <td>845.424146</td>\n",
       "      <td>889.939291</td>\n",
       "    </tr>\n",
       "  </tbody>\n",
       "</table>\n",
       "</div>"
      ],
      "text/plain": [
       "   timestamp  snapp_price  tap30_price\n",
       "0          0   944.153240   865.037928\n",
       "1          1   942.492925   895.791759\n",
       "2          2   876.453139   910.732667\n",
       "3          3   928.828912   915.682928\n",
       "4          4   845.424146   889.939291"
      ]
     },
     "execution_count": 3,
     "metadata": {},
     "output_type": "execute_result"
    }
   ],
   "source": [
    "# Hourly\n",
    "df_tehran = df.copy()[df.city == \"Tehran\"]\n",
    "df_tehran['timestamp'] = pd.to_datetime(df_tehran['timestamp'])\n",
    "df_tehran_g = df_tehran.groupby([df_tehran.timestamp.dt.hour, df_tehran.service], as_index=True).agg({\n",
    "    'price_per_km': 'mean'\n",
    "})\n",
    "df_tehran_g.reset_index(inplace=True)  \n",
    "\n",
    "df_snapp = df_tehran_g[df_tehran_g.service == \"Snapp\"][['timestamp', 'price_per_km']]\n",
    "df_snapp.columns = ['timestamp', 'snapp_price']\n",
    "df_tap30 = df_tehran_g[df_tehran_g.service == \"Tap30\"][['timestamp', 'price_per_km']]\n",
    "df_tap30.columns = ['timestamp', 'tap30_price']\n",
    "\n",
    "df_tehran_g = pd.merge(df_snapp, df_tap30)\n",
    "\n",
    "# karaj\n",
    "df_karaj = df.copy()[df.city == \"Karaj\"]\n",
    "df_karaj['timestamp'] = pd.to_datetime(df_karaj['timestamp'])\n",
    "df_karaj_g = df_karaj.groupby([df_karaj.timestamp.dt.hour, df_karaj.service], as_index=True).agg({\n",
    "    'price_per_km': 'mean'\n",
    "})\n",
    "df_karaj_g.reset_index(inplace=True)  \n",
    "\n",
    "df_snapp = df_karaj_g[df_karaj_g.service == \"Snapp\"][['timestamp', 'price_per_km']]\n",
    "df_snapp.columns = ['timestamp', 'snapp_price']\n",
    "df_tap30 = df_karaj_g[df_karaj_g.service == \"Tap30\"][['timestamp', 'price_per_km']]\n",
    "df_tap30.columns = ['timestamp', 'tap30_price']\n",
    "\n",
    "df_karaj_g = pd.merge(df_snapp, df_tap30)\n",
    "\n",
    "\n",
    "# urmia\n",
    "df_urmia = df.copy()[df.city == \"Urmia\"]\n",
    "df_urmia['timestamp'] = pd.to_datetime(df_urmia['timestamp'])\n",
    "df_urmia_g = df_urmia.groupby([df_urmia.timestamp.dt.hour, df_urmia.service], as_index=True).agg({\n",
    "    'price_per_km': 'mean'\n",
    "})\n",
    "df_urmia_g.reset_index(inplace=True)  \n",
    "\n",
    "df_snapp = df_urmia_g[df_urmia_g.service == \"Snapp\"][['timestamp', 'price_per_km']]\n",
    "df_snapp.columns = ['timestamp', 'snapp_price']\n",
    "df_tap30 = df_urmia_g[df_urmia_g.service == \"Tap30\"][['timestamp', 'price_per_km']]\n",
    "df_tap30.columns = ['timestamp', 'tap30_price']\n",
    "\n",
    "df_urmia_g = pd.merge(df_snapp, df_tap30)\n",
    "\n",
    "# tabriz\n",
    "df_tabriz = df.copy()[df.city == \"Tabriz\"]\n",
    "df_tabriz['timestamp'] = pd.to_datetime(df_tabriz['timestamp'])\n",
    "df_tabriz_g = df_tabriz.groupby([df_tabriz.timestamp.dt.hour, df_tabriz.service], as_index=True).agg({\n",
    "    'price_per_km': 'mean'\n",
    "})\n",
    "df_tabriz_g.reset_index(inplace=True)  \n",
    "\n",
    "df_snapp = df_tabriz_g[df_tabriz_g.service == \"Snapp\"][['timestamp', 'price_per_km']]\n",
    "df_snapp.columns = ['timestamp', 'snapp_price']\n",
    "df_tap30 = df_tabriz_g[df_tabriz_g.service == \"Tap30\"][['timestamp', 'price_per_km']]\n",
    "df_tap30.columns = ['timestamp', 'tap30_price']\n",
    "\n",
    "df_tabriz_g = pd.merge(df_snapp, df_tap30)\n",
    "\n",
    "df_tehran_g.head()"
   ]
  },
  {
   "cell_type": "code",
   "execution_count": 4,
   "metadata": {},
   "outputs": [
    {
     "data": {
      "application/vnd.plotly.v1+json": {
       "data": [
        {
         "line": {
          "color": "#00ADB5",
          "width": 2
         },
         "mode": "lines+markers",
         "name": "Snapp - avg: 955",
         "type": "scatter",
         "uid": "6218b298-6c0f-4926-96d5-29ca93f25422",
         "x": [
          0,
          1,
          2,
          3,
          4,
          5,
          6,
          7,
          8,
          9,
          10,
          11,
          12,
          13,
          14,
          15,
          16,
          17,
          18,
          19,
          20,
          21,
          22,
          23
         ],
         "y": [
          944.1532398488924,
          942.4929246511722,
          876.4531393094443,
          928.8289115667242,
          845.4241463808386,
          842.9781351349654,
          975.1958663685134,
          1064.501619842566,
          947.5072584199199,
          886.700378147487,
          847.8134219097482,
          840.23072071834,
          851.3225804106484,
          886.5332011688846,
          914.3340224145812,
          1030.3716032524972,
          1131.4486149989182,
          1229.3106606391495,
          1279.3308936851129,
          1187.5555896092446,
          957.1615766559391,
          852.9273362805358,
          824.7305268045537,
          837.1990076092383
         ]
        },
        {
         "line": {
          "color": "#000000",
          "width": 2
         },
         "mode": "lines+markers",
         "name": "Tap30 - avg: 940",
         "type": "scatter",
         "uid": "77e42c6f-6fd9-4752-98d5-0fa84ed65132",
         "x": [
          0,
          1,
          2,
          3,
          4,
          5,
          6,
          7,
          8,
          9,
          10,
          11,
          12,
          13,
          14,
          15,
          16,
          17,
          18,
          19,
          20,
          21,
          22,
          23
         ],
         "y": [
          865.0379280538473,
          895.7917591560084,
          910.7326666891165,
          915.6829276069711,
          889.9392907009169,
          843.1642657069604,
          864.9165138547088,
          988.9952675451433,
          941.4100850460688,
          910.9371549223388,
          897.9653927544031,
          898.6729960819974,
          893.6619527639577,
          904.732502663562,
          935.4046941190849,
          1007.9718795208088,
          1025.1889857311874,
          1125.57993579254,
          1176.3507968302542,
          1053.3430645111239,
          971.2205686475917,
          907.219594066337,
          859.7426225044637,
          867.9583852734027
         ]
        }
       ],
       "layout": {
        "legend": {
         "orientation": "h",
         "x": -0.1,
         "y": 1.2
        },
        "title": "Hourly price trend - Tehran<br><span style=\"font-size: 1rem\">rides: 60,013</span>",
        "width": 900,
        "xaxis": {
         "dtick": 1,
         "showticklabels": true,
         "title": "Hour"
        },
        "yaxis": {
         "title": "Price (per km)"
        }
       }
      },
      "text/html": [
       "<div id=\"8ea935de-e59e-487d-843a-f5fcfda7f7db\" style=\"height: 525px; width: 900px;\" class=\"plotly-graph-div\"></div><script type=\"text/javascript\">require([\"plotly\"], function(Plotly) { window.PLOTLYENV=window.PLOTLYENV || {};window.PLOTLYENV.BASE_URL=\"https://plot.ly\";Plotly.newPlot(\"8ea935de-e59e-487d-843a-f5fcfda7f7db\", [{\"line\": {\"color\": \"#00ADB5\", \"width\": 2}, \"mode\": \"lines+markers\", \"name\": \"Snapp - avg: 955\", \"x\": [0, 1, 2, 3, 4, 5, 6, 7, 8, 9, 10, 11, 12, 13, 14, 15, 16, 17, 18, 19, 20, 21, 22, 23], \"y\": [944.1532398488924, 942.4929246511722, 876.4531393094443, 928.8289115667242, 845.4241463808386, 842.9781351349654, 975.1958663685134, 1064.501619842566, 947.5072584199199, 886.700378147487, 847.8134219097482, 840.23072071834, 851.3225804106484, 886.5332011688846, 914.3340224145812, 1030.3716032524972, 1131.4486149989182, 1229.3106606391495, 1279.3308936851129, 1187.5555896092446, 957.1615766559391, 852.9273362805358, 824.7305268045537, 837.1990076092383], \"type\": \"scatter\", \"uid\": \"56f7ce74-c3cd-4b20-87a2-bdf1628f9ed0\"}, {\"line\": {\"color\": \"#000000\", \"width\": 2}, \"mode\": \"lines+markers\", \"name\": \"Tap30 - avg: 940\", \"x\": [0, 1, 2, 3, 4, 5, 6, 7, 8, 9, 10, 11, 12, 13, 14, 15, 16, 17, 18, 19, 20, 21, 22, 23], \"y\": [865.0379280538473, 895.7917591560084, 910.7326666891165, 915.6829276069711, 889.9392907009169, 843.1642657069604, 864.9165138547088, 988.9952675451433, 941.4100850460688, 910.9371549223388, 897.9653927544031, 898.6729960819974, 893.6619527639577, 904.732502663562, 935.4046941190849, 1007.9718795208088, 1025.1889857311874, 1125.57993579254, 1176.3507968302542, 1053.3430645111239, 971.2205686475917, 907.219594066337, 859.7426225044637, 867.9583852734027], \"type\": \"scatter\", \"uid\": \"1123a6c8-7be3-485e-8169-d74d02afafa7\"}], {\"legend\": {\"orientation\": \"h\", \"x\": -0.1, \"y\": 1.2}, \"title\": \"Hourly price trend - Tehran<br><span style=\\\"font-size: 1rem\\\">rides: 60,013</span>\", \"width\": 900, \"xaxis\": {\"dtick\": 1, \"showticklabels\": true, \"title\": \"Hour\"}, \"yaxis\": {\"title\": \"Price (per km)\"}}, {\"showLink\": true, \"linkText\": \"Export to plot.ly\"})});</script>"
      ],
      "text/vnd.plotly.v1+html": [
       "<div id=\"8ea935de-e59e-487d-843a-f5fcfda7f7db\" style=\"height: 525px; width: 900px;\" class=\"plotly-graph-div\"></div><script type=\"text/javascript\">require([\"plotly\"], function(Plotly) { window.PLOTLYENV=window.PLOTLYENV || {};window.PLOTLYENV.BASE_URL=\"https://plot.ly\";Plotly.newPlot(\"8ea935de-e59e-487d-843a-f5fcfda7f7db\", [{\"line\": {\"color\": \"#00ADB5\", \"width\": 2}, \"mode\": \"lines+markers\", \"name\": \"Snapp - avg: 955\", \"x\": [0, 1, 2, 3, 4, 5, 6, 7, 8, 9, 10, 11, 12, 13, 14, 15, 16, 17, 18, 19, 20, 21, 22, 23], \"y\": [944.1532398488924, 942.4929246511722, 876.4531393094443, 928.8289115667242, 845.4241463808386, 842.9781351349654, 975.1958663685134, 1064.501619842566, 947.5072584199199, 886.700378147487, 847.8134219097482, 840.23072071834, 851.3225804106484, 886.5332011688846, 914.3340224145812, 1030.3716032524972, 1131.4486149989182, 1229.3106606391495, 1279.3308936851129, 1187.5555896092446, 957.1615766559391, 852.9273362805358, 824.7305268045537, 837.1990076092383], \"type\": \"scatter\", \"uid\": \"56f7ce74-c3cd-4b20-87a2-bdf1628f9ed0\"}, {\"line\": {\"color\": \"#000000\", \"width\": 2}, \"mode\": \"lines+markers\", \"name\": \"Tap30 - avg: 940\", \"x\": [0, 1, 2, 3, 4, 5, 6, 7, 8, 9, 10, 11, 12, 13, 14, 15, 16, 17, 18, 19, 20, 21, 22, 23], \"y\": [865.0379280538473, 895.7917591560084, 910.7326666891165, 915.6829276069711, 889.9392907009169, 843.1642657069604, 864.9165138547088, 988.9952675451433, 941.4100850460688, 910.9371549223388, 897.9653927544031, 898.6729960819974, 893.6619527639577, 904.732502663562, 935.4046941190849, 1007.9718795208088, 1025.1889857311874, 1125.57993579254, 1176.3507968302542, 1053.3430645111239, 971.2205686475917, 907.219594066337, 859.7426225044637, 867.9583852734027], \"type\": \"scatter\", \"uid\": \"1123a6c8-7be3-485e-8169-d74d02afafa7\"}], {\"legend\": {\"orientation\": \"h\", \"x\": -0.1, \"y\": 1.2}, \"title\": \"Hourly price trend - Tehran<br><span style=\\\"font-size: 1rem\\\">rides: 60,013</span>\", \"width\": 900, \"xaxis\": {\"dtick\": 1, \"showticklabels\": true, \"title\": \"Hour\"}, \"yaxis\": {\"title\": \"Price (per km)\"}}, {\"showLink\": true, \"linkText\": \"Export to plot.ly\"})});</script>"
      ]
     },
     "metadata": {},
     "output_type": "display_data"
    }
   ],
   "source": [
    "snapp_mean = df_tehran[df_tehran.service == \"Snapp\"].price_per_km.mean()\n",
    "tap30_mean = df_tehran[df_tehran.service == \"Tap30\"].price_per_km.mean()\n",
    "\n",
    "trace1 = go.Scatter(\n",
    "    x = df_tehran_g.timestamp,\n",
    "    y = df_tehran_g.snapp_price,\n",
    "    mode = 'lines+markers',\n",
    "    name = 'Snapp - avg: {0:.0f}'.format(round(snapp_mean,0)),\n",
    "    line = dict(\n",
    "        color = ('#00ADB5'),\n",
    "        width = 2)\n",
    ")\n",
    "trace2 = go.Scatter(\n",
    "    x = df_tehran_g.timestamp,\n",
    "    y = df_tehran_g.tap30_price,\n",
    "    mode = 'lines+markers',\n",
    "    name = 'Tap30 - avg: {0:.0f}'.format(round(tap30_mean,0)),\n",
    "    line = dict(\n",
    "        color = ('#000000'),\n",
    "        width = 2)\n",
    ")\n",
    "\n",
    "data = [trace1, trace2]\n",
    "\n",
    "layout = dict(title = 'Hourly price trend - Tehran<br><span style=\"font-size: 1rem\">rides: {:,.0f}</span>'.format(df_tehran.timestamp.count()/2),\n",
    "              xaxis = dict(title = 'Hour', showticklabels=True, dtick=1),\n",
    "              yaxis = dict(title = 'Price (per km)'),\n",
    "              legend=dict(orientation=\"h\", x=-.1, y=1.2),\n",
    "              width = 900\n",
    "              )\n",
    "fig = dict(data=data, layout=layout)\n",
    "iplot(fig)"
   ]
  },
  {
   "cell_type": "code",
   "execution_count": 5,
   "metadata": {},
   "outputs": [
    {
     "name": "stdout",
     "output_type": "stream",
     "text": [
      "This is the format of your plot grid:\n",
      "[ (1,1) x1,y1 ]  [ (1,2) x2,y2 ]\n",
      "[ (2,1) x3,y3 ]  [ (2,2) x4,y4 ]\n",
      "\n"
     ]
    },
    {
     "data": {
      "application/vnd.plotly.v1+json": {
       "data": [
        {
         "line": {
          "color": "#00ADB5",
          "width": 2
         },
         "mode": "lines+markers",
         "name": "Snapp",
         "type": "scatter",
         "uid": "1a1385e6-31bd-417d-b7bc-eecff8b729c3",
         "x": [
          0,
          1,
          2,
          3,
          4,
          5,
          6,
          7,
          8,
          9,
          10,
          11,
          12,
          13,
          14,
          15,
          16,
          17,
          18,
          19,
          20,
          21,
          22,
          23
         ],
         "xaxis": "x",
         "y": [
          944.1532398488924,
          942.4929246511722,
          876.4531393094443,
          928.8289115667242,
          845.4241463808386,
          842.9781351349654,
          975.1958663685134,
          1064.501619842566,
          947.5072584199199,
          886.700378147487,
          847.8134219097482,
          840.23072071834,
          851.3225804106484,
          886.5332011688846,
          914.3340224145812,
          1030.3716032524972,
          1131.4486149989182,
          1229.3106606391495,
          1279.3308936851129,
          1187.5555896092446,
          957.1615766559391,
          852.9273362805358,
          824.7305268045537,
          837.1990076092383
         ],
         "yaxis": "y"
        },
        {
         "line": {
          "color": "#000000",
          "width": 2
         },
         "mode": "lines+markers",
         "name": "Tap30",
         "type": "scatter",
         "uid": "ebfa9b39-f368-4714-823f-87439f2e5a68",
         "x": [
          0,
          1,
          2,
          3,
          4,
          5,
          6,
          7,
          8,
          9,
          10,
          11,
          12,
          13,
          14,
          15,
          16,
          17,
          18,
          19,
          20,
          21,
          22,
          23
         ],
         "xaxis": "x",
         "y": [
          865.0379280538473,
          895.7917591560084,
          910.7326666891165,
          915.6829276069711,
          889.9392907009169,
          843.1642657069604,
          864.9165138547088,
          988.9952675451433,
          941.4100850460688,
          910.9371549223388,
          897.9653927544031,
          898.6729960819974,
          893.6619527639577,
          904.732502663562,
          935.4046941190849,
          1007.9718795208088,
          1025.1889857311874,
          1125.57993579254,
          1176.3507968302542,
          1053.3430645111239,
          971.2205686475917,
          907.219594066337,
          859.7426225044637,
          867.9583852734027
         ],
         "yaxis": "y"
        },
        {
         "line": {
          "color": "#00ADB5",
          "width": 2
         },
         "mode": "lines+markers",
         "name": "Snapp",
         "showlegend": false,
         "type": "scatter",
         "uid": "b72bc8f7-5986-404f-9e1a-b5110c2b3f65",
         "x": [
          0,
          1,
          2,
          3,
          4,
          5,
          6,
          7,
          8,
          9,
          10,
          11,
          12,
          13,
          14,
          15,
          16,
          17,
          18,
          19,
          20,
          21,
          22,
          23
         ],
         "xaxis": "x2",
         "y": [
          564.4686351787129,
          555.2078905801692,
          521.7360450578025,
          548.8616816779794,
          531.8187518020793,
          562.4191000625332,
          528.5771631850964,
          548.1091940228579,
          468.39789210924584,
          455.0966257638158,
          475.10211232918385,
          462.1523144154792,
          459.1781436268572,
          482.4019476168895,
          489.101166806921,
          446.0039374885847,
          476.9246248298821,
          500.45481513193937,
          538.3804950182482,
          511.55757099765265,
          456.84042433109255,
          469.4551527701724,
          491.58851146196594,
          482.770917925949
         ],
         "yaxis": "y2"
        },
        {
         "line": {
          "color": "#000000",
          "width": 2
         },
         "mode": "lines+markers",
         "name": "Tap30",
         "showlegend": false,
         "type": "scatter",
         "uid": "fb7b66d8-4b6b-4e5b-acc2-fd5ac9908919",
         "x": [
          0,
          1,
          2,
          3,
          4,
          5,
          6,
          7,
          8,
          9,
          10,
          11,
          12,
          13,
          14,
          15,
          16,
          17,
          18,
          19,
          20,
          21,
          22,
          23
         ],
         "xaxis": "x2",
         "y": [
          567.5129369680293,
          552.869218171111,
          531.5107901531721,
          556.773470787905,
          535.8564680757958,
          569.6101371291172,
          554.0131864861337,
          558.8804242441179,
          558.5425827117723,
          533.8355995132173,
          545.5565867655284,
          529.3860476605358,
          536.6912035654047,
          555.7137682532141,
          551.5291108181384,
          523.2093548142277,
          535.510796627168,
          543.1023955706514,
          552.6254170747658,
          547.9239078286781,
          543.0353021722806,
          511.11703364480235,
          525.0035625186597,
          547.3920883343756
         ],
         "yaxis": "y2"
        },
        {
         "line": {
          "color": "#00ADB5",
          "width": 2
         },
         "mode": "lines+markers",
         "name": "Snapp",
         "showlegend": false,
         "type": "scatter",
         "uid": "e7cf6691-217b-4bbf-9bc1-9d1d4c36e099",
         "x": [
          0,
          1,
          2,
          3,
          4,
          5,
          6,
          7,
          8,
          9,
          10,
          11,
          12,
          13,
          14,
          15,
          16,
          17,
          18,
          19,
          20,
          21,
          22,
          23
         ],
         "xaxis": "x3",
         "y": [
          654.0336013699147,
          698.7577005202655,
          706.4249055966465,
          677.1098052689678,
          679.8041835881317,
          691.2733915838787,
          630.4296988929317,
          665.4559694374419,
          569.5510654198687,
          562.8098784263115,
          564.4398753201505,
          558.0746674646451,
          554.0950287667692,
          590.7314882261862,
          589.3794722107255,
          564.5768214093505,
          544.9628830120407,
          641.0142041613933,
          692.0916999577422,
          672.0014776738659,
          635.0207753636863,
          630.7421824004023,
          641.7420366623836,
          670.43343982995
         ],
         "yaxis": "y3"
        },
        {
         "line": {
          "color": "#000000",
          "width": 2
         },
         "mode": "lines+markers",
         "name": "Tap30",
         "showlegend": false,
         "type": "scatter",
         "uid": "9cf737f3-0ee1-4c20-8d91-408eb1382303",
         "x": [
          0,
          1,
          2,
          3,
          4,
          5,
          6,
          7,
          8,
          9,
          10,
          11,
          12,
          13,
          14,
          15,
          16,
          17,
          18,
          19,
          20,
          21,
          22,
          23
         ],
         "xaxis": "x3",
         "y": [
          615.3969493495437,
          626.6931940318663,
          644.1637207017013,
          642.9316158539218,
          618.5543556985059,
          608.7220452281492,
          584.8636438419294,
          644.946730343488,
          598.2439838280084,
          576.2088653982692,
          581.5653393338509,
          592.6083502002131,
          586.9788796387021,
          623.872048022542,
          643.4382588172691,
          612.5311978347871,
          611.6478281720545,
          689.7623449742298,
          737.5300018300851,
          691.2427828218679,
          671.025842944015,
          606.8921790879183,
          629.3223433661344,
          630.3808082917157
         ],
         "yaxis": "y3"
        },
        {
         "line": {
          "color": "#00ADB5",
          "width": 2
         },
         "mode": "lines+markers",
         "name": "Snapp",
         "showlegend": false,
         "type": "scatter",
         "uid": "6a61f74d-975a-449d-8b18-d6b861a9fb07",
         "x": [
          0,
          1,
          2,
          3,
          4,
          5,
          6,
          7,
          8,
          9,
          10,
          11,
          12,
          13,
          14,
          15,
          16,
          17,
          18,
          19,
          20,
          21,
          22,
          23
         ],
         "xaxis": "x4",
         "y": [
          535.3133134065877,
          535.7425885494339,
          543.4312535449876,
          557.6006874325735,
          561.5001626618108,
          550.2069557399703,
          493.82533047250246,
          549.69255918404,
          450.38103588815426,
          460.7948882502334,
          467.43898971339235,
          468.8173565007096,
          459.57837208895836,
          499.2290481971504,
          564.3129491503536,
          536.9042990777073,
          526.8396759635492,
          535.0466190094663,
          632.3237344485987,
          592.0960661115516,
          566.1821612032786,
          573.7092834952813,
          516.8410920840549,
          521.9113117930794
         ],
         "yaxis": "y4"
        },
        {
         "line": {
          "color": "#000000",
          "width": 2
         },
         "mode": "lines+markers",
         "name": "Tap30",
         "showlegend": false,
         "type": "scatter",
         "uid": "2776a9c6-d909-4960-b616-88f99ef626f3",
         "x": [
          0,
          1,
          2,
          3,
          4,
          5,
          6,
          7,
          8,
          9,
          10,
          11,
          12,
          13,
          14,
          15,
          16,
          17,
          18,
          19,
          20,
          21,
          22,
          23
         ],
         "xaxis": "x4",
         "y": [
          520.0594366262986,
          531.5002534917697,
          544.4586046304204,
          582.8237498462315,
          587.9128546964055,
          574.0196446805516,
          535.334585989586,
          543.819896016606,
          534.3336886522716,
          533.4785719978187,
          534.0726163197818,
          521.7351025533856,
          534.9289412720797,
          530.195414716834,
          551.5268251982432,
          554.5773484094282,
          532.3285273839839,
          548.7092794157074,
          584.3181770656066,
          532.7779652465771,
          543.9475433589804,
          536.0642229189483,
          528.0444784651563,
          529.4279227216554
         ],
         "yaxis": "y4"
        }
       ],
       "layout": {
        "annotations": [
         {
          "font": {
           "size": 16
          },
          "showarrow": false,
          "text": "Tehran",
          "x": 0.225,
          "xanchor": "center",
          "xref": "paper",
          "y": 1,
          "yanchor": "bottom",
          "yref": "paper"
         },
         {
          "font": {
           "size": 16
          },
          "showarrow": false,
          "text": "Urmia",
          "x": 0.775,
          "xanchor": "center",
          "xref": "paper",
          "y": 1,
          "yanchor": "bottom",
          "yref": "paper"
         },
         {
          "font": {
           "size": 16
          },
          "showarrow": false,
          "text": "Karaj",
          "x": 0.225,
          "xanchor": "center",
          "xref": "paper",
          "y": 0.375,
          "yanchor": "bottom",
          "yref": "paper"
         },
         {
          "font": {
           "size": 16
          },
          "showarrow": false,
          "text": "Tabriz",
          "x": 0.775,
          "xanchor": "center",
          "xref": "paper",
          "y": 0.375,
          "yanchor": "bottom",
          "yref": "paper"
         }
        ],
        "legend": {
         "orientation": "h",
         "x": -0.1,
         "y": 1.2
        },
        "title": "Hourly price trend",
        "width": 900,
        "xaxis": {
         "anchor": "y",
         "domain": [
          0,
          0.45
         ],
         "dtick": 6
        },
        "xaxis2": {
         "anchor": "y2",
         "domain": [
          0.55,
          1
         ],
         "dtick": 6
        },
        "xaxis3": {
         "anchor": "y3",
         "domain": [
          0,
          0.45
         ],
         "dtick": 6
        },
        "xaxis4": {
         "anchor": "y4",
         "domain": [
          0.55,
          1
         ],
         "dtick": 6
        },
        "yaxis": {
         "anchor": "x",
         "domain": [
          0.625,
          1
         ]
        },
        "yaxis2": {
         "anchor": "x2",
         "domain": [
          0.625,
          1
         ]
        },
        "yaxis3": {
         "anchor": "x3",
         "domain": [
          0,
          0.375
         ]
        },
        "yaxis4": {
         "anchor": "x4",
         "domain": [
          0,
          0.375
         ]
        }
       }
      },
      "text/html": [
       "<div id=\"2888cfa4-b6d0-4231-a3b0-86555cb1fcdf\" style=\"height: 525px; width: 900px;\" class=\"plotly-graph-div\"></div><script type=\"text/javascript\">require([\"plotly\"], function(Plotly) { window.PLOTLYENV=window.PLOTLYENV || {};window.PLOTLYENV.BASE_URL=\"https://plot.ly\";Plotly.newPlot(\"2888cfa4-b6d0-4231-a3b0-86555cb1fcdf\", [{\"line\": {\"color\": \"#00ADB5\", \"width\": 2}, \"mode\": \"lines+markers\", \"name\": \"Snapp\", \"x\": [0, 1, 2, 3, 4, 5, 6, 7, 8, 9, 10, 11, 12, 13, 14, 15, 16, 17, 18, 19, 20, 21, 22, 23], \"y\": [944.1532398488924, 942.4929246511722, 876.4531393094443, 928.8289115667242, 845.4241463808386, 842.9781351349654, 975.1958663685134, 1064.501619842566, 947.5072584199199, 886.700378147487, 847.8134219097482, 840.23072071834, 851.3225804106484, 886.5332011688846, 914.3340224145812, 1030.3716032524972, 1131.4486149989182, 1229.3106606391495, 1279.3308936851129, 1187.5555896092446, 957.1615766559391, 852.9273362805358, 824.7305268045537, 837.1990076092383], \"type\": \"scatter\", \"uid\": \"1a1385e6-31bd-417d-b7bc-eecff8b729c3\", \"xaxis\": \"x\", \"yaxis\": \"y\"}, {\"line\": {\"color\": \"#000000\", \"width\": 2}, \"mode\": \"lines+markers\", \"name\": \"Tap30\", \"x\": [0, 1, 2, 3, 4, 5, 6, 7, 8, 9, 10, 11, 12, 13, 14, 15, 16, 17, 18, 19, 20, 21, 22, 23], \"y\": [865.0379280538473, 895.7917591560084, 910.7326666891165, 915.6829276069711, 889.9392907009169, 843.1642657069604, 864.9165138547088, 988.9952675451433, 941.4100850460688, 910.9371549223388, 897.9653927544031, 898.6729960819974, 893.6619527639577, 904.732502663562, 935.4046941190849, 1007.9718795208088, 1025.1889857311874, 1125.57993579254, 1176.3507968302542, 1053.3430645111239, 971.2205686475917, 907.219594066337, 859.7426225044637, 867.9583852734027], \"type\": \"scatter\", \"uid\": \"ebfa9b39-f368-4714-823f-87439f2e5a68\", \"xaxis\": \"x\", \"yaxis\": \"y\"}, {\"line\": {\"color\": \"#00ADB5\", \"width\": 2}, \"mode\": \"lines+markers\", \"name\": \"Snapp\", \"showlegend\": false, \"x\": [0, 1, 2, 3, 4, 5, 6, 7, 8, 9, 10, 11, 12, 13, 14, 15, 16, 17, 18, 19, 20, 21, 22, 23], \"xaxis\": \"x2\", \"y\": [564.4686351787129, 555.2078905801692, 521.7360450578025, 548.8616816779794, 531.8187518020793, 562.4191000625332, 528.5771631850964, 548.1091940228579, 468.39789210924584, 455.0966257638158, 475.10211232918385, 462.1523144154792, 459.1781436268572, 482.4019476168895, 489.101166806921, 446.0039374885847, 476.9246248298821, 500.45481513193937, 538.3804950182482, 511.55757099765265, 456.84042433109255, 469.4551527701724, 491.58851146196594, 482.770917925949], \"yaxis\": \"y2\", \"type\": \"scatter\", \"uid\": \"b72bc8f7-5986-404f-9e1a-b5110c2b3f65\"}, {\"line\": {\"color\": \"#000000\", \"width\": 2}, \"mode\": \"lines+markers\", \"name\": \"Tap30\", \"showlegend\": false, \"x\": [0, 1, 2, 3, 4, 5, 6, 7, 8, 9, 10, 11, 12, 13, 14, 15, 16, 17, 18, 19, 20, 21, 22, 23], \"xaxis\": \"x2\", \"y\": [567.5129369680293, 552.869218171111, 531.5107901531721, 556.773470787905, 535.8564680757958, 569.6101371291172, 554.0131864861337, 558.8804242441179, 558.5425827117723, 533.8355995132173, 545.5565867655284, 529.3860476605358, 536.6912035654047, 555.7137682532141, 551.5291108181384, 523.2093548142277, 535.510796627168, 543.1023955706514, 552.6254170747658, 547.9239078286781, 543.0353021722806, 511.11703364480235, 525.0035625186597, 547.3920883343756], \"yaxis\": \"y2\", \"type\": \"scatter\", \"uid\": \"fb7b66d8-4b6b-4e5b-acc2-fd5ac9908919\"}, {\"line\": {\"color\": \"#00ADB5\", \"width\": 2}, \"mode\": \"lines+markers\", \"name\": \"Snapp\", \"showlegend\": false, \"x\": [0, 1, 2, 3, 4, 5, 6, 7, 8, 9, 10, 11, 12, 13, 14, 15, 16, 17, 18, 19, 20, 21, 22, 23], \"xaxis\": \"x3\", \"y\": [654.0336013699147, 698.7577005202655, 706.4249055966465, 677.1098052689678, 679.8041835881317, 691.2733915838787, 630.4296988929317, 665.4559694374419, 569.5510654198687, 562.8098784263115, 564.4398753201505, 558.0746674646451, 554.0950287667692, 590.7314882261862, 589.3794722107255, 564.5768214093505, 544.9628830120407, 641.0142041613933, 692.0916999577422, 672.0014776738659, 635.0207753636863, 630.7421824004023, 641.7420366623836, 670.43343982995], \"yaxis\": \"y3\", \"type\": \"scatter\", \"uid\": \"e7cf6691-217b-4bbf-9bc1-9d1d4c36e099\"}, {\"line\": {\"color\": \"#000000\", \"width\": 2}, \"mode\": \"lines+markers\", \"name\": \"Tap30\", \"showlegend\": false, \"x\": [0, 1, 2, 3, 4, 5, 6, 7, 8, 9, 10, 11, 12, 13, 14, 15, 16, 17, 18, 19, 20, 21, 22, 23], \"xaxis\": \"x3\", \"y\": [615.3969493495437, 626.6931940318663, 644.1637207017013, 642.9316158539218, 618.5543556985059, 608.7220452281492, 584.8636438419294, 644.946730343488, 598.2439838280084, 576.2088653982692, 581.5653393338509, 592.6083502002131, 586.9788796387021, 623.872048022542, 643.4382588172691, 612.5311978347871, 611.6478281720545, 689.7623449742298, 737.5300018300851, 691.2427828218679, 671.025842944015, 606.8921790879183, 629.3223433661344, 630.3808082917157], \"yaxis\": \"y3\", \"type\": \"scatter\", \"uid\": \"9cf737f3-0ee1-4c20-8d91-408eb1382303\"}, {\"line\": {\"color\": \"#00ADB5\", \"width\": 2}, \"mode\": \"lines+markers\", \"name\": \"Snapp\", \"showlegend\": false, \"x\": [0, 1, 2, 3, 4, 5, 6, 7, 8, 9, 10, 11, 12, 13, 14, 15, 16, 17, 18, 19, 20, 21, 22, 23], \"y\": [535.3133134065877, 535.7425885494339, 543.4312535449876, 557.6006874325735, 561.5001626618108, 550.2069557399703, 493.82533047250246, 549.69255918404, 450.38103588815426, 460.7948882502334, 467.43898971339235, 468.8173565007096, 459.57837208895836, 499.2290481971504, 564.3129491503536, 536.9042990777073, 526.8396759635492, 535.0466190094663, 632.3237344485987, 592.0960661115516, 566.1821612032786, 573.7092834952813, 516.8410920840549, 521.9113117930794], \"type\": \"scatter\", \"uid\": \"6a61f74d-975a-449d-8b18-d6b861a9fb07\", \"xaxis\": \"x4\", \"yaxis\": \"y4\"}, {\"line\": {\"color\": \"#000000\", \"width\": 2}, \"mode\": \"lines+markers\", \"name\": \"Tap30\", \"showlegend\": false, \"x\": [0, 1, 2, 3, 4, 5, 6, 7, 8, 9, 10, 11, 12, 13, 14, 15, 16, 17, 18, 19, 20, 21, 22, 23], \"y\": [520.0594366262986, 531.5002534917697, 544.4586046304204, 582.8237498462315, 587.9128546964055, 574.0196446805516, 535.334585989586, 543.819896016606, 534.3336886522716, 533.4785719978187, 534.0726163197818, 521.7351025533856, 534.9289412720797, 530.195414716834, 551.5268251982432, 554.5773484094282, 532.3285273839839, 548.7092794157074, 584.3181770656066, 532.7779652465771, 543.9475433589804, 536.0642229189483, 528.0444784651563, 529.4279227216554], \"type\": \"scatter\", \"uid\": \"2776a9c6-d909-4960-b616-88f99ef626f3\", \"xaxis\": \"x4\", \"yaxis\": \"y4\"}], {\"annotations\": [{\"font\": {\"size\": 16}, \"showarrow\": false, \"text\": \"Tehran\", \"x\": 0.225, \"xanchor\": \"center\", \"xref\": \"paper\", \"y\": 1.0, \"yanchor\": \"bottom\", \"yref\": \"paper\"}, {\"font\": {\"size\": 16}, \"showarrow\": false, \"text\": \"Urmia\", \"x\": 0.775, \"xanchor\": \"center\", \"xref\": \"paper\", \"y\": 1.0, \"yanchor\": \"bottom\", \"yref\": \"paper\"}, {\"font\": {\"size\": 16}, \"showarrow\": false, \"text\": \"Karaj\", \"x\": 0.225, \"xanchor\": \"center\", \"xref\": \"paper\", \"y\": 0.375, \"yanchor\": \"bottom\", \"yref\": \"paper\"}, {\"font\": {\"size\": 16}, \"showarrow\": false, \"text\": \"Tabriz\", \"x\": 0.775, \"xanchor\": \"center\", \"xref\": \"paper\", \"y\": 0.375, \"yanchor\": \"bottom\", \"yref\": \"paper\"}], \"xaxis\": {\"anchor\": \"y\", \"domain\": [0.0, 0.45], \"dtick\": 6}, \"yaxis\": {\"anchor\": \"x\", \"domain\": [0.625, 1.0]}, \"xaxis2\": {\"anchor\": \"y2\", \"domain\": [0.55, 1.0], \"dtick\": 6}, \"yaxis2\": {\"anchor\": \"x2\", \"domain\": [0.625, 1.0]}, \"xaxis3\": {\"anchor\": \"y3\", \"domain\": [0.0, 0.45], \"dtick\": 6}, \"yaxis3\": {\"anchor\": \"x3\", \"domain\": [0.0, 0.375]}, \"xaxis4\": {\"anchor\": \"y4\", \"domain\": [0.55, 1.0], \"dtick\": 6}, \"yaxis4\": {\"anchor\": \"x4\", \"domain\": [0.0, 0.375]}, \"legend\": {\"orientation\": \"h\", \"x\": -0.1, \"y\": 1.2}, \"width\": 900, \"title\": \"Hourly price trend\"}, {\"showLink\": true, \"linkText\": \"Export to plot.ly\"})});</script>"
      ],
      "text/vnd.plotly.v1+html": [
       "<div id=\"2888cfa4-b6d0-4231-a3b0-86555cb1fcdf\" style=\"height: 525px; width: 900px;\" class=\"plotly-graph-div\"></div><script type=\"text/javascript\">require([\"plotly\"], function(Plotly) { window.PLOTLYENV=window.PLOTLYENV || {};window.PLOTLYENV.BASE_URL=\"https://plot.ly\";Plotly.newPlot(\"2888cfa4-b6d0-4231-a3b0-86555cb1fcdf\", [{\"line\": {\"color\": \"#00ADB5\", \"width\": 2}, \"mode\": \"lines+markers\", \"name\": \"Snapp\", \"x\": [0, 1, 2, 3, 4, 5, 6, 7, 8, 9, 10, 11, 12, 13, 14, 15, 16, 17, 18, 19, 20, 21, 22, 23], \"y\": [944.1532398488924, 942.4929246511722, 876.4531393094443, 928.8289115667242, 845.4241463808386, 842.9781351349654, 975.1958663685134, 1064.501619842566, 947.5072584199199, 886.700378147487, 847.8134219097482, 840.23072071834, 851.3225804106484, 886.5332011688846, 914.3340224145812, 1030.3716032524972, 1131.4486149989182, 1229.3106606391495, 1279.3308936851129, 1187.5555896092446, 957.1615766559391, 852.9273362805358, 824.7305268045537, 837.1990076092383], \"type\": \"scatter\", \"uid\": \"1a1385e6-31bd-417d-b7bc-eecff8b729c3\", \"xaxis\": \"x\", \"yaxis\": \"y\"}, {\"line\": {\"color\": \"#000000\", \"width\": 2}, \"mode\": \"lines+markers\", \"name\": \"Tap30\", \"x\": [0, 1, 2, 3, 4, 5, 6, 7, 8, 9, 10, 11, 12, 13, 14, 15, 16, 17, 18, 19, 20, 21, 22, 23], \"y\": [865.0379280538473, 895.7917591560084, 910.7326666891165, 915.6829276069711, 889.9392907009169, 843.1642657069604, 864.9165138547088, 988.9952675451433, 941.4100850460688, 910.9371549223388, 897.9653927544031, 898.6729960819974, 893.6619527639577, 904.732502663562, 935.4046941190849, 1007.9718795208088, 1025.1889857311874, 1125.57993579254, 1176.3507968302542, 1053.3430645111239, 971.2205686475917, 907.219594066337, 859.7426225044637, 867.9583852734027], \"type\": \"scatter\", \"uid\": \"ebfa9b39-f368-4714-823f-87439f2e5a68\", \"xaxis\": \"x\", \"yaxis\": \"y\"}, {\"line\": {\"color\": \"#00ADB5\", \"width\": 2}, \"mode\": \"lines+markers\", \"name\": \"Snapp\", \"showlegend\": false, \"x\": [0, 1, 2, 3, 4, 5, 6, 7, 8, 9, 10, 11, 12, 13, 14, 15, 16, 17, 18, 19, 20, 21, 22, 23], \"xaxis\": \"x2\", \"y\": [564.4686351787129, 555.2078905801692, 521.7360450578025, 548.8616816779794, 531.8187518020793, 562.4191000625332, 528.5771631850964, 548.1091940228579, 468.39789210924584, 455.0966257638158, 475.10211232918385, 462.1523144154792, 459.1781436268572, 482.4019476168895, 489.101166806921, 446.0039374885847, 476.9246248298821, 500.45481513193937, 538.3804950182482, 511.55757099765265, 456.84042433109255, 469.4551527701724, 491.58851146196594, 482.770917925949], \"yaxis\": \"y2\", \"type\": \"scatter\", \"uid\": \"b72bc8f7-5986-404f-9e1a-b5110c2b3f65\"}, {\"line\": {\"color\": \"#000000\", \"width\": 2}, \"mode\": \"lines+markers\", \"name\": \"Tap30\", \"showlegend\": false, \"x\": [0, 1, 2, 3, 4, 5, 6, 7, 8, 9, 10, 11, 12, 13, 14, 15, 16, 17, 18, 19, 20, 21, 22, 23], \"xaxis\": \"x2\", \"y\": [567.5129369680293, 552.869218171111, 531.5107901531721, 556.773470787905, 535.8564680757958, 569.6101371291172, 554.0131864861337, 558.8804242441179, 558.5425827117723, 533.8355995132173, 545.5565867655284, 529.3860476605358, 536.6912035654047, 555.7137682532141, 551.5291108181384, 523.2093548142277, 535.510796627168, 543.1023955706514, 552.6254170747658, 547.9239078286781, 543.0353021722806, 511.11703364480235, 525.0035625186597, 547.3920883343756], \"yaxis\": \"y2\", \"type\": \"scatter\", \"uid\": \"fb7b66d8-4b6b-4e5b-acc2-fd5ac9908919\"}, {\"line\": {\"color\": \"#00ADB5\", \"width\": 2}, \"mode\": \"lines+markers\", \"name\": \"Snapp\", \"showlegend\": false, \"x\": [0, 1, 2, 3, 4, 5, 6, 7, 8, 9, 10, 11, 12, 13, 14, 15, 16, 17, 18, 19, 20, 21, 22, 23], \"xaxis\": \"x3\", \"y\": [654.0336013699147, 698.7577005202655, 706.4249055966465, 677.1098052689678, 679.8041835881317, 691.2733915838787, 630.4296988929317, 665.4559694374419, 569.5510654198687, 562.8098784263115, 564.4398753201505, 558.0746674646451, 554.0950287667692, 590.7314882261862, 589.3794722107255, 564.5768214093505, 544.9628830120407, 641.0142041613933, 692.0916999577422, 672.0014776738659, 635.0207753636863, 630.7421824004023, 641.7420366623836, 670.43343982995], \"yaxis\": \"y3\", \"type\": \"scatter\", \"uid\": \"e7cf6691-217b-4bbf-9bc1-9d1d4c36e099\"}, {\"line\": {\"color\": \"#000000\", \"width\": 2}, \"mode\": \"lines+markers\", \"name\": \"Tap30\", \"showlegend\": false, \"x\": [0, 1, 2, 3, 4, 5, 6, 7, 8, 9, 10, 11, 12, 13, 14, 15, 16, 17, 18, 19, 20, 21, 22, 23], \"xaxis\": \"x3\", \"y\": [615.3969493495437, 626.6931940318663, 644.1637207017013, 642.9316158539218, 618.5543556985059, 608.7220452281492, 584.8636438419294, 644.946730343488, 598.2439838280084, 576.2088653982692, 581.5653393338509, 592.6083502002131, 586.9788796387021, 623.872048022542, 643.4382588172691, 612.5311978347871, 611.6478281720545, 689.7623449742298, 737.5300018300851, 691.2427828218679, 671.025842944015, 606.8921790879183, 629.3223433661344, 630.3808082917157], \"yaxis\": \"y3\", \"type\": \"scatter\", \"uid\": \"9cf737f3-0ee1-4c20-8d91-408eb1382303\"}, {\"line\": {\"color\": \"#00ADB5\", \"width\": 2}, \"mode\": \"lines+markers\", \"name\": \"Snapp\", \"showlegend\": false, \"x\": [0, 1, 2, 3, 4, 5, 6, 7, 8, 9, 10, 11, 12, 13, 14, 15, 16, 17, 18, 19, 20, 21, 22, 23], \"y\": [535.3133134065877, 535.7425885494339, 543.4312535449876, 557.6006874325735, 561.5001626618108, 550.2069557399703, 493.82533047250246, 549.69255918404, 450.38103588815426, 460.7948882502334, 467.43898971339235, 468.8173565007096, 459.57837208895836, 499.2290481971504, 564.3129491503536, 536.9042990777073, 526.8396759635492, 535.0466190094663, 632.3237344485987, 592.0960661115516, 566.1821612032786, 573.7092834952813, 516.8410920840549, 521.9113117930794], \"type\": \"scatter\", \"uid\": \"6a61f74d-975a-449d-8b18-d6b861a9fb07\", \"xaxis\": \"x4\", \"yaxis\": \"y4\"}, {\"line\": {\"color\": \"#000000\", \"width\": 2}, \"mode\": \"lines+markers\", \"name\": \"Tap30\", \"showlegend\": false, \"x\": [0, 1, 2, 3, 4, 5, 6, 7, 8, 9, 10, 11, 12, 13, 14, 15, 16, 17, 18, 19, 20, 21, 22, 23], \"y\": [520.0594366262986, 531.5002534917697, 544.4586046304204, 582.8237498462315, 587.9128546964055, 574.0196446805516, 535.334585989586, 543.819896016606, 534.3336886522716, 533.4785719978187, 534.0726163197818, 521.7351025533856, 534.9289412720797, 530.195414716834, 551.5268251982432, 554.5773484094282, 532.3285273839839, 548.7092794157074, 584.3181770656066, 532.7779652465771, 543.9475433589804, 536.0642229189483, 528.0444784651563, 529.4279227216554], \"type\": \"scatter\", \"uid\": \"2776a9c6-d909-4960-b616-88f99ef626f3\", \"xaxis\": \"x4\", \"yaxis\": \"y4\"}], {\"annotations\": [{\"font\": {\"size\": 16}, \"showarrow\": false, \"text\": \"Tehran\", \"x\": 0.225, \"xanchor\": \"center\", \"xref\": \"paper\", \"y\": 1.0, \"yanchor\": \"bottom\", \"yref\": \"paper\"}, {\"font\": {\"size\": 16}, \"showarrow\": false, \"text\": \"Urmia\", \"x\": 0.775, \"xanchor\": \"center\", \"xref\": \"paper\", \"y\": 1.0, \"yanchor\": \"bottom\", \"yref\": \"paper\"}, {\"font\": {\"size\": 16}, \"showarrow\": false, \"text\": \"Karaj\", \"x\": 0.225, \"xanchor\": \"center\", \"xref\": \"paper\", \"y\": 0.375, \"yanchor\": \"bottom\", \"yref\": \"paper\"}, {\"font\": {\"size\": 16}, \"showarrow\": false, \"text\": \"Tabriz\", \"x\": 0.775, \"xanchor\": \"center\", \"xref\": \"paper\", \"y\": 0.375, \"yanchor\": \"bottom\", \"yref\": \"paper\"}], \"xaxis\": {\"anchor\": \"y\", \"domain\": [0.0, 0.45], \"dtick\": 6}, \"yaxis\": {\"anchor\": \"x\", \"domain\": [0.625, 1.0]}, \"xaxis2\": {\"anchor\": \"y2\", \"domain\": [0.55, 1.0], \"dtick\": 6}, \"yaxis2\": {\"anchor\": \"x2\", \"domain\": [0.625, 1.0]}, \"xaxis3\": {\"anchor\": \"y3\", \"domain\": [0.0, 0.45], \"dtick\": 6}, \"yaxis3\": {\"anchor\": \"x3\", \"domain\": [0.0, 0.375]}, \"xaxis4\": {\"anchor\": \"y4\", \"domain\": [0.55, 1.0], \"dtick\": 6}, \"yaxis4\": {\"anchor\": \"x4\", \"domain\": [0.0, 0.375]}, \"legend\": {\"orientation\": \"h\", \"x\": -0.1, \"y\": 1.2}, \"width\": 900, \"title\": \"Hourly price trend\"}, {\"showLink\": true, \"linkText\": \"Export to plot.ly\"})});</script>"
      ]
     },
     "metadata": {},
     "output_type": "display_data"
    }
   ],
   "source": [
    "trace1 = go.Scatter(\n",
    "    x = df_tehran_g.timestamp,\n",
    "    y = df_tehran_g.snapp_price,\n",
    "    mode = 'lines+markers',\n",
    "    name = 'Snapp',\n",
    "    line = dict(\n",
    "        color = ('#00ADB5'),\n",
    "        width = 2)\n",
    ")\n",
    "trace2 = go.Scatter(\n",
    "    x = df_tehran_g.timestamp,\n",
    "    y = df_tehran_g.tap30_price,\n",
    "    mode = 'lines+markers',\n",
    "    name = 'Tap30',\n",
    "    line = dict(\n",
    "        color = ('#000000'),\n",
    "        width = 2)\n",
    ")\n",
    "\n",
    "trace3 = go.Scatter(\n",
    "    x = df_urmia_g.timestamp,\n",
    "    y = df_urmia_g.snapp_price,\n",
    "    mode = 'lines+markers',\n",
    "    name = 'Snapp',\n",
    "    line = dict(\n",
    "        color = ('#00ADB5'),\n",
    "        width = 2),\n",
    "    xaxis='x2',\n",
    "    yaxis='y2',\n",
    "    showlegend=False\n",
    ")\n",
    "trace4 = go.Scatter(\n",
    "    x = df_urmia_g.timestamp,\n",
    "    y = df_urmia_g.tap30_price,\n",
    "    mode = 'lines+markers',\n",
    "    name = 'Tap30',\n",
    "    line = dict(\n",
    "        color = ('#000000'),\n",
    "        width = 2),\n",
    "    xaxis='x2',\n",
    "    yaxis='y2',\n",
    "    showlegend=False\n",
    ")\n",
    "\n",
    "trace5 = go.Scatter(\n",
    "    x = df_karaj_g.timestamp,\n",
    "    y = df_karaj_g.snapp_price,\n",
    "    mode = 'lines+markers',\n",
    "    name = 'Snapp',\n",
    "    line = dict(\n",
    "        color = ('#00ADB5'),\n",
    "        width = 2),\n",
    "    xaxis='x2',\n",
    "    yaxis='y2',\n",
    "    showlegend=False\n",
    ")\n",
    "trace6 = go.Scatter(\n",
    "    x = df_karaj_g.timestamp,\n",
    "    y = df_karaj_g.tap30_price,\n",
    "    mode = 'lines+markers',\n",
    "    name = 'Tap30',\n",
    "    line = dict(\n",
    "        color = ('#000000'),\n",
    "        width = 2),\n",
    "    xaxis='x2',\n",
    "    yaxis='y2',\n",
    "    showlegend=False\n",
    ")\n",
    "\n",
    "trace7 = go.Scatter(\n",
    "    x = df_tabriz_g.timestamp,\n",
    "    y = df_tabriz_g.snapp_price,\n",
    "    mode = 'lines+markers',\n",
    "    name = 'Snapp',\n",
    "    line = dict(\n",
    "        color = ('#00ADB5'),\n",
    "        width = 2),\n",
    "    showlegend=False\n",
    ")\n",
    "trace8 = go.Scatter(\n",
    "    x = df_tabriz_g.timestamp,\n",
    "    y = df_tabriz_g.tap30_price,\n",
    "    mode = 'lines+markers',\n",
    "    name = 'Tap30',\n",
    "    line = dict(\n",
    "        color = ('#000000'),\n",
    "        width = 2),\n",
    "    showlegend=False\n",
    ")\n",
    "\n",
    "fig = tools.make_subplots(rows=2, cols=2, subplot_titles=('Tehran', 'Urmia',\n",
    "                                                          'Karaj', 'Tabriz'))\n",
    "\n",
    "fig.append_trace(trace1, 1, 1)\n",
    "fig.append_trace(trace2, 1, 1)\n",
    "fig.append_trace(trace3, 1, 2)\n",
    "fig.append_trace(trace4, 1, 2)\n",
    "fig.append_trace(trace5, 2, 1)\n",
    "fig.append_trace(trace6, 2, 1)\n",
    "fig.append_trace(trace7, 2, 2)\n",
    "fig.append_trace(trace8, 2, 2)\n",
    "\n",
    "fig['layout'].update(xaxis = dict(dtick=6), \n",
    "                     xaxis2 = dict(dtick=6),\n",
    "                     xaxis3 = dict(dtick=6), \n",
    "                     xaxis4 = dict(dtick=6),\n",
    "                     width=900, title='Hourly price trend', legend=dict(orientation=\"h\", x=-.1, y=1.2))\n",
    "\n",
    "iplot(fig, filename='Hourly price trend')"
   ]
  },
  {
   "cell_type": "code",
   "execution_count": 6,
   "metadata": {},
   "outputs": [
    {
     "data": {
      "text/html": [
       "<div>\n",
       "<style scoped>\n",
       "    .dataframe tbody tr th:only-of-type {\n",
       "        vertical-align: middle;\n",
       "    }\n",
       "\n",
       "    .dataframe tbody tr th {\n",
       "        vertical-align: top;\n",
       "    }\n",
       "\n",
       "    .dataframe thead th {\n",
       "        text-align: right;\n",
       "    }\n",
       "</style>\n",
       "<table border=\"1\" class=\"dataframe\">\n",
       "  <thead>\n",
       "    <tr style=\"text-align: right;\">\n",
       "      <th></th>\n",
       "      <th>timestamp</th>\n",
       "      <th>snapp_price</th>\n",
       "      <th>tap30_price</th>\n",
       "      <th>rank</th>\n",
       "    </tr>\n",
       "  </thead>\n",
       "  <tbody>\n",
       "    <tr>\n",
       "      <th>5</th>\n",
       "      <td>Sat</td>\n",
       "      <td>938.215403</td>\n",
       "      <td>933.398118</td>\n",
       "      <td>0</td>\n",
       "    </tr>\n",
       "    <tr>\n",
       "      <th>6</th>\n",
       "      <td>Sun</td>\n",
       "      <td>941.741967</td>\n",
       "      <td>946.136877</td>\n",
       "      <td>1</td>\n",
       "    </tr>\n",
       "    <tr>\n",
       "      <th>0</th>\n",
       "      <td>Mon</td>\n",
       "      <td>977.487952</td>\n",
       "      <td>972.160154</td>\n",
       "      <td>2</td>\n",
       "    </tr>\n",
       "    <tr>\n",
       "      <th>1</th>\n",
       "      <td>Tue</td>\n",
       "      <td>964.309742</td>\n",
       "      <td>932.290060</td>\n",
       "      <td>3</td>\n",
       "    </tr>\n",
       "    <tr>\n",
       "      <th>2</th>\n",
       "      <td>Wed</td>\n",
       "      <td>968.115737</td>\n",
       "      <td>946.897318</td>\n",
       "      <td>4</td>\n",
       "    </tr>\n",
       "    <tr>\n",
       "      <th>3</th>\n",
       "      <td>Thu</td>\n",
       "      <td>938.451105</td>\n",
       "      <td>905.207359</td>\n",
       "      <td>5</td>\n",
       "    </tr>\n",
       "    <tr>\n",
       "      <th>4</th>\n",
       "      <td>Fri</td>\n",
       "      <td>928.917351</td>\n",
       "      <td>892.533473</td>\n",
       "      <td>6</td>\n",
       "    </tr>\n",
       "  </tbody>\n",
       "</table>\n",
       "</div>"
      ],
      "text/plain": [
       "  timestamp  snapp_price  tap30_price  rank\n",
       "5       Sat   938.215403   933.398118     0\n",
       "6       Sun   941.741967   946.136877     1\n",
       "0       Mon   977.487952   972.160154     2\n",
       "1       Tue   964.309742   932.290060     3\n",
       "2       Wed   968.115737   946.897318     4\n",
       "3       Thu   938.451105   905.207359     5\n",
       "4       Fri   928.917351   892.533473     6"
      ]
     },
     "execution_count": 6,
     "metadata": {},
     "output_type": "execute_result"
    }
   ],
   "source": [
    "# weekday\n",
    "df_tehran = df.copy()[df.city == \"Tehran\"]\n",
    "df_tehran['timestamp'] = pd.to_datetime(df_tehran['timestamp'])\n",
    "df_tehran_g = df_tehran.groupby([df_tehran.timestamp.dt.weekday, df_tehran.service], as_index=True).agg({\n",
    "    'price_per_km': 'mean'\n",
    "})\n",
    "df_tehran_g.reset_index(inplace=True)  \n",
    "\n",
    "df_snapp = df_tehran_g[df_tehran_g.service == \"Snapp\"][['timestamp', 'price_per_km']]\n",
    "df_snapp.columns = ['timestamp', 'snapp_price']\n",
    "df_tap30 = df_tehran_g[df_tehran_g.service == \"Tap30\"][['timestamp', 'price_per_km']]\n",
    "df_tap30.columns = ['timestamp', 'tap30_price']\n",
    "\n",
    "df_tehran_g = pd.merge(df_snapp, df_tap30)\n",
    "\n",
    "sorter = [5, 6, 0, 1, 2, 3, 4]\n",
    "sorterIndex = dict(zip(sorter,range(len(sorter))))\n",
    "df_tehran_g['rank'] = df_tehran_g['timestamp'].map(sorterIndex)\n",
    "df_tehran_g.sort_values(by='rank', inplace=True)\n",
    "df_tehran_g.timestamp = ['Sat', 'Sun', 'Mon', 'Tue', 'Wed', 'Thu', 'Fri']\n",
    "\n",
    "# urmia\n",
    "df_urmia = df.copy()[df.city == \"Urmia\"]\n",
    "df_urmia['timestamp'] = pd.to_datetime(df_urmia['timestamp'])\n",
    "df_urmia_g = df_urmia.groupby([df_urmia.timestamp.dt.weekday, df_urmia.service], as_index=True).agg({\n",
    "    'price_per_km': 'mean'\n",
    "})\n",
    "df_urmia_g.reset_index(inplace=True)  \n",
    "\n",
    "df_snapp = df_urmia_g[df_urmia_g.service == \"Snapp\"][['timestamp', 'price_per_km']]\n",
    "df_snapp.columns = ['timestamp', 'snapp_price']\n",
    "df_tap30 = df_urmia_g[df_urmia_g.service == \"Tap30\"][['timestamp', 'price_per_km']]\n",
    "df_tap30.columns = ['timestamp', 'tap30_price']\n",
    "\n",
    "df_urmia_g = pd.merge(df_snapp, df_tap30)\n",
    "\n",
    "sorter = [5, 6, 0, 1, 2, 3, 4]\n",
    "sorterIndex = dict(zip(sorter,range(len(sorter))))\n",
    "df_urmia_g['rank'] = df_urmia_g['timestamp'].map(sorterIndex)\n",
    "df_urmia_g.sort_values(by='rank', inplace=True)\n",
    "df_urmia_g.timestamp = ['Sat', 'Sun', 'Mon', 'Tue', 'Wed', 'Thu', 'Fri']\n",
    "\n",
    "# tabriz\n",
    "df_tabriz = df.copy()[df.city == \"Tabriz\"]\n",
    "df_tabriz['timestamp'] = pd.to_datetime(df_tabriz['timestamp'])\n",
    "df_tabriz_g = df_tabriz.groupby([df_tabriz.timestamp.dt.weekday, df_tabriz.service], as_index=True).agg({\n",
    "    'price_per_km': 'mean'\n",
    "})\n",
    "df_tabriz_g.reset_index(inplace=True)  \n",
    "\n",
    "df_snapp = df_tabriz_g[df_tabriz_g.service == \"Snapp\"][['timestamp', 'price_per_km']]\n",
    "df_snapp.columns = ['timestamp', 'snapp_price']\n",
    "df_tap30 = df_tabriz_g[df_tabriz_g.service == \"Tap30\"][['timestamp', 'price_per_km']]\n",
    "df_tap30.columns = ['timestamp', 'tap30_price']\n",
    "\n",
    "df_tabriz_g = pd.merge(df_snapp, df_tap30)\n",
    "\n",
    "sorter = [5, 6, 0, 1, 2, 3, 4]\n",
    "sorterIndex = dict(zip(sorter,range(len(sorter))))\n",
    "df_tabriz_g['rank'] = df_tabriz_g['timestamp'].map(sorterIndex)\n",
    "df_tabriz_g.sort_values(by='rank', inplace=True)\n",
    "df_tabriz_g.timestamp = ['Sat', 'Sun', 'Mon', 'Tue', 'Wed', 'Thu', 'Fri']\n",
    "\n",
    "# karaj\n",
    "df_karaj = df.copy()[df.city == \"Karaj\"]\n",
    "df_karaj['timestamp'] = pd.to_datetime(df_karaj['timestamp'])\n",
    "df_karaj_g = df_karaj.groupby([df_karaj.timestamp.dt.weekday, df_karaj.service], as_index=True).agg({\n",
    "    'price_per_km': 'mean'\n",
    "})\n",
    "df_karaj_g.reset_index(inplace=True)  \n",
    "\n",
    "df_snapp = df_karaj_g[df_karaj_g.service == \"Snapp\"][['timestamp', 'price_per_km']]\n",
    "df_snapp.columns = ['timestamp', 'snapp_price']\n",
    "df_tap30 = df_karaj_g[df_karaj_g.service == \"Tap30\"][['timestamp', 'price_per_km']]\n",
    "df_tap30.columns = ['timestamp', 'tap30_price']\n",
    "\n",
    "df_karaj_g = pd.merge(df_snapp, df_tap30)\n",
    "\n",
    "sorter = [5, 6, 0, 1, 2, 3, 4]\n",
    "sorterIndex = dict(zip(sorter,range(len(sorter))))\n",
    "df_karaj_g['rank'] = df_karaj_g['timestamp'].map(sorterIndex)\n",
    "df_karaj_g.sort_values(by='rank', inplace=True)\n",
    "df_karaj_g.timestamp = ['Sat', 'Sun', 'Mon', 'Tue', 'Wed', 'Thu', 'Fri']\n",
    "\n",
    "\n",
    "df_tehran_g.head(10)"
   ]
  },
  {
   "cell_type": "code",
   "execution_count": 7,
   "metadata": {},
   "outputs": [
    {
     "data": {
      "application/vnd.plotly.v1+json": {
       "data": [
        {
         "line": {
          "color": "#00ADB5",
          "width": 2
         },
         "mode": "lines+markers",
         "name": "Snapp",
         "type": "scatter",
         "uid": "67b8d86e-478e-401c-b3a1-f5fda97736bb",
         "x": [
          "Sat",
          "Sun",
          "Mon",
          "Tue",
          "Wed",
          "Thu",
          "Fri"
         ],
         "y": [
          938.2154028340418,
          941.7419670881923,
          977.4879515176771,
          964.3097416725628,
          968.1157365292826,
          938.4511050374279,
          928.9173508260906
         ]
        },
        {
         "line": {
          "color": "#000000",
          "width": 2
         },
         "mode": "lines+markers",
         "name": "Tap30",
         "type": "scatter",
         "uid": "27c82a12-7de8-4d6a-9f42-dedbaadcc4c9",
         "x": [
          "Sat",
          "Sun",
          "Mon",
          "Tue",
          "Wed",
          "Thu",
          "Fri"
         ],
         "y": [
          933.3981178184349,
          946.1368774153128,
          972.1601535412559,
          932.2900603952934,
          946.8973175620762,
          905.2073593403014,
          892.5334728771986
         ]
        }
       ],
       "layout": {
        "legend": {
         "orientation": "h",
         "x": -0.1,
         "y": 1.2
        },
        "title": "Daily price trend - Tehran<br><span style=\"font-size: 1rem\">rides: 60,013</span>",
        "width": 900,
        "xaxis": {
         "dtick": 1,
         "showticklabels": true,
         "title": "Day of the week"
        },
        "yaxis": {
         "title": "Price (per km)"
        }
       }
      },
      "text/html": [
       "<div id=\"fab5f31b-1092-4edb-82d5-c61be676fe7c\" style=\"height: 525px; width: 900px;\" class=\"plotly-graph-div\"></div><script type=\"text/javascript\">require([\"plotly\"], function(Plotly) { window.PLOTLYENV=window.PLOTLYENV || {};window.PLOTLYENV.BASE_URL=\"https://plot.ly\";Plotly.newPlot(\"fab5f31b-1092-4edb-82d5-c61be676fe7c\", [{\"line\": {\"color\": \"#00ADB5\", \"width\": 2}, \"mode\": \"lines+markers\", \"name\": \"Snapp\", \"x\": [\"Sat\", \"Sun\", \"Mon\", \"Tue\", \"Wed\", \"Thu\", \"Fri\"], \"y\": [938.2154028340418, 941.7419670881923, 977.4879515176771, 964.3097416725628, 968.1157365292826, 938.4511050374279, 928.9173508260906], \"type\": \"scatter\", \"uid\": \"61bb7222-b84a-4ec6-bfa0-f9487c079222\"}, {\"line\": {\"color\": \"#000000\", \"width\": 2}, \"mode\": \"lines+markers\", \"name\": \"Tap30\", \"x\": [\"Sat\", \"Sun\", \"Mon\", \"Tue\", \"Wed\", \"Thu\", \"Fri\"], \"y\": [933.3981178184349, 946.1368774153128, 972.1601535412559, 932.2900603952934, 946.8973175620762, 905.2073593403014, 892.5334728771986], \"type\": \"scatter\", \"uid\": \"b0dab859-6ac9-4a25-916e-817710031f72\"}], {\"legend\": {\"orientation\": \"h\", \"x\": -0.1, \"y\": 1.2}, \"title\": \"Daily price trend - Tehran<br><span style=\\\"font-size: 1rem\\\">rides: 60,013</span>\", \"width\": 900, \"xaxis\": {\"dtick\": 1, \"showticklabels\": true, \"title\": \"Day of the week\"}, \"yaxis\": {\"title\": \"Price (per km)\"}}, {\"showLink\": true, \"linkText\": \"Export to plot.ly\"})});</script>"
      ],
      "text/vnd.plotly.v1+html": [
       "<div id=\"fab5f31b-1092-4edb-82d5-c61be676fe7c\" style=\"height: 525px; width: 900px;\" class=\"plotly-graph-div\"></div><script type=\"text/javascript\">require([\"plotly\"], function(Plotly) { window.PLOTLYENV=window.PLOTLYENV || {};window.PLOTLYENV.BASE_URL=\"https://plot.ly\";Plotly.newPlot(\"fab5f31b-1092-4edb-82d5-c61be676fe7c\", [{\"line\": {\"color\": \"#00ADB5\", \"width\": 2}, \"mode\": \"lines+markers\", \"name\": \"Snapp\", \"x\": [\"Sat\", \"Sun\", \"Mon\", \"Tue\", \"Wed\", \"Thu\", \"Fri\"], \"y\": [938.2154028340418, 941.7419670881923, 977.4879515176771, 964.3097416725628, 968.1157365292826, 938.4511050374279, 928.9173508260906], \"type\": \"scatter\", \"uid\": \"61bb7222-b84a-4ec6-bfa0-f9487c079222\"}, {\"line\": {\"color\": \"#000000\", \"width\": 2}, \"mode\": \"lines+markers\", \"name\": \"Tap30\", \"x\": [\"Sat\", \"Sun\", \"Mon\", \"Tue\", \"Wed\", \"Thu\", \"Fri\"], \"y\": [933.3981178184349, 946.1368774153128, 972.1601535412559, 932.2900603952934, 946.8973175620762, 905.2073593403014, 892.5334728771986], \"type\": \"scatter\", \"uid\": \"b0dab859-6ac9-4a25-916e-817710031f72\"}], {\"legend\": {\"orientation\": \"h\", \"x\": -0.1, \"y\": 1.2}, \"title\": \"Daily price trend - Tehran<br><span style=\\\"font-size: 1rem\\\">rides: 60,013</span>\", \"width\": 900, \"xaxis\": {\"dtick\": 1, \"showticklabels\": true, \"title\": \"Day of the week\"}, \"yaxis\": {\"title\": \"Price (per km)\"}}, {\"showLink\": true, \"linkText\": \"Export to plot.ly\"})});</script>"
      ]
     },
     "metadata": {},
     "output_type": "display_data"
    }
   ],
   "source": [
    "trace1 = go.Scatter(\n",
    "    x = df_tehran_g.timestamp,\n",
    "    y = df_tehran_g.snapp_price,\n",
    "    mode = 'lines+markers',\n",
    "    name = 'Snapp',\n",
    "    line = dict(\n",
    "        color = ('#00ADB5'),\n",
    "        width = 2)\n",
    ")\n",
    "trace2 = go.Scatter(\n",
    "    x = df_tehran_g.timestamp,\n",
    "    y = df_tehran_g.tap30_price,\n",
    "    mode = 'lines+markers',\n",
    "    name = 'Tap30',\n",
    "    line = dict(\n",
    "        color = ('#000000'),\n",
    "        width = 2)\n",
    ")\n",
    "\n",
    "data = [trace1, trace2]\n",
    "\n",
    "layout = dict(title = 'Daily price trend - Tehran<br><span style=\"font-size: 1rem\">rides: {:,.0f}</span>'.format(df_tehran.timestamp.count()/2),\n",
    "              xaxis = dict(title = 'Day of the week', showticklabels=True, dtick=1,),\n",
    "              yaxis = dict(title = 'Price (per km)'),\n",
    "              legend=dict(orientation=\"h\", x=-.1, y=1.2),\n",
    "              width = 900\n",
    "              )\n",
    "fig = dict(data=data, layout=layout)\n",
    "iplot(fig)"
   ]
  },
  {
   "cell_type": "code",
   "execution_count": 8,
   "metadata": {},
   "outputs": [
    {
     "name": "stdout",
     "output_type": "stream",
     "text": [
      "This is the format of your plot grid:\n",
      "[ (1,1) x1,y1 ]  [ (1,2) x2,y2 ]\n",
      "[ (2,1) x3,y3 ]  [ (2,2) x4,y4 ]\n",
      "\n"
     ]
    },
    {
     "data": {
      "application/vnd.plotly.v1+json": {
       "data": [
        {
         "line": {
          "color": "#00ADB5",
          "width": 2
         },
         "mode": "lines+markers",
         "name": "Snapp",
         "type": "scatter",
         "uid": "b7e5e272-1e44-429c-a530-c4a37ebf442e",
         "x": [
          "Sat",
          "Sun",
          "Mon",
          "Tue",
          "Wed",
          "Thu",
          "Fri"
         ],
         "xaxis": "x",
         "y": [
          938.2154028340418,
          941.7419670881923,
          977.4879515176771,
          964.3097416725628,
          968.1157365292826,
          938.4511050374279,
          928.9173508260906
         ],
         "yaxis": "y"
        },
        {
         "line": {
          "color": "#000000",
          "width": 2
         },
         "mode": "lines+markers",
         "name": "Tap30",
         "type": "scatter",
         "uid": "4fc38499-5d44-45f2-bba5-ae514da009cd",
         "x": [
          "Sat",
          "Sun",
          "Mon",
          "Tue",
          "Wed",
          "Thu",
          "Fri"
         ],
         "xaxis": "x",
         "y": [
          933.3981178184349,
          946.1368774153128,
          972.1601535412559,
          932.2900603952934,
          946.8973175620762,
          905.2073593403014,
          892.5334728771986
         ],
         "yaxis": "y"
        },
        {
         "line": {
          "color": "#00ADB5",
          "width": 2
         },
         "mode": "lines+markers",
         "name": "Snapp",
         "showlegend": false,
         "type": "scatter",
         "uid": "f952dcd4-d31c-453f-8722-869747cea839",
         "x": [
          "Sat",
          "Sun",
          "Mon",
          "Tue",
          "Wed",
          "Thu",
          "Fri"
         ],
         "xaxis": "x2",
         "y": [
          498.06990696021586,
          505.2677762067338,
          504.8432723540555,
          499.3791866684992,
          499.3252343719651,
          495.1051604600334,
          501.67328279377926
         ],
         "yaxis": "y2"
        },
        {
         "line": {
          "color": "#000000",
          "width": 2
         },
         "mode": "lines+markers",
         "name": "Tap30",
         "showlegend": false,
         "type": "scatter",
         "uid": "6cf39c51-eb74-4892-80c4-3e6348503733",
         "x": [
          "Sat",
          "Sun",
          "Mon",
          "Tue",
          "Wed",
          "Thu",
          "Fri"
         ],
         "xaxis": "x2",
         "y": [
          536.9973120889247,
          545.3735022089418,
          548.3278175067721,
          545.4834278410699,
          542.3983715517434,
          546.0579654347761,
          546.7308967738161
         ],
         "yaxis": "y2"
        },
        {
         "line": {
          "color": "#00ADB5",
          "width": 2
         },
         "mode": "lines+markers",
         "name": "Snapp",
         "showlegend": false,
         "type": "scatter",
         "uid": "8c8bb1c8-d1b7-494b-b09b-e386c12b2113",
         "x": [
          "Sat",
          "Sun",
          "Mon",
          "Tue",
          "Wed",
          "Thu",
          "Fri"
         ],
         "xaxis": "x3",
         "y": [
          616.1894876466913,
          618.6303065426498,
          621.4634614892562,
          624.7734171302022,
          629.0758363480127,
          650.3310827201316,
          688.7401260175002
         ],
         "yaxis": "y3"
        },
        {
         "line": {
          "color": "#000000",
          "width": 2
         },
         "mode": "lines+markers",
         "name": "Tap30",
         "showlegend": false,
         "type": "scatter",
         "uid": "ff55bb12-f322-4004-875b-c6940f112ddf",
         "x": [
          "Sat",
          "Sun",
          "Mon",
          "Tue",
          "Wed",
          "Thu",
          "Fri"
         ],
         "xaxis": "x3",
         "y": [
          618.0608343365791,
          622.5770274954527,
          631.75587605565,
          632.3541755374799,
          631.3023667145283,
          631.7009001197821,
          631.7187156603107
         ],
         "yaxis": "y3"
        },
        {
         "line": {
          "color": "#00ADB5",
          "width": 2
         },
         "mode": "lines+markers",
         "name": "Snapp",
         "showlegend": false,
         "type": "scatter",
         "uid": "ee22d145-c988-4e62-8e15-771c67ec3ae0",
         "x": [
          "Sat",
          "Sun",
          "Mon",
          "Tue",
          "Wed",
          "Thu",
          "Fri"
         ],
         "xaxis": "x4",
         "y": [
          523.1670742889353,
          517.7196577507879,
          531.6542499542617,
          532.9894418210866,
          537.6646167219187,
          530.1800354054313,
          541.8908986474319
         ],
         "yaxis": "y4"
        },
        {
         "line": {
          "color": "#000000",
          "width": 2
         },
         "mode": "lines+markers",
         "name": "Tap30",
         "showlegend": false,
         "type": "scatter",
         "uid": "e596a682-0d9f-41df-a680-2eb501b7babb",
         "x": [
          "Sat",
          "Sun",
          "Mon",
          "Tue",
          "Wed",
          "Thu",
          "Fri"
         ],
         "xaxis": "x4",
         "y": [
          536.3762296313614,
          534.2832692059782,
          546.2341960279762,
          543.4796764030747,
          550.7903850562687,
          558.9789296299774,
          544.2225063778577
         ],
         "yaxis": "y4"
        }
       ],
       "layout": {
        "annotations": [
         {
          "font": {
           "size": 16
          },
          "showarrow": false,
          "text": "Tehran",
          "x": 0.225,
          "xanchor": "center",
          "xref": "paper",
          "y": 1,
          "yanchor": "bottom",
          "yref": "paper"
         },
         {
          "font": {
           "size": 16
          },
          "showarrow": false,
          "text": "Urmia",
          "x": 0.775,
          "xanchor": "center",
          "xref": "paper",
          "y": 1,
          "yanchor": "bottom",
          "yref": "paper"
         },
         {
          "font": {
           "size": 16
          },
          "showarrow": false,
          "text": "Karaj",
          "x": 0.225,
          "xanchor": "center",
          "xref": "paper",
          "y": 0.375,
          "yanchor": "bottom",
          "yref": "paper"
         },
         {
          "font": {
           "size": 16
          },
          "showarrow": false,
          "text": "Tabriz",
          "x": 0.775,
          "xanchor": "center",
          "xref": "paper",
          "y": 0.375,
          "yanchor": "bottom",
          "yref": "paper"
         }
        ],
        "legend": {
         "orientation": "h",
         "x": -0.1,
         "y": 1.2
        },
        "title": "Daily price trend",
        "width": 900,
        "xaxis": {
         "anchor": "y",
         "domain": [
          0,
          0.45
         ],
         "dtick": 6
        },
        "xaxis2": {
         "anchor": "y2",
         "domain": [
          0.55,
          1
         ],
         "dtick": 6
        },
        "xaxis3": {
         "anchor": "y3",
         "domain": [
          0,
          0.45
         ],
         "dtick": 6
        },
        "xaxis4": {
         "anchor": "y4",
         "domain": [
          0.55,
          1
         ],
         "dtick": 6
        },
        "yaxis": {
         "anchor": "x",
         "domain": [
          0.625,
          1
         ]
        },
        "yaxis2": {
         "anchor": "x2",
         "domain": [
          0.625,
          1
         ]
        },
        "yaxis3": {
         "anchor": "x3",
         "domain": [
          0,
          0.375
         ]
        },
        "yaxis4": {
         "anchor": "x4",
         "domain": [
          0,
          0.375
         ]
        }
       }
      },
      "text/html": [
       "<div id=\"52a04d8e-0d3a-4db1-ad60-16cd38893b68\" style=\"height: 525px; width: 900px;\" class=\"plotly-graph-div\"></div><script type=\"text/javascript\">require([\"plotly\"], function(Plotly) { window.PLOTLYENV=window.PLOTLYENV || {};window.PLOTLYENV.BASE_URL=\"https://plot.ly\";Plotly.newPlot(\"52a04d8e-0d3a-4db1-ad60-16cd38893b68\", [{\"line\": {\"color\": \"#00ADB5\", \"width\": 2}, \"mode\": \"lines+markers\", \"name\": \"Snapp\", \"x\": [\"Sat\", \"Sun\", \"Mon\", \"Tue\", \"Wed\", \"Thu\", \"Fri\"], \"y\": [938.2154028340418, 941.7419670881923, 977.4879515176771, 964.3097416725628, 968.1157365292826, 938.4511050374279, 928.9173508260906], \"type\": \"scatter\", \"uid\": \"b7e5e272-1e44-429c-a530-c4a37ebf442e\", \"xaxis\": \"x\", \"yaxis\": \"y\"}, {\"line\": {\"color\": \"#000000\", \"width\": 2}, \"mode\": \"lines+markers\", \"name\": \"Tap30\", \"x\": [\"Sat\", \"Sun\", \"Mon\", \"Tue\", \"Wed\", \"Thu\", \"Fri\"], \"y\": [933.3981178184349, 946.1368774153128, 972.1601535412559, 932.2900603952934, 946.8973175620762, 905.2073593403014, 892.5334728771986], \"type\": \"scatter\", \"uid\": \"4fc38499-5d44-45f2-bba5-ae514da009cd\", \"xaxis\": \"x\", \"yaxis\": \"y\"}, {\"line\": {\"color\": \"#00ADB5\", \"width\": 2}, \"mode\": \"lines+markers\", \"name\": \"Snapp\", \"showlegend\": false, \"x\": [\"Sat\", \"Sun\", \"Mon\", \"Tue\", \"Wed\", \"Thu\", \"Fri\"], \"xaxis\": \"x2\", \"y\": [498.06990696021586, 505.2677762067338, 504.8432723540555, 499.3791866684992, 499.3252343719651, 495.1051604600334, 501.67328279377926], \"yaxis\": \"y2\", \"type\": \"scatter\", \"uid\": \"f952dcd4-d31c-453f-8722-869747cea839\"}, {\"line\": {\"color\": \"#000000\", \"width\": 2}, \"mode\": \"lines+markers\", \"name\": \"Tap30\", \"showlegend\": false, \"x\": [\"Sat\", \"Sun\", \"Mon\", \"Tue\", \"Wed\", \"Thu\", \"Fri\"], \"xaxis\": \"x2\", \"y\": [536.9973120889247, 545.3735022089418, 548.3278175067721, 545.4834278410699, 542.3983715517434, 546.0579654347761, 546.7308967738161], \"yaxis\": \"y2\", \"type\": \"scatter\", \"uid\": \"6cf39c51-eb74-4892-80c4-3e6348503733\"}, {\"line\": {\"color\": \"#00ADB5\", \"width\": 2}, \"mode\": \"lines+markers\", \"name\": \"Snapp\", \"showlegend\": false, \"x\": [\"Sat\", \"Sun\", \"Mon\", \"Tue\", \"Wed\", \"Thu\", \"Fri\"], \"xaxis\": \"x3\", \"y\": [616.1894876466913, 618.6303065426498, 621.4634614892562, 624.7734171302022, 629.0758363480127, 650.3310827201316, 688.7401260175002], \"yaxis\": \"y3\", \"type\": \"scatter\", \"uid\": \"8c8bb1c8-d1b7-494b-b09b-e386c12b2113\"}, {\"line\": {\"color\": \"#000000\", \"width\": 2}, \"mode\": \"lines+markers\", \"name\": \"Tap30\", \"showlegend\": false, \"x\": [\"Sat\", \"Sun\", \"Mon\", \"Tue\", \"Wed\", \"Thu\", \"Fri\"], \"xaxis\": \"x3\", \"y\": [618.0608343365791, 622.5770274954527, 631.75587605565, 632.3541755374799, 631.3023667145283, 631.7009001197821, 631.7187156603107], \"yaxis\": \"y3\", \"type\": \"scatter\", \"uid\": \"ff55bb12-f322-4004-875b-c6940f112ddf\"}, {\"line\": {\"color\": \"#00ADB5\", \"width\": 2}, \"mode\": \"lines+markers\", \"name\": \"Snapp\", \"showlegend\": false, \"x\": [\"Sat\", \"Sun\", \"Mon\", \"Tue\", \"Wed\", \"Thu\", \"Fri\"], \"y\": [523.1670742889353, 517.7196577507879, 531.6542499542617, 532.9894418210866, 537.6646167219187, 530.1800354054313, 541.8908986474319], \"type\": \"scatter\", \"uid\": \"ee22d145-c988-4e62-8e15-771c67ec3ae0\", \"xaxis\": \"x4\", \"yaxis\": \"y4\"}, {\"line\": {\"color\": \"#000000\", \"width\": 2}, \"mode\": \"lines+markers\", \"name\": \"Tap30\", \"showlegend\": false, \"x\": [\"Sat\", \"Sun\", \"Mon\", \"Tue\", \"Wed\", \"Thu\", \"Fri\"], \"y\": [536.3762296313614, 534.2832692059782, 546.2341960279762, 543.4796764030747, 550.7903850562687, 558.9789296299774, 544.2225063778577], \"type\": \"scatter\", \"uid\": \"e596a682-0d9f-41df-a680-2eb501b7babb\", \"xaxis\": \"x4\", \"yaxis\": \"y4\"}], {\"annotations\": [{\"font\": {\"size\": 16}, \"showarrow\": false, \"text\": \"Tehran\", \"x\": 0.225, \"xanchor\": \"center\", \"xref\": \"paper\", \"y\": 1.0, \"yanchor\": \"bottom\", \"yref\": \"paper\"}, {\"font\": {\"size\": 16}, \"showarrow\": false, \"text\": \"Urmia\", \"x\": 0.775, \"xanchor\": \"center\", \"xref\": \"paper\", \"y\": 1.0, \"yanchor\": \"bottom\", \"yref\": \"paper\"}, {\"font\": {\"size\": 16}, \"showarrow\": false, \"text\": \"Karaj\", \"x\": 0.225, \"xanchor\": \"center\", \"xref\": \"paper\", \"y\": 0.375, \"yanchor\": \"bottom\", \"yref\": \"paper\"}, {\"font\": {\"size\": 16}, \"showarrow\": false, \"text\": \"Tabriz\", \"x\": 0.775, \"xanchor\": \"center\", \"xref\": \"paper\", \"y\": 0.375, \"yanchor\": \"bottom\", \"yref\": \"paper\"}], \"xaxis\": {\"anchor\": \"y\", \"domain\": [0.0, 0.45], \"dtick\": 6}, \"yaxis\": {\"anchor\": \"x\", \"domain\": [0.625, 1.0]}, \"xaxis2\": {\"anchor\": \"y2\", \"domain\": [0.55, 1.0], \"dtick\": 6}, \"yaxis2\": {\"anchor\": \"x2\", \"domain\": [0.625, 1.0]}, \"xaxis3\": {\"anchor\": \"y3\", \"domain\": [0.0, 0.45], \"dtick\": 6}, \"yaxis3\": {\"anchor\": \"x3\", \"domain\": [0.0, 0.375]}, \"xaxis4\": {\"anchor\": \"y4\", \"domain\": [0.55, 1.0], \"dtick\": 6}, \"yaxis4\": {\"anchor\": \"x4\", \"domain\": [0.0, 0.375]}, \"legend\": {\"orientation\": \"h\", \"x\": -0.1, \"y\": 1.2}, \"width\": 900, \"title\": \"Daily price trend\"}, {\"showLink\": true, \"linkText\": \"Export to plot.ly\"})});</script>"
      ],
      "text/vnd.plotly.v1+html": [
       "<div id=\"52a04d8e-0d3a-4db1-ad60-16cd38893b68\" style=\"height: 525px; width: 900px;\" class=\"plotly-graph-div\"></div><script type=\"text/javascript\">require([\"plotly\"], function(Plotly) { window.PLOTLYENV=window.PLOTLYENV || {};window.PLOTLYENV.BASE_URL=\"https://plot.ly\";Plotly.newPlot(\"52a04d8e-0d3a-4db1-ad60-16cd38893b68\", [{\"line\": {\"color\": \"#00ADB5\", \"width\": 2}, \"mode\": \"lines+markers\", \"name\": \"Snapp\", \"x\": [\"Sat\", \"Sun\", \"Mon\", \"Tue\", \"Wed\", \"Thu\", \"Fri\"], \"y\": [938.2154028340418, 941.7419670881923, 977.4879515176771, 964.3097416725628, 968.1157365292826, 938.4511050374279, 928.9173508260906], \"type\": \"scatter\", \"uid\": \"b7e5e272-1e44-429c-a530-c4a37ebf442e\", \"xaxis\": \"x\", \"yaxis\": \"y\"}, {\"line\": {\"color\": \"#000000\", \"width\": 2}, \"mode\": \"lines+markers\", \"name\": \"Tap30\", \"x\": [\"Sat\", \"Sun\", \"Mon\", \"Tue\", \"Wed\", \"Thu\", \"Fri\"], \"y\": [933.3981178184349, 946.1368774153128, 972.1601535412559, 932.2900603952934, 946.8973175620762, 905.2073593403014, 892.5334728771986], \"type\": \"scatter\", \"uid\": \"4fc38499-5d44-45f2-bba5-ae514da009cd\", \"xaxis\": \"x\", \"yaxis\": \"y\"}, {\"line\": {\"color\": \"#00ADB5\", \"width\": 2}, \"mode\": \"lines+markers\", \"name\": \"Snapp\", \"showlegend\": false, \"x\": [\"Sat\", \"Sun\", \"Mon\", \"Tue\", \"Wed\", \"Thu\", \"Fri\"], \"xaxis\": \"x2\", \"y\": [498.06990696021586, 505.2677762067338, 504.8432723540555, 499.3791866684992, 499.3252343719651, 495.1051604600334, 501.67328279377926], \"yaxis\": \"y2\", \"type\": \"scatter\", \"uid\": \"f952dcd4-d31c-453f-8722-869747cea839\"}, {\"line\": {\"color\": \"#000000\", \"width\": 2}, \"mode\": \"lines+markers\", \"name\": \"Tap30\", \"showlegend\": false, \"x\": [\"Sat\", \"Sun\", \"Mon\", \"Tue\", \"Wed\", \"Thu\", \"Fri\"], \"xaxis\": \"x2\", \"y\": [536.9973120889247, 545.3735022089418, 548.3278175067721, 545.4834278410699, 542.3983715517434, 546.0579654347761, 546.7308967738161], \"yaxis\": \"y2\", \"type\": \"scatter\", \"uid\": \"6cf39c51-eb74-4892-80c4-3e6348503733\"}, {\"line\": {\"color\": \"#00ADB5\", \"width\": 2}, \"mode\": \"lines+markers\", \"name\": \"Snapp\", \"showlegend\": false, \"x\": [\"Sat\", \"Sun\", \"Mon\", \"Tue\", \"Wed\", \"Thu\", \"Fri\"], \"xaxis\": \"x3\", \"y\": [616.1894876466913, 618.6303065426498, 621.4634614892562, 624.7734171302022, 629.0758363480127, 650.3310827201316, 688.7401260175002], \"yaxis\": \"y3\", \"type\": \"scatter\", \"uid\": \"8c8bb1c8-d1b7-494b-b09b-e386c12b2113\"}, {\"line\": {\"color\": \"#000000\", \"width\": 2}, \"mode\": \"lines+markers\", \"name\": \"Tap30\", \"showlegend\": false, \"x\": [\"Sat\", \"Sun\", \"Mon\", \"Tue\", \"Wed\", \"Thu\", \"Fri\"], \"xaxis\": \"x3\", \"y\": [618.0608343365791, 622.5770274954527, 631.75587605565, 632.3541755374799, 631.3023667145283, 631.7009001197821, 631.7187156603107], \"yaxis\": \"y3\", \"type\": \"scatter\", \"uid\": \"ff55bb12-f322-4004-875b-c6940f112ddf\"}, {\"line\": {\"color\": \"#00ADB5\", \"width\": 2}, \"mode\": \"lines+markers\", \"name\": \"Snapp\", \"showlegend\": false, \"x\": [\"Sat\", \"Sun\", \"Mon\", \"Tue\", \"Wed\", \"Thu\", \"Fri\"], \"y\": [523.1670742889353, 517.7196577507879, 531.6542499542617, 532.9894418210866, 537.6646167219187, 530.1800354054313, 541.8908986474319], \"type\": \"scatter\", \"uid\": \"ee22d145-c988-4e62-8e15-771c67ec3ae0\", \"xaxis\": \"x4\", \"yaxis\": \"y4\"}, {\"line\": {\"color\": \"#000000\", \"width\": 2}, \"mode\": \"lines+markers\", \"name\": \"Tap30\", \"showlegend\": false, \"x\": [\"Sat\", \"Sun\", \"Mon\", \"Tue\", \"Wed\", \"Thu\", \"Fri\"], \"y\": [536.3762296313614, 534.2832692059782, 546.2341960279762, 543.4796764030747, 550.7903850562687, 558.9789296299774, 544.2225063778577], \"type\": \"scatter\", \"uid\": \"e596a682-0d9f-41df-a680-2eb501b7babb\", \"xaxis\": \"x4\", \"yaxis\": \"y4\"}], {\"annotations\": [{\"font\": {\"size\": 16}, \"showarrow\": false, \"text\": \"Tehran\", \"x\": 0.225, \"xanchor\": \"center\", \"xref\": \"paper\", \"y\": 1.0, \"yanchor\": \"bottom\", \"yref\": \"paper\"}, {\"font\": {\"size\": 16}, \"showarrow\": false, \"text\": \"Urmia\", \"x\": 0.775, \"xanchor\": \"center\", \"xref\": \"paper\", \"y\": 1.0, \"yanchor\": \"bottom\", \"yref\": \"paper\"}, {\"font\": {\"size\": 16}, \"showarrow\": false, \"text\": \"Karaj\", \"x\": 0.225, \"xanchor\": \"center\", \"xref\": \"paper\", \"y\": 0.375, \"yanchor\": \"bottom\", \"yref\": \"paper\"}, {\"font\": {\"size\": 16}, \"showarrow\": false, \"text\": \"Tabriz\", \"x\": 0.775, \"xanchor\": \"center\", \"xref\": \"paper\", \"y\": 0.375, \"yanchor\": \"bottom\", \"yref\": \"paper\"}], \"xaxis\": {\"anchor\": \"y\", \"domain\": [0.0, 0.45], \"dtick\": 6}, \"yaxis\": {\"anchor\": \"x\", \"domain\": [0.625, 1.0]}, \"xaxis2\": {\"anchor\": \"y2\", \"domain\": [0.55, 1.0], \"dtick\": 6}, \"yaxis2\": {\"anchor\": \"x2\", \"domain\": [0.625, 1.0]}, \"xaxis3\": {\"anchor\": \"y3\", \"domain\": [0.0, 0.45], \"dtick\": 6}, \"yaxis3\": {\"anchor\": \"x3\", \"domain\": [0.0, 0.375]}, \"xaxis4\": {\"anchor\": \"y4\", \"domain\": [0.55, 1.0], \"dtick\": 6}, \"yaxis4\": {\"anchor\": \"x4\", \"domain\": [0.0, 0.375]}, \"legend\": {\"orientation\": \"h\", \"x\": -0.1, \"y\": 1.2}, \"width\": 900, \"title\": \"Daily price trend\"}, {\"showLink\": true, \"linkText\": \"Export to plot.ly\"})});</script>"
      ]
     },
     "metadata": {},
     "output_type": "display_data"
    }
   ],
   "source": [
    "trace1 = go.Scatter(\n",
    "    x = df_tehran_g.timestamp,\n",
    "    y = df_tehran_g.snapp_price,\n",
    "    mode = 'lines+markers',\n",
    "    name = 'Snapp',\n",
    "    line = dict(\n",
    "        color = ('#00ADB5'),\n",
    "        width = 2)\n",
    ")\n",
    "trace2 = go.Scatter(\n",
    "    x = df_tehran_g.timestamp,\n",
    "    y = df_tehran_g.tap30_price,\n",
    "    mode = 'lines+markers',\n",
    "    name = 'Tap30',\n",
    "    line = dict(\n",
    "        color = ('#000000'),\n",
    "        width = 2)\n",
    ")\n",
    "\n",
    "trace3 = go.Scatter(\n",
    "    x = df_urmia_g.timestamp,\n",
    "    y = df_urmia_g.snapp_price,\n",
    "    mode = 'lines+markers',\n",
    "    name = 'Snapp',\n",
    "    line = dict(\n",
    "        color = ('#00ADB5'),\n",
    "        width = 2),\n",
    "    xaxis='x2',\n",
    "    yaxis='y2',\n",
    "    showlegend=False\n",
    ")\n",
    "trace4 = go.Scatter(\n",
    "    x = df_urmia_g.timestamp,\n",
    "    y = df_urmia_g.tap30_price,\n",
    "    mode = 'lines+markers',\n",
    "    name = 'Tap30',\n",
    "    line = dict(\n",
    "        color = ('#000000'),\n",
    "        width = 2),\n",
    "    xaxis='x2',\n",
    "    yaxis='y2',\n",
    "    showlegend=False\n",
    ")\n",
    "\n",
    "trace5 = go.Scatter(\n",
    "    x = df_karaj_g.timestamp,\n",
    "    y = df_karaj_g.snapp_price,\n",
    "    mode = 'lines+markers',\n",
    "    name = 'Snapp',\n",
    "    line = dict(\n",
    "        color = ('#00ADB5'),\n",
    "        width = 2),\n",
    "    xaxis='x2',\n",
    "    yaxis='y2',\n",
    "    showlegend=False\n",
    ")\n",
    "trace6 = go.Scatter(\n",
    "    x = df_karaj_g.timestamp,\n",
    "    y = df_karaj_g.tap30_price,\n",
    "    mode = 'lines+markers',\n",
    "    name = 'Tap30',\n",
    "    line = dict(\n",
    "        color = ('#000000'),\n",
    "        width = 2),\n",
    "    xaxis='x2',\n",
    "    yaxis='y2',\n",
    "    showlegend=False\n",
    ")\n",
    "\n",
    "trace7 = go.Scatter(\n",
    "    x = df_tabriz_g.timestamp,\n",
    "    y = df_tabriz_g.snapp_price,\n",
    "    mode = 'lines+markers',\n",
    "    name = 'Snapp',\n",
    "    line = dict(\n",
    "        color = ('#00ADB5'),\n",
    "        width = 2),\n",
    "    showlegend=False\n",
    ")\n",
    "trace8 = go.Scatter(\n",
    "    x = df_tabriz_g.timestamp,\n",
    "    y = df_tabriz_g.tap30_price,\n",
    "    mode = 'lines+markers',\n",
    "    name = 'Tap30',\n",
    "    line = dict(\n",
    "        color = ('#000000'),\n",
    "        width = 2),\n",
    "    showlegend=False\n",
    ")\n",
    "\n",
    "fig = tools.make_subplots(rows=2, cols=2, subplot_titles=('Tehran', 'Urmia',\n",
    "                                                          'Karaj', 'Tabriz'))\n",
    "\n",
    "fig.append_trace(trace1, 1, 1)\n",
    "fig.append_trace(trace2, 1, 1)\n",
    "fig.append_trace(trace3, 1, 2)\n",
    "fig.append_trace(trace4, 1, 2)\n",
    "fig.append_trace(trace5, 2, 1)\n",
    "fig.append_trace(trace6, 2, 1)\n",
    "fig.append_trace(trace7, 2, 2)\n",
    "fig.append_trace(trace8, 2, 2)\n",
    "\n",
    "fig['layout'].update(xaxis = dict(dtick=6), \n",
    "                     xaxis2 = dict(dtick=6),\n",
    "                     xaxis3 = dict(dtick=6), \n",
    "                     xaxis4 = dict(dtick=6),\n",
    "                     width=900, title='Daily price trend', legend=dict(orientation=\"h\", x=-.1, y=1.2))\n",
    "\n",
    "iplot(fig, filename='Hourly price trend')"
   ]
  },
  {
   "cell_type": "code",
   "execution_count": 9,
   "metadata": {},
   "outputs": [
    {
     "data": {
      "text/html": [
       "<div>\n",
       "<style scoped>\n",
       "    .dataframe tbody tr th:only-of-type {\n",
       "        vertical-align: middle;\n",
       "    }\n",
       "\n",
       "    .dataframe tbody tr th {\n",
       "        vertical-align: top;\n",
       "    }\n",
       "\n",
       "    .dataframe thead th {\n",
       "        text-align: right;\n",
       "    }\n",
       "</style>\n",
       "<table border=\"1\" class=\"dataframe\">\n",
       "  <thead>\n",
       "    <tr style=\"text-align: right;\">\n",
       "      <th></th>\n",
       "      <th>city</th>\n",
       "      <th>service</th>\n",
       "      <th>is_surged</th>\n",
       "      <th>surge_rate</th>\n",
       "    </tr>\n",
       "  </thead>\n",
       "  <tbody>\n",
       "    <tr>\n",
       "      <th>0</th>\n",
       "      <td>Tehran</td>\n",
       "      <td>Snapp</td>\n",
       "      <td>False</td>\n",
       "      <td>99.19%</td>\n",
       "    </tr>\n",
       "    <tr>\n",
       "      <th>1</th>\n",
       "      <td>Tehran</td>\n",
       "      <td>Snapp</td>\n",
       "      <td>True</td>\n",
       "      <td>0.81%</td>\n",
       "    </tr>\n",
       "    <tr>\n",
       "      <th>2</th>\n",
       "      <td>Tehran</td>\n",
       "      <td>Tap30</td>\n",
       "      <td>False</td>\n",
       "      <td>91.53%</td>\n",
       "    </tr>\n",
       "    <tr>\n",
       "      <th>3</th>\n",
       "      <td>Tehran</td>\n",
       "      <td>Tap30</td>\n",
       "      <td>True</td>\n",
       "      <td>8.47%</td>\n",
       "    </tr>\n",
       "    <tr>\n",
       "      <th>4</th>\n",
       "      <td>Karaj</td>\n",
       "      <td>Snapp</td>\n",
       "      <td>False</td>\n",
       "      <td>98.77%</td>\n",
       "    </tr>\n",
       "    <tr>\n",
       "      <th>5</th>\n",
       "      <td>Karaj</td>\n",
       "      <td>Snapp</td>\n",
       "      <td>True</td>\n",
       "      <td>1.23%</td>\n",
       "    </tr>\n",
       "    <tr>\n",
       "      <th>6</th>\n",
       "      <td>Karaj</td>\n",
       "      <td>Tap30</td>\n",
       "      <td>False</td>\n",
       "      <td>93.31%</td>\n",
       "    </tr>\n",
       "    <tr>\n",
       "      <th>7</th>\n",
       "      <td>Karaj</td>\n",
       "      <td>Tap30</td>\n",
       "      <td>True</td>\n",
       "      <td>6.69%</td>\n",
       "    </tr>\n",
       "    <tr>\n",
       "      <th>8</th>\n",
       "      <td>Tabriz</td>\n",
       "      <td>Snapp</td>\n",
       "      <td>False</td>\n",
       "      <td>99.43%</td>\n",
       "    </tr>\n",
       "    <tr>\n",
       "      <th>9</th>\n",
       "      <td>Tabriz</td>\n",
       "      <td>Snapp</td>\n",
       "      <td>True</td>\n",
       "      <td>0.57%</td>\n",
       "    </tr>\n",
       "    <tr>\n",
       "      <th>10</th>\n",
       "      <td>Tabriz</td>\n",
       "      <td>Tap30</td>\n",
       "      <td>False</td>\n",
       "      <td>97.43%</td>\n",
       "    </tr>\n",
       "    <tr>\n",
       "      <th>11</th>\n",
       "      <td>Tabriz</td>\n",
       "      <td>Tap30</td>\n",
       "      <td>True</td>\n",
       "      <td>2.57%</td>\n",
       "    </tr>\n",
       "    <tr>\n",
       "      <th>12</th>\n",
       "      <td>Urmia</td>\n",
       "      <td>Snapp</td>\n",
       "      <td>False</td>\n",
       "      <td>99.75%</td>\n",
       "    </tr>\n",
       "    <tr>\n",
       "      <th>13</th>\n",
       "      <td>Urmia</td>\n",
       "      <td>Snapp</td>\n",
       "      <td>True</td>\n",
       "      <td>0.25%</td>\n",
       "    </tr>\n",
       "    <tr>\n",
       "      <th>14</th>\n",
       "      <td>Urmia</td>\n",
       "      <td>Tap30</td>\n",
       "      <td>False</td>\n",
       "      <td>99.81%</td>\n",
       "    </tr>\n",
       "    <tr>\n",
       "      <th>15</th>\n",
       "      <td>Urmia</td>\n",
       "      <td>Tap30</td>\n",
       "      <td>True</td>\n",
       "      <td>0.19%</td>\n",
       "    </tr>\n",
       "  </tbody>\n",
       "</table>\n",
       "</div>"
      ],
      "text/plain": [
       "      city service  is_surged surge_rate\n",
       "0   Tehran   Snapp      False     99.19%\n",
       "1   Tehran   Snapp       True      0.81%\n",
       "2   Tehran   Tap30      False     91.53%\n",
       "3   Tehran   Tap30       True      8.47%\n",
       "4    Karaj   Snapp      False     98.77%\n",
       "5    Karaj   Snapp       True      1.23%\n",
       "6    Karaj   Tap30      False     93.31%\n",
       "7    Karaj   Tap30       True      6.69%\n",
       "8   Tabriz   Snapp      False     99.43%\n",
       "9   Tabriz   Snapp       True      0.57%\n",
       "10  Tabriz   Tap30      False     97.43%\n",
       "11  Tabriz   Tap30       True      2.57%\n",
       "12   Urmia   Snapp      False     99.75%\n",
       "13   Urmia   Snapp       True      0.25%\n",
       "14   Urmia   Tap30      False     99.81%\n",
       "15   Urmia   Tap30       True      0.19%"
      ]
     },
     "execution_count": 9,
     "metadata": {},
     "output_type": "execute_result"
    }
   ],
   "source": [
    "## surged:\n",
    "df_surged = df.groupby(['city', 'is_surged', 'service'], as_index=False).count()[['city', 'service', 'is_surged', 'counts']]\n",
    "\n",
    "sorter = [\"Tehran\", \"Karaj\", \"Tabriz\", \"Urmia\"]\n",
    "sorterIndex = dict(zip(sorter,range(len(sorter))))\n",
    "df_surged['rank'] = df_surged['city'].map(sorterIndex)\n",
    "df_surged.sort_values(by=['rank', 'service'], inplace=True)\n",
    "del df_surged['rank']\n",
    "\n",
    "df_g2 = df_surged.groupby(['city', 'service'], as_index=False).sum()[['city', 'service', 'counts']]\n",
    "df_merge = pd.merge(df_surged, df_g2, on=['city', 'service'],how='left')\n",
    "df_merge['surge_rate'] = df_merge.counts_x / df_merge.counts_y\n",
    "\n",
    "del df_merge['counts_x']\n",
    "del df_merge['counts_y']\n",
    "\n",
    "df_merge['surge_rate'] = pd.Series([\"{0:.2f}%\".format(val * 100) for val in df_merge['surge_rate']], index = df_merge.index)\n",
    "\n",
    "df_merge"
   ]
  },
  {
   "cell_type": "code",
   "execution_count": 10,
   "metadata": {},
   "outputs": [
    {
     "data": {
      "text/html": [
       "<div>\n",
       "<style scoped>\n",
       "    .dataframe tbody tr th:only-of-type {\n",
       "        vertical-align: middle;\n",
       "    }\n",
       "\n",
       "    .dataframe tbody tr th {\n",
       "        vertical-align: top;\n",
       "    }\n",
       "\n",
       "    .dataframe thead th {\n",
       "        text-align: right;\n",
       "    }\n",
       "</style>\n",
       "<table border=\"1\" class=\"dataframe\">\n",
       "  <thead>\n",
       "    <tr style=\"text-align: right;\">\n",
       "      <th></th>\n",
       "      <th>service</th>\n",
       "      <th>is_surged</th>\n",
       "      <th>counts</th>\n",
       "      <th>label</th>\n",
       "    </tr>\n",
       "  </thead>\n",
       "  <tbody>\n",
       "    <tr>\n",
       "      <th>0</th>\n",
       "      <td>Snapp</td>\n",
       "      <td>False</td>\n",
       "      <td>73589</td>\n",
       "      <td>Snapp - normal</td>\n",
       "    </tr>\n",
       "    <tr>\n",
       "      <th>1</th>\n",
       "      <td>Snapp</td>\n",
       "      <td>True</td>\n",
       "      <td>581</td>\n",
       "      <td>Snapp - surged</td>\n",
       "    </tr>\n",
       "    <tr>\n",
       "      <th>2</th>\n",
       "      <td>Tap30</td>\n",
       "      <td>False</td>\n",
       "      <td>68633</td>\n",
       "      <td>Tap30 - normal</td>\n",
       "    </tr>\n",
       "    <tr>\n",
       "      <th>3</th>\n",
       "      <td>Tap30</td>\n",
       "      <td>True</td>\n",
       "      <td>5531</td>\n",
       "      <td>Tap30 - surged</td>\n",
       "    </tr>\n",
       "  </tbody>\n",
       "</table>\n",
       "</div>"
      ],
      "text/plain": [
       "  service  is_surged  counts           label\n",
       "0   Snapp      False   73589  Snapp - normal\n",
       "1   Snapp       True     581  Snapp - surged\n",
       "2   Tap30      False   68633  Tap30 - normal\n",
       "3   Tap30       True    5531  Tap30 - surged"
      ]
     },
     "execution_count": 10,
     "metadata": {},
     "output_type": "execute_result"
    }
   ],
   "source": [
    "df_surged_g = df_surged.groupby(['service', 'is_surged'], as_index=False).sum()\n",
    "df_surged_g['label'] = ['Snapp - normal', 'Snapp - surged', 'Tap30 - normal', 'Tap30 - surged']\n",
    "df_surged_g"
   ]
  },
  {
   "cell_type": "code",
   "execution_count": 11,
   "metadata": {},
   "outputs": [
    {
     "data": {
      "application/vnd.plotly.v1+json": {
       "data": [
        {
         "domain": {
          "x": [
           0,
           1
          ],
          "y": [
           0.52,
           1
          ]
         },
         "hoverinfo": "label+percent+name",
         "labels": [
          "Snapp - normal",
          "Snapp - surged"
         ],
         "marker": {
          "colors": [
           "#00ADB5",
           "#006064"
          ]
         },
         "name": "Sunflowers",
         "type": "pie",
         "uid": "87ce7124-c7b2-4c8b-a2e6-7b59e0899518",
         "values": [
          73589,
          581
         ]
        },
        {
         "domain": {
          "x": [
           0,
           1
          ],
          "y": [
           0,
           0.48
          ]
         },
         "hoverinfo": "label+percent+name",
         "labels": [
          "Tap30 - normal",
          "Tap30 - surged"
         ],
         "marker": {
          "colors": [
           "#6d6d6d",
           "#000000"
          ]
         },
         "name": "Starry Night",
         "type": "pie",
         "uid": "8790027a-86ad-4fe7-9784-0001b1ff2602",
         "values": [
          68633,
          5531
         ]
        }
       ],
       "layout": {
        "font": {
         "size": 18
        },
        "height": 800,
        "legend": {
         "font": {
          "size": 12
         }
        },
        "title": "Surged Rate<br><span style=\"font-size: 1rem\">rides: 60,013</span>",
        "width": 500
       }
      },
      "text/html": [
       "<div id=\"c4206cb6-254d-4a7f-9429-47505b742903\" style=\"height: 800px; width: 500px;\" class=\"plotly-graph-div\"></div><script type=\"text/javascript\">require([\"plotly\"], function(Plotly) { window.PLOTLYENV=window.PLOTLYENV || {};window.PLOTLYENV.BASE_URL=\"https://plot.ly\";Plotly.newPlot(\"c4206cb6-254d-4a7f-9429-47505b742903\", [{\"domain\": {\"x\": [0, 1], \"y\": [0.52, 1]}, \"hoverinfo\": \"label+percent+name\", \"labels\": [\"Snapp - normal\", \"Snapp - surged\"], \"marker\": {\"colors\": [\"#00ADB5\", \"#006064\"]}, \"name\": \"Sunflowers\", \"values\": [73589, 581], \"type\": \"pie\", \"uid\": \"b16c2ba1-e4b6-4864-ae2c-2a6a125305d6\"}, {\"domain\": {\"x\": [0, 1], \"y\": [0, 0.48]}, \"hoverinfo\": \"label+percent+name\", \"labels\": [\"Tap30 - normal\", \"Tap30 - surged\"], \"marker\": {\"colors\": [\"#6d6d6d\", \"#000000\"]}, \"name\": \"Starry Night\", \"values\": [68633, 5531], \"type\": \"pie\", \"uid\": \"ecfdb772-7483-4a7b-bcf2-2ef029a4822c\"}], {\"font\": {\"size\": 18}, \"height\": 800, \"legend\": {\"font\": {\"size\": 12}}, \"title\": \"Surged Rate<br><span style=\\\"font-size: 1rem\\\">rides: 60,013</span>\", \"width\": 500}, {\"showLink\": true, \"linkText\": \"Export to plot.ly\"})});</script>"
      ],
      "text/vnd.plotly.v1+html": [
       "<div id=\"c4206cb6-254d-4a7f-9429-47505b742903\" style=\"height: 800px; width: 500px;\" class=\"plotly-graph-div\"></div><script type=\"text/javascript\">require([\"plotly\"], function(Plotly) { window.PLOTLYENV=window.PLOTLYENV || {};window.PLOTLYENV.BASE_URL=\"https://plot.ly\";Plotly.newPlot(\"c4206cb6-254d-4a7f-9429-47505b742903\", [{\"domain\": {\"x\": [0, 1], \"y\": [0.52, 1]}, \"hoverinfo\": \"label+percent+name\", \"labels\": [\"Snapp - normal\", \"Snapp - surged\"], \"marker\": {\"colors\": [\"#00ADB5\", \"#006064\"]}, \"name\": \"Sunflowers\", \"values\": [73589, 581], \"type\": \"pie\", \"uid\": \"b16c2ba1-e4b6-4864-ae2c-2a6a125305d6\"}, {\"domain\": {\"x\": [0, 1], \"y\": [0, 0.48]}, \"hoverinfo\": \"label+percent+name\", \"labels\": [\"Tap30 - normal\", \"Tap30 - surged\"], \"marker\": {\"colors\": [\"#6d6d6d\", \"#000000\"]}, \"name\": \"Starry Night\", \"values\": [68633, 5531], \"type\": \"pie\", \"uid\": \"ecfdb772-7483-4a7b-bcf2-2ef029a4822c\"}], {\"font\": {\"size\": 18}, \"height\": 800, \"legend\": {\"font\": {\"size\": 12}}, \"title\": \"Surged Rate<br><span style=\\\"font-size: 1rem\\\">rides: 60,013</span>\", \"width\": 500}, {\"showLink\": true, \"linkText\": \"Export to plot.ly\"})});</script>"
      ]
     },
     "metadata": {},
     "output_type": "display_data"
    }
   ],
   "source": [
    "fig = {\n",
    "    'data': [\n",
    "        {\n",
    "            'labels': df_surged_g[df_surged_g.service == \"Snapp\"].label.tolist(),\n",
    "            'values': df_surged_g[df_surged_g.service == \"Snapp\"].counts.tolist(),\n",
    "            'marker': {'colors': ['#00ADB5',\n",
    "                                  '#006064',\n",
    "                                 ]},\n",
    "            'type': 'pie',\n",
    "            'name': 'Sunflowers',\n",
    "            'domain': {'y': [.52, 1],\n",
    "                       'x': [0, 1]},\n",
    "            'hoverinfo':'label+percent+name',\n",
    "\n",
    "        },\n",
    "        {\n",
    "            'labels': df_surged_g[df_surged_g.service == \"Tap30\"].label.tolist(),\n",
    "            'values': df_surged_g[df_surged_g.service == \"Tap30\"].counts.tolist(),\n",
    "            'type': 'pie',\n",
    "            'name': 'Starry Night',\n",
    "            'marker': {'colors': ['#6d6d6d',\n",
    "                                  '#000000',\n",
    "                                  ]},\n",
    "            'domain': {'y': [0, .48],\n",
    "                       'x': [0, 1]},\n",
    "            'hoverinfo':'label+percent+name',\n",
    "        },\n",
    "        \n",
    "    ],\n",
    "    'layout': {'title': 'Surged Rate<br><span style=\"font-size: 1rem\">rides: {:,.0f}</span>'.format(df_tehran.timestamp.count()/2),\n",
    "              'font': {'size': 18},\n",
    "              'legend': {'font': {'size': 12}},\n",
    "               'width': 500,\n",
    "               'height': 800\n",
    "              }\n",
    "}\n",
    "\n",
    "iplot(fig, filename='pie_chart_subplots')"
   ]
  },
  {
   "cell_type": "code",
   "execution_count": 12,
   "metadata": {},
   "outputs": [
    {
     "data": {
      "application/vnd.plotly.v1+json": {
       "data": [
        {
         "colorscale": [
          [
           0,
           "#00083e"
          ],
          [
           0.5,
           "#ededee"
          ],
          [
           1,
           "#ffffff"
          ]
         ],
         "hoverinfo": "none",
         "opacity": 0.75,
         "showscale": false,
         "type": "heatmap",
         "uid": "028019fa-e817-4b42-b1ed-4f96c31eae40",
         "z": [
          [
           0,
           0,
           0,
           0
          ],
          [
           0.5,
           0.5,
           0.5,
           0.5
          ],
          [
           1,
           1,
           1,
           1
          ],
          [
           0.5,
           0.5,
           0.5,
           0.5
          ],
          [
           1,
           1,
           1,
           1
          ],
          [
           0.5,
           0.5,
           0.5,
           0.5
          ],
          [
           1,
           1,
           1,
           1
          ],
          [
           0.5,
           0.5,
           0.5,
           0.5
          ],
          [
           1,
           1,
           1,
           1
          ],
          [
           0.5,
           0.5,
           0.5,
           0.5
          ],
          [
           1,
           1,
           1,
           1
          ],
          [
           0.5,
           0.5,
           0.5,
           0.5
          ],
          [
           1,
           1,
           1,
           1
          ],
          [
           0.5,
           0.5,
           0.5,
           0.5
          ],
          [
           1,
           1,
           1,
           1
          ],
          [
           0.5,
           0.5,
           0.5,
           0.5
          ],
          [
           1,
           1,
           1,
           1
          ]
         ]
        }
       ],
       "layout": {
        "annotations": [
         {
          "align": "left",
          "font": {
           "color": "#ffffff"
          },
          "showarrow": false,
          "text": "<b>city</b>",
          "x": -0.45,
          "xanchor": "left",
          "xref": "x",
          "y": 0,
          "yref": "y"
         },
         {
          "align": "left",
          "font": {
           "color": "#ffffff"
          },
          "showarrow": false,
          "text": "<b>service</b>",
          "x": 0.55,
          "xanchor": "left",
          "xref": "x",
          "y": 0,
          "yref": "y"
         },
         {
          "align": "left",
          "font": {
           "color": "#ffffff"
          },
          "showarrow": false,
          "text": "<b>is_surged</b>",
          "x": 1.55,
          "xanchor": "left",
          "xref": "x",
          "y": 0,
          "yref": "y"
         },
         {
          "align": "left",
          "font": {
           "color": "#ffffff"
          },
          "showarrow": false,
          "text": "<b>surge_rate</b>",
          "x": 2.55,
          "xanchor": "left",
          "xref": "x",
          "y": 0,
          "yref": "y"
         },
         {
          "align": "left",
          "font": {
           "color": "#000000"
          },
          "showarrow": false,
          "text": "Tehran",
          "x": -0.45,
          "xanchor": "left",
          "xref": "x",
          "y": 1,
          "yref": "y"
         },
         {
          "align": "left",
          "font": {
           "color": "#000000"
          },
          "showarrow": false,
          "text": "Snapp",
          "x": 0.55,
          "xanchor": "left",
          "xref": "x",
          "y": 1,
          "yref": "y"
         },
         {
          "align": "left",
          "font": {
           "color": "#000000"
          },
          "showarrow": false,
          "text": "False",
          "x": 1.55,
          "xanchor": "left",
          "xref": "x",
          "y": 1,
          "yref": "y"
         },
         {
          "align": "left",
          "font": {
           "color": "#000000"
          },
          "showarrow": false,
          "text": "99.19%",
          "x": 2.55,
          "xanchor": "left",
          "xref": "x",
          "y": 1,
          "yref": "y"
         },
         {
          "align": "left",
          "font": {
           "color": "#000000"
          },
          "showarrow": false,
          "text": "Tehran",
          "x": -0.45,
          "xanchor": "left",
          "xref": "x",
          "y": 2,
          "yref": "y"
         },
         {
          "align": "left",
          "font": {
           "color": "#000000"
          },
          "showarrow": false,
          "text": "Snapp",
          "x": 0.55,
          "xanchor": "left",
          "xref": "x",
          "y": 2,
          "yref": "y"
         },
         {
          "align": "left",
          "font": {
           "color": "#000000"
          },
          "showarrow": false,
          "text": "True",
          "x": 1.55,
          "xanchor": "left",
          "xref": "x",
          "y": 2,
          "yref": "y"
         },
         {
          "align": "left",
          "font": {
           "color": "#000000"
          },
          "showarrow": false,
          "text": "0.81%",
          "x": 2.55,
          "xanchor": "left",
          "xref": "x",
          "y": 2,
          "yref": "y"
         },
         {
          "align": "left",
          "font": {
           "color": "#000000"
          },
          "showarrow": false,
          "text": "Tehran",
          "x": -0.45,
          "xanchor": "left",
          "xref": "x",
          "y": 3,
          "yref": "y"
         },
         {
          "align": "left",
          "font": {
           "color": "#000000"
          },
          "showarrow": false,
          "text": "Tap30",
          "x": 0.55,
          "xanchor": "left",
          "xref": "x",
          "y": 3,
          "yref": "y"
         },
         {
          "align": "left",
          "font": {
           "color": "#000000"
          },
          "showarrow": false,
          "text": "False",
          "x": 1.55,
          "xanchor": "left",
          "xref": "x",
          "y": 3,
          "yref": "y"
         },
         {
          "align": "left",
          "font": {
           "color": "#000000"
          },
          "showarrow": false,
          "text": "91.53%",
          "x": 2.55,
          "xanchor": "left",
          "xref": "x",
          "y": 3,
          "yref": "y"
         },
         {
          "align": "left",
          "font": {
           "color": "#000000"
          },
          "showarrow": false,
          "text": "Tehran",
          "x": -0.45,
          "xanchor": "left",
          "xref": "x",
          "y": 4,
          "yref": "y"
         },
         {
          "align": "left",
          "font": {
           "color": "#000000"
          },
          "showarrow": false,
          "text": "Tap30",
          "x": 0.55,
          "xanchor": "left",
          "xref": "x",
          "y": 4,
          "yref": "y"
         },
         {
          "align": "left",
          "font": {
           "color": "#000000"
          },
          "showarrow": false,
          "text": "True",
          "x": 1.55,
          "xanchor": "left",
          "xref": "x",
          "y": 4,
          "yref": "y"
         },
         {
          "align": "left",
          "font": {
           "color": "#000000"
          },
          "showarrow": false,
          "text": "8.47%",
          "x": 2.55,
          "xanchor": "left",
          "xref": "x",
          "y": 4,
          "yref": "y"
         },
         {
          "align": "left",
          "font": {
           "color": "#000000"
          },
          "showarrow": false,
          "text": "Karaj",
          "x": -0.45,
          "xanchor": "left",
          "xref": "x",
          "y": 5,
          "yref": "y"
         },
         {
          "align": "left",
          "font": {
           "color": "#000000"
          },
          "showarrow": false,
          "text": "Snapp",
          "x": 0.55,
          "xanchor": "left",
          "xref": "x",
          "y": 5,
          "yref": "y"
         },
         {
          "align": "left",
          "font": {
           "color": "#000000"
          },
          "showarrow": false,
          "text": "False",
          "x": 1.55,
          "xanchor": "left",
          "xref": "x",
          "y": 5,
          "yref": "y"
         },
         {
          "align": "left",
          "font": {
           "color": "#000000"
          },
          "showarrow": false,
          "text": "98.77%",
          "x": 2.55,
          "xanchor": "left",
          "xref": "x",
          "y": 5,
          "yref": "y"
         },
         {
          "align": "left",
          "font": {
           "color": "#000000"
          },
          "showarrow": false,
          "text": "Karaj",
          "x": -0.45,
          "xanchor": "left",
          "xref": "x",
          "y": 6,
          "yref": "y"
         },
         {
          "align": "left",
          "font": {
           "color": "#000000"
          },
          "showarrow": false,
          "text": "Snapp",
          "x": 0.55,
          "xanchor": "left",
          "xref": "x",
          "y": 6,
          "yref": "y"
         },
         {
          "align": "left",
          "font": {
           "color": "#000000"
          },
          "showarrow": false,
          "text": "True",
          "x": 1.55,
          "xanchor": "left",
          "xref": "x",
          "y": 6,
          "yref": "y"
         },
         {
          "align": "left",
          "font": {
           "color": "#000000"
          },
          "showarrow": false,
          "text": "1.23%",
          "x": 2.55,
          "xanchor": "left",
          "xref": "x",
          "y": 6,
          "yref": "y"
         },
         {
          "align": "left",
          "font": {
           "color": "#000000"
          },
          "showarrow": false,
          "text": "Karaj",
          "x": -0.45,
          "xanchor": "left",
          "xref": "x",
          "y": 7,
          "yref": "y"
         },
         {
          "align": "left",
          "font": {
           "color": "#000000"
          },
          "showarrow": false,
          "text": "Tap30",
          "x": 0.55,
          "xanchor": "left",
          "xref": "x",
          "y": 7,
          "yref": "y"
         },
         {
          "align": "left",
          "font": {
           "color": "#000000"
          },
          "showarrow": false,
          "text": "False",
          "x": 1.55,
          "xanchor": "left",
          "xref": "x",
          "y": 7,
          "yref": "y"
         },
         {
          "align": "left",
          "font": {
           "color": "#000000"
          },
          "showarrow": false,
          "text": "93.31%",
          "x": 2.55,
          "xanchor": "left",
          "xref": "x",
          "y": 7,
          "yref": "y"
         },
         {
          "align": "left",
          "font": {
           "color": "#000000"
          },
          "showarrow": false,
          "text": "Karaj",
          "x": -0.45,
          "xanchor": "left",
          "xref": "x",
          "y": 8,
          "yref": "y"
         },
         {
          "align": "left",
          "font": {
           "color": "#000000"
          },
          "showarrow": false,
          "text": "Tap30",
          "x": 0.55,
          "xanchor": "left",
          "xref": "x",
          "y": 8,
          "yref": "y"
         },
         {
          "align": "left",
          "font": {
           "color": "#000000"
          },
          "showarrow": false,
          "text": "True",
          "x": 1.55,
          "xanchor": "left",
          "xref": "x",
          "y": 8,
          "yref": "y"
         },
         {
          "align": "left",
          "font": {
           "color": "#000000"
          },
          "showarrow": false,
          "text": "6.69%",
          "x": 2.55,
          "xanchor": "left",
          "xref": "x",
          "y": 8,
          "yref": "y"
         },
         {
          "align": "left",
          "font": {
           "color": "#000000"
          },
          "showarrow": false,
          "text": "Tabriz",
          "x": -0.45,
          "xanchor": "left",
          "xref": "x",
          "y": 9,
          "yref": "y"
         },
         {
          "align": "left",
          "font": {
           "color": "#000000"
          },
          "showarrow": false,
          "text": "Snapp",
          "x": 0.55,
          "xanchor": "left",
          "xref": "x",
          "y": 9,
          "yref": "y"
         },
         {
          "align": "left",
          "font": {
           "color": "#000000"
          },
          "showarrow": false,
          "text": "False",
          "x": 1.55,
          "xanchor": "left",
          "xref": "x",
          "y": 9,
          "yref": "y"
         },
         {
          "align": "left",
          "font": {
           "color": "#000000"
          },
          "showarrow": false,
          "text": "99.43%",
          "x": 2.55,
          "xanchor": "left",
          "xref": "x",
          "y": 9,
          "yref": "y"
         },
         {
          "align": "left",
          "font": {
           "color": "#000000"
          },
          "showarrow": false,
          "text": "Tabriz",
          "x": -0.45,
          "xanchor": "left",
          "xref": "x",
          "y": 10,
          "yref": "y"
         },
         {
          "align": "left",
          "font": {
           "color": "#000000"
          },
          "showarrow": false,
          "text": "Snapp",
          "x": 0.55,
          "xanchor": "left",
          "xref": "x",
          "y": 10,
          "yref": "y"
         },
         {
          "align": "left",
          "font": {
           "color": "#000000"
          },
          "showarrow": false,
          "text": "True",
          "x": 1.55,
          "xanchor": "left",
          "xref": "x",
          "y": 10,
          "yref": "y"
         },
         {
          "align": "left",
          "font": {
           "color": "#000000"
          },
          "showarrow": false,
          "text": "0.57%",
          "x": 2.55,
          "xanchor": "left",
          "xref": "x",
          "y": 10,
          "yref": "y"
         },
         {
          "align": "left",
          "font": {
           "color": "#000000"
          },
          "showarrow": false,
          "text": "Tabriz",
          "x": -0.45,
          "xanchor": "left",
          "xref": "x",
          "y": 11,
          "yref": "y"
         },
         {
          "align": "left",
          "font": {
           "color": "#000000"
          },
          "showarrow": false,
          "text": "Tap30",
          "x": 0.55,
          "xanchor": "left",
          "xref": "x",
          "y": 11,
          "yref": "y"
         },
         {
          "align": "left",
          "font": {
           "color": "#000000"
          },
          "showarrow": false,
          "text": "False",
          "x": 1.55,
          "xanchor": "left",
          "xref": "x",
          "y": 11,
          "yref": "y"
         },
         {
          "align": "left",
          "font": {
           "color": "#000000"
          },
          "showarrow": false,
          "text": "97.43%",
          "x": 2.55,
          "xanchor": "left",
          "xref": "x",
          "y": 11,
          "yref": "y"
         },
         {
          "align": "left",
          "font": {
           "color": "#000000"
          },
          "showarrow": false,
          "text": "Tabriz",
          "x": -0.45,
          "xanchor": "left",
          "xref": "x",
          "y": 12,
          "yref": "y"
         },
         {
          "align": "left",
          "font": {
           "color": "#000000"
          },
          "showarrow": false,
          "text": "Tap30",
          "x": 0.55,
          "xanchor": "left",
          "xref": "x",
          "y": 12,
          "yref": "y"
         },
         {
          "align": "left",
          "font": {
           "color": "#000000"
          },
          "showarrow": false,
          "text": "True",
          "x": 1.55,
          "xanchor": "left",
          "xref": "x",
          "y": 12,
          "yref": "y"
         },
         {
          "align": "left",
          "font": {
           "color": "#000000"
          },
          "showarrow": false,
          "text": "2.57%",
          "x": 2.55,
          "xanchor": "left",
          "xref": "x",
          "y": 12,
          "yref": "y"
         },
         {
          "align": "left",
          "font": {
           "color": "#000000"
          },
          "showarrow": false,
          "text": "Urmia",
          "x": -0.45,
          "xanchor": "left",
          "xref": "x",
          "y": 13,
          "yref": "y"
         },
         {
          "align": "left",
          "font": {
           "color": "#000000"
          },
          "showarrow": false,
          "text": "Snapp",
          "x": 0.55,
          "xanchor": "left",
          "xref": "x",
          "y": 13,
          "yref": "y"
         },
         {
          "align": "left",
          "font": {
           "color": "#000000"
          },
          "showarrow": false,
          "text": "False",
          "x": 1.55,
          "xanchor": "left",
          "xref": "x",
          "y": 13,
          "yref": "y"
         },
         {
          "align": "left",
          "font": {
           "color": "#000000"
          },
          "showarrow": false,
          "text": "99.75%",
          "x": 2.55,
          "xanchor": "left",
          "xref": "x",
          "y": 13,
          "yref": "y"
         },
         {
          "align": "left",
          "font": {
           "color": "#000000"
          },
          "showarrow": false,
          "text": "Urmia",
          "x": -0.45,
          "xanchor": "left",
          "xref": "x",
          "y": 14,
          "yref": "y"
         },
         {
          "align": "left",
          "font": {
           "color": "#000000"
          },
          "showarrow": false,
          "text": "Snapp",
          "x": 0.55,
          "xanchor": "left",
          "xref": "x",
          "y": 14,
          "yref": "y"
         },
         {
          "align": "left",
          "font": {
           "color": "#000000"
          },
          "showarrow": false,
          "text": "True",
          "x": 1.55,
          "xanchor": "left",
          "xref": "x",
          "y": 14,
          "yref": "y"
         },
         {
          "align": "left",
          "font": {
           "color": "#000000"
          },
          "showarrow": false,
          "text": "0.25%",
          "x": 2.55,
          "xanchor": "left",
          "xref": "x",
          "y": 14,
          "yref": "y"
         },
         {
          "align": "left",
          "font": {
           "color": "#000000"
          },
          "showarrow": false,
          "text": "Urmia",
          "x": -0.45,
          "xanchor": "left",
          "xref": "x",
          "y": 15,
          "yref": "y"
         },
         {
          "align": "left",
          "font": {
           "color": "#000000"
          },
          "showarrow": false,
          "text": "Tap30",
          "x": 0.55,
          "xanchor": "left",
          "xref": "x",
          "y": 15,
          "yref": "y"
         },
         {
          "align": "left",
          "font": {
           "color": "#000000"
          },
          "showarrow": false,
          "text": "False",
          "x": 1.55,
          "xanchor": "left",
          "xref": "x",
          "y": 15,
          "yref": "y"
         },
         {
          "align": "left",
          "font": {
           "color": "#000000"
          },
          "showarrow": false,
          "text": "99.81%",
          "x": 2.55,
          "xanchor": "left",
          "xref": "x",
          "y": 15,
          "yref": "y"
         },
         {
          "align": "left",
          "font": {
           "color": "#000000"
          },
          "showarrow": false,
          "text": "Urmia",
          "x": -0.45,
          "xanchor": "left",
          "xref": "x",
          "y": 16,
          "yref": "y"
         },
         {
          "align": "left",
          "font": {
           "color": "#000000"
          },
          "showarrow": false,
          "text": "Tap30",
          "x": 0.55,
          "xanchor": "left",
          "xref": "x",
          "y": 16,
          "yref": "y"
         },
         {
          "align": "left",
          "font": {
           "color": "#000000"
          },
          "showarrow": false,
          "text": "True",
          "x": 1.55,
          "xanchor": "left",
          "xref": "x",
          "y": 16,
          "yref": "y"
         },
         {
          "align": "left",
          "font": {
           "color": "#000000"
          },
          "showarrow": false,
          "text": "0.19%",
          "x": 2.55,
          "xanchor": "left",
          "xref": "x",
          "y": 16,
          "yref": "y"
         }
        ],
        "height": 560,
        "margin": {
         "b": 0,
         "l": 0,
         "r": 0,
         "t": 0
        },
        "width": 350,
        "xaxis": {
         "dtick": 1,
         "gridwidth": 2,
         "showticklabels": false,
         "tick0": -0.5,
         "ticks": "",
         "zeroline": false
        },
        "yaxis": {
         "autorange": "reversed",
         "dtick": 1,
         "gridwidth": 2,
         "showticklabels": false,
         "tick0": 0.5,
         "ticks": "",
         "zeroline": false
        }
       }
      },
      "text/html": [
       "<div id=\"c95a0dc8-f2b5-4f6c-9e8f-9b1982bf28bf\" style=\"height: 560px; width: 350px;\" class=\"plotly-graph-div\"></div><script type=\"text/javascript\">require([\"plotly\"], function(Plotly) { window.PLOTLYENV=window.PLOTLYENV || {};window.PLOTLYENV.BASE_URL=\"https://plot.ly\";Plotly.newPlot(\"c95a0dc8-f2b5-4f6c-9e8f-9b1982bf28bf\", [{\"colorscale\": [[0, \"#00083e\"], [0.5, \"#ededee\"], [1, \"#ffffff\"]], \"hoverinfo\": \"none\", \"opacity\": 0.75, \"showscale\": false, \"z\": [[0, 0, 0, 0], [0.5, 0.5, 0.5, 0.5], [1, 1, 1, 1], [0.5, 0.5, 0.5, 0.5], [1, 1, 1, 1], [0.5, 0.5, 0.5, 0.5], [1, 1, 1, 1], [0.5, 0.5, 0.5, 0.5], [1, 1, 1, 1], [0.5, 0.5, 0.5, 0.5], [1, 1, 1, 1], [0.5, 0.5, 0.5, 0.5], [1, 1, 1, 1], [0.5, 0.5, 0.5, 0.5], [1, 1, 1, 1], [0.5, 0.5, 0.5, 0.5], [1, 1, 1, 1]], \"type\": \"heatmap\", \"uid\": \"028019fa-e817-4b42-b1ed-4f96c31eae40\"}], {\"annotations\": [{\"align\": \"left\", \"font\": {\"color\": \"#ffffff\"}, \"showarrow\": false, \"text\": \"<b>city</b>\", \"x\": -0.45, \"xanchor\": \"left\", \"xref\": \"x\", \"y\": 0, \"yref\": \"y\"}, {\"align\": \"left\", \"font\": {\"color\": \"#ffffff\"}, \"showarrow\": false, \"text\": \"<b>service</b>\", \"x\": 0.55, \"xanchor\": \"left\", \"xref\": \"x\", \"y\": 0, \"yref\": \"y\"}, {\"align\": \"left\", \"font\": {\"color\": \"#ffffff\"}, \"showarrow\": false, \"text\": \"<b>is_surged</b>\", \"x\": 1.55, \"xanchor\": \"left\", \"xref\": \"x\", \"y\": 0, \"yref\": \"y\"}, {\"align\": \"left\", \"font\": {\"color\": \"#ffffff\"}, \"showarrow\": false, \"text\": \"<b>surge_rate</b>\", \"x\": 2.55, \"xanchor\": \"left\", \"xref\": \"x\", \"y\": 0, \"yref\": \"y\"}, {\"align\": \"left\", \"font\": {\"color\": \"#000000\"}, \"showarrow\": false, \"text\": \"Tehran\", \"x\": -0.45, \"xanchor\": \"left\", \"xref\": \"x\", \"y\": 1, \"yref\": \"y\"}, {\"align\": \"left\", \"font\": {\"color\": \"#000000\"}, \"showarrow\": false, \"text\": \"Snapp\", \"x\": 0.55, \"xanchor\": \"left\", \"xref\": \"x\", \"y\": 1, \"yref\": \"y\"}, {\"align\": \"left\", \"font\": {\"color\": \"#000000\"}, \"showarrow\": false, \"text\": \"False\", \"x\": 1.55, \"xanchor\": \"left\", \"xref\": \"x\", \"y\": 1, \"yref\": \"y\"}, {\"align\": \"left\", \"font\": {\"color\": \"#000000\"}, \"showarrow\": false, \"text\": \"99.19%\", \"x\": 2.55, \"xanchor\": \"left\", \"xref\": \"x\", \"y\": 1, \"yref\": \"y\"}, {\"align\": \"left\", \"font\": {\"color\": \"#000000\"}, \"showarrow\": false, \"text\": \"Tehran\", \"x\": -0.45, \"xanchor\": \"left\", \"xref\": \"x\", \"y\": 2, \"yref\": \"y\"}, {\"align\": \"left\", \"font\": {\"color\": \"#000000\"}, \"showarrow\": false, \"text\": \"Snapp\", \"x\": 0.55, \"xanchor\": \"left\", \"xref\": \"x\", \"y\": 2, \"yref\": \"y\"}, {\"align\": \"left\", \"font\": {\"color\": \"#000000\"}, \"showarrow\": false, \"text\": \"True\", \"x\": 1.55, \"xanchor\": \"left\", \"xref\": \"x\", \"y\": 2, \"yref\": \"y\"}, {\"align\": \"left\", \"font\": {\"color\": \"#000000\"}, \"showarrow\": false, \"text\": \"0.81%\", \"x\": 2.55, \"xanchor\": \"left\", \"xref\": \"x\", \"y\": 2, \"yref\": \"y\"}, {\"align\": \"left\", \"font\": {\"color\": \"#000000\"}, \"showarrow\": false, \"text\": \"Tehran\", \"x\": -0.45, \"xanchor\": \"left\", \"xref\": \"x\", \"y\": 3, \"yref\": \"y\"}, {\"align\": \"left\", \"font\": {\"color\": \"#000000\"}, \"showarrow\": false, \"text\": \"Tap30\", \"x\": 0.55, \"xanchor\": \"left\", \"xref\": \"x\", \"y\": 3, \"yref\": \"y\"}, {\"align\": \"left\", \"font\": {\"color\": \"#000000\"}, \"showarrow\": false, \"text\": \"False\", \"x\": 1.55, \"xanchor\": \"left\", \"xref\": \"x\", \"y\": 3, \"yref\": \"y\"}, {\"align\": \"left\", \"font\": {\"color\": \"#000000\"}, \"showarrow\": false, \"text\": \"91.53%\", \"x\": 2.55, \"xanchor\": \"left\", \"xref\": \"x\", \"y\": 3, \"yref\": \"y\"}, {\"align\": \"left\", \"font\": {\"color\": \"#000000\"}, \"showarrow\": false, \"text\": \"Tehran\", \"x\": -0.45, \"xanchor\": \"left\", \"xref\": \"x\", \"y\": 4, \"yref\": \"y\"}, {\"align\": \"left\", \"font\": {\"color\": \"#000000\"}, \"showarrow\": false, \"text\": \"Tap30\", \"x\": 0.55, \"xanchor\": \"left\", \"xref\": \"x\", \"y\": 4, \"yref\": \"y\"}, {\"align\": \"left\", \"font\": {\"color\": \"#000000\"}, \"showarrow\": false, \"text\": \"True\", \"x\": 1.55, \"xanchor\": \"left\", \"xref\": \"x\", \"y\": 4, \"yref\": \"y\"}, {\"align\": \"left\", \"font\": {\"color\": \"#000000\"}, \"showarrow\": false, \"text\": \"8.47%\", \"x\": 2.55, \"xanchor\": \"left\", \"xref\": \"x\", \"y\": 4, \"yref\": \"y\"}, {\"align\": \"left\", \"font\": {\"color\": \"#000000\"}, \"showarrow\": false, \"text\": \"Karaj\", \"x\": -0.45, \"xanchor\": \"left\", \"xref\": \"x\", \"y\": 5, \"yref\": \"y\"}, {\"align\": \"left\", \"font\": {\"color\": \"#000000\"}, \"showarrow\": false, \"text\": \"Snapp\", \"x\": 0.55, \"xanchor\": \"left\", \"xref\": \"x\", \"y\": 5, \"yref\": \"y\"}, {\"align\": \"left\", \"font\": {\"color\": \"#000000\"}, \"showarrow\": false, \"text\": \"False\", \"x\": 1.55, \"xanchor\": \"left\", \"xref\": \"x\", \"y\": 5, \"yref\": \"y\"}, {\"align\": \"left\", \"font\": {\"color\": \"#000000\"}, \"showarrow\": false, \"text\": \"98.77%\", \"x\": 2.55, \"xanchor\": \"left\", \"xref\": \"x\", \"y\": 5, \"yref\": \"y\"}, {\"align\": \"left\", \"font\": {\"color\": \"#000000\"}, \"showarrow\": false, \"text\": \"Karaj\", \"x\": -0.45, \"xanchor\": \"left\", \"xref\": \"x\", \"y\": 6, \"yref\": \"y\"}, {\"align\": \"left\", \"font\": {\"color\": \"#000000\"}, \"showarrow\": false, \"text\": \"Snapp\", \"x\": 0.55, \"xanchor\": \"left\", \"xref\": \"x\", \"y\": 6, \"yref\": \"y\"}, {\"align\": \"left\", \"font\": {\"color\": \"#000000\"}, \"showarrow\": false, \"text\": \"True\", \"x\": 1.55, \"xanchor\": \"left\", \"xref\": \"x\", \"y\": 6, \"yref\": \"y\"}, {\"align\": \"left\", \"font\": {\"color\": \"#000000\"}, \"showarrow\": false, \"text\": \"1.23%\", \"x\": 2.55, \"xanchor\": \"left\", \"xref\": \"x\", \"y\": 6, \"yref\": \"y\"}, {\"align\": \"left\", \"font\": {\"color\": \"#000000\"}, \"showarrow\": false, \"text\": \"Karaj\", \"x\": -0.45, \"xanchor\": \"left\", \"xref\": \"x\", \"y\": 7, \"yref\": \"y\"}, {\"align\": \"left\", \"font\": {\"color\": \"#000000\"}, \"showarrow\": false, \"text\": \"Tap30\", \"x\": 0.55, \"xanchor\": \"left\", \"xref\": \"x\", \"y\": 7, \"yref\": \"y\"}, {\"align\": \"left\", \"font\": {\"color\": \"#000000\"}, \"showarrow\": false, \"text\": \"False\", \"x\": 1.55, \"xanchor\": \"left\", \"xref\": \"x\", \"y\": 7, \"yref\": \"y\"}, {\"align\": \"left\", \"font\": {\"color\": \"#000000\"}, \"showarrow\": false, \"text\": \"93.31%\", \"x\": 2.55, \"xanchor\": \"left\", \"xref\": \"x\", \"y\": 7, \"yref\": \"y\"}, {\"align\": \"left\", \"font\": {\"color\": \"#000000\"}, \"showarrow\": false, \"text\": \"Karaj\", \"x\": -0.45, \"xanchor\": \"left\", \"xref\": \"x\", \"y\": 8, \"yref\": \"y\"}, {\"align\": \"left\", \"font\": {\"color\": \"#000000\"}, \"showarrow\": false, \"text\": \"Tap30\", \"x\": 0.55, \"xanchor\": \"left\", \"xref\": \"x\", \"y\": 8, \"yref\": \"y\"}, {\"align\": \"left\", \"font\": {\"color\": \"#000000\"}, \"showarrow\": false, \"text\": \"True\", \"x\": 1.55, \"xanchor\": \"left\", \"xref\": \"x\", \"y\": 8, \"yref\": \"y\"}, {\"align\": \"left\", \"font\": {\"color\": \"#000000\"}, \"showarrow\": false, \"text\": \"6.69%\", \"x\": 2.55, \"xanchor\": \"left\", \"xref\": \"x\", \"y\": 8, \"yref\": \"y\"}, {\"align\": \"left\", \"font\": {\"color\": \"#000000\"}, \"showarrow\": false, \"text\": \"Tabriz\", \"x\": -0.45, \"xanchor\": \"left\", \"xref\": \"x\", \"y\": 9, \"yref\": \"y\"}, {\"align\": \"left\", \"font\": {\"color\": \"#000000\"}, \"showarrow\": false, \"text\": \"Snapp\", \"x\": 0.55, \"xanchor\": \"left\", \"xref\": \"x\", \"y\": 9, \"yref\": \"y\"}, {\"align\": \"left\", \"font\": {\"color\": \"#000000\"}, \"showarrow\": false, \"text\": \"False\", \"x\": 1.55, \"xanchor\": \"left\", \"xref\": \"x\", \"y\": 9, \"yref\": \"y\"}, {\"align\": \"left\", \"font\": {\"color\": \"#000000\"}, \"showarrow\": false, \"text\": \"99.43%\", \"x\": 2.55, \"xanchor\": \"left\", \"xref\": \"x\", \"y\": 9, \"yref\": \"y\"}, {\"align\": \"left\", \"font\": {\"color\": \"#000000\"}, \"showarrow\": false, \"text\": \"Tabriz\", \"x\": -0.45, \"xanchor\": \"left\", \"xref\": \"x\", \"y\": 10, \"yref\": \"y\"}, {\"align\": \"left\", \"font\": {\"color\": \"#000000\"}, \"showarrow\": false, \"text\": \"Snapp\", \"x\": 0.55, \"xanchor\": \"left\", \"xref\": \"x\", \"y\": 10, \"yref\": \"y\"}, {\"align\": \"left\", \"font\": {\"color\": \"#000000\"}, \"showarrow\": false, \"text\": \"True\", \"x\": 1.55, \"xanchor\": \"left\", \"xref\": \"x\", \"y\": 10, \"yref\": \"y\"}, {\"align\": \"left\", \"font\": {\"color\": \"#000000\"}, \"showarrow\": false, \"text\": \"0.57%\", \"x\": 2.55, \"xanchor\": \"left\", \"xref\": \"x\", \"y\": 10, \"yref\": \"y\"}, {\"align\": \"left\", \"font\": {\"color\": \"#000000\"}, \"showarrow\": false, \"text\": \"Tabriz\", \"x\": -0.45, \"xanchor\": \"left\", \"xref\": \"x\", \"y\": 11, \"yref\": \"y\"}, {\"align\": \"left\", \"font\": {\"color\": \"#000000\"}, \"showarrow\": false, \"text\": \"Tap30\", \"x\": 0.55, \"xanchor\": \"left\", \"xref\": \"x\", \"y\": 11, \"yref\": \"y\"}, {\"align\": \"left\", \"font\": {\"color\": \"#000000\"}, \"showarrow\": false, \"text\": \"False\", \"x\": 1.55, \"xanchor\": \"left\", \"xref\": \"x\", \"y\": 11, \"yref\": \"y\"}, {\"align\": \"left\", \"font\": {\"color\": \"#000000\"}, \"showarrow\": false, \"text\": \"97.43%\", \"x\": 2.55, \"xanchor\": \"left\", \"xref\": \"x\", \"y\": 11, \"yref\": \"y\"}, {\"align\": \"left\", \"font\": {\"color\": \"#000000\"}, \"showarrow\": false, \"text\": \"Tabriz\", \"x\": -0.45, \"xanchor\": \"left\", \"xref\": \"x\", \"y\": 12, \"yref\": \"y\"}, {\"align\": \"left\", \"font\": {\"color\": \"#000000\"}, \"showarrow\": false, \"text\": \"Tap30\", \"x\": 0.55, \"xanchor\": \"left\", \"xref\": \"x\", \"y\": 12, \"yref\": \"y\"}, {\"align\": \"left\", \"font\": {\"color\": \"#000000\"}, \"showarrow\": false, \"text\": \"True\", \"x\": 1.55, \"xanchor\": \"left\", \"xref\": \"x\", \"y\": 12, \"yref\": \"y\"}, {\"align\": \"left\", \"font\": {\"color\": \"#000000\"}, \"showarrow\": false, \"text\": \"2.57%\", \"x\": 2.55, \"xanchor\": \"left\", \"xref\": \"x\", \"y\": 12, \"yref\": \"y\"}, {\"align\": \"left\", \"font\": {\"color\": \"#000000\"}, \"showarrow\": false, \"text\": \"Urmia\", \"x\": -0.45, \"xanchor\": \"left\", \"xref\": \"x\", \"y\": 13, \"yref\": \"y\"}, {\"align\": \"left\", \"font\": {\"color\": \"#000000\"}, \"showarrow\": false, \"text\": \"Snapp\", \"x\": 0.55, \"xanchor\": \"left\", \"xref\": \"x\", \"y\": 13, \"yref\": \"y\"}, {\"align\": \"left\", \"font\": {\"color\": \"#000000\"}, \"showarrow\": false, \"text\": \"False\", \"x\": 1.55, \"xanchor\": \"left\", \"xref\": \"x\", \"y\": 13, \"yref\": \"y\"}, {\"align\": \"left\", \"font\": {\"color\": \"#000000\"}, \"showarrow\": false, \"text\": \"99.75%\", \"x\": 2.55, \"xanchor\": \"left\", \"xref\": \"x\", \"y\": 13, \"yref\": \"y\"}, {\"align\": \"left\", \"font\": {\"color\": \"#000000\"}, \"showarrow\": false, \"text\": \"Urmia\", \"x\": -0.45, \"xanchor\": \"left\", \"xref\": \"x\", \"y\": 14, \"yref\": \"y\"}, {\"align\": \"left\", \"font\": {\"color\": \"#000000\"}, \"showarrow\": false, \"text\": \"Snapp\", \"x\": 0.55, \"xanchor\": \"left\", \"xref\": \"x\", \"y\": 14, \"yref\": \"y\"}, {\"align\": \"left\", \"font\": {\"color\": \"#000000\"}, \"showarrow\": false, \"text\": \"True\", \"x\": 1.55, \"xanchor\": \"left\", \"xref\": \"x\", \"y\": 14, \"yref\": \"y\"}, {\"align\": \"left\", \"font\": {\"color\": \"#000000\"}, \"showarrow\": false, \"text\": \"0.25%\", \"x\": 2.55, \"xanchor\": \"left\", \"xref\": \"x\", \"y\": 14, \"yref\": \"y\"}, {\"align\": \"left\", \"font\": {\"color\": \"#000000\"}, \"showarrow\": false, \"text\": \"Urmia\", \"x\": -0.45, \"xanchor\": \"left\", \"xref\": \"x\", \"y\": 15, \"yref\": \"y\"}, {\"align\": \"left\", \"font\": {\"color\": \"#000000\"}, \"showarrow\": false, \"text\": \"Tap30\", \"x\": 0.55, \"xanchor\": \"left\", \"xref\": \"x\", \"y\": 15, \"yref\": \"y\"}, {\"align\": \"left\", \"font\": {\"color\": \"#000000\"}, \"showarrow\": false, \"text\": \"False\", \"x\": 1.55, \"xanchor\": \"left\", \"xref\": \"x\", \"y\": 15, \"yref\": \"y\"}, {\"align\": \"left\", \"font\": {\"color\": \"#000000\"}, \"showarrow\": false, \"text\": \"99.81%\", \"x\": 2.55, \"xanchor\": \"left\", \"xref\": \"x\", \"y\": 15, \"yref\": \"y\"}, {\"align\": \"left\", \"font\": {\"color\": \"#000000\"}, \"showarrow\": false, \"text\": \"Urmia\", \"x\": -0.45, \"xanchor\": \"left\", \"xref\": \"x\", \"y\": 16, \"yref\": \"y\"}, {\"align\": \"left\", \"font\": {\"color\": \"#000000\"}, \"showarrow\": false, \"text\": \"Tap30\", \"x\": 0.55, \"xanchor\": \"left\", \"xref\": \"x\", \"y\": 16, \"yref\": \"y\"}, {\"align\": \"left\", \"font\": {\"color\": \"#000000\"}, \"showarrow\": false, \"text\": \"True\", \"x\": 1.55, \"xanchor\": \"left\", \"xref\": \"x\", \"y\": 16, \"yref\": \"y\"}, {\"align\": \"left\", \"font\": {\"color\": \"#000000\"}, \"showarrow\": false, \"text\": \"0.19%\", \"x\": 2.55, \"xanchor\": \"left\", \"xref\": \"x\", \"y\": 16, \"yref\": \"y\"}], \"height\": 560, \"margin\": {\"b\": 0, \"l\": 0, \"r\": 0, \"t\": 0}, \"xaxis\": {\"dtick\": 1, \"gridwidth\": 2, \"showticklabels\": false, \"tick0\": -0.5, \"ticks\": \"\", \"zeroline\": false}, \"yaxis\": {\"autorange\": \"reversed\", \"dtick\": 1, \"gridwidth\": 2, \"showticklabels\": false, \"tick0\": 0.5, \"ticks\": \"\", \"zeroline\": false}, \"width\": 350}, {\"showLink\": true, \"linkText\": \"Export to plot.ly\"})});</script>"
      ],
      "text/vnd.plotly.v1+html": [
       "<div id=\"c95a0dc8-f2b5-4f6c-9e8f-9b1982bf28bf\" style=\"height: 560px; width: 350px;\" class=\"plotly-graph-div\"></div><script type=\"text/javascript\">require([\"plotly\"], function(Plotly) { window.PLOTLYENV=window.PLOTLYENV || {};window.PLOTLYENV.BASE_URL=\"https://plot.ly\";Plotly.newPlot(\"c95a0dc8-f2b5-4f6c-9e8f-9b1982bf28bf\", [{\"colorscale\": [[0, \"#00083e\"], [0.5, \"#ededee\"], [1, \"#ffffff\"]], \"hoverinfo\": \"none\", \"opacity\": 0.75, \"showscale\": false, \"z\": [[0, 0, 0, 0], [0.5, 0.5, 0.5, 0.5], [1, 1, 1, 1], [0.5, 0.5, 0.5, 0.5], [1, 1, 1, 1], [0.5, 0.5, 0.5, 0.5], [1, 1, 1, 1], [0.5, 0.5, 0.5, 0.5], [1, 1, 1, 1], [0.5, 0.5, 0.5, 0.5], [1, 1, 1, 1], [0.5, 0.5, 0.5, 0.5], [1, 1, 1, 1], [0.5, 0.5, 0.5, 0.5], [1, 1, 1, 1], [0.5, 0.5, 0.5, 0.5], [1, 1, 1, 1]], \"type\": \"heatmap\", \"uid\": \"028019fa-e817-4b42-b1ed-4f96c31eae40\"}], {\"annotations\": [{\"align\": \"left\", \"font\": {\"color\": \"#ffffff\"}, \"showarrow\": false, \"text\": \"<b>city</b>\", \"x\": -0.45, \"xanchor\": \"left\", \"xref\": \"x\", \"y\": 0, \"yref\": \"y\"}, {\"align\": \"left\", \"font\": {\"color\": \"#ffffff\"}, \"showarrow\": false, \"text\": \"<b>service</b>\", \"x\": 0.55, \"xanchor\": \"left\", \"xref\": \"x\", \"y\": 0, \"yref\": \"y\"}, {\"align\": \"left\", \"font\": {\"color\": \"#ffffff\"}, \"showarrow\": false, \"text\": \"<b>is_surged</b>\", \"x\": 1.55, \"xanchor\": \"left\", \"xref\": \"x\", \"y\": 0, \"yref\": \"y\"}, {\"align\": \"left\", \"font\": {\"color\": \"#ffffff\"}, \"showarrow\": false, \"text\": \"<b>surge_rate</b>\", \"x\": 2.55, \"xanchor\": \"left\", \"xref\": \"x\", \"y\": 0, \"yref\": \"y\"}, {\"align\": \"left\", \"font\": {\"color\": \"#000000\"}, \"showarrow\": false, \"text\": \"Tehran\", \"x\": -0.45, \"xanchor\": \"left\", \"xref\": \"x\", \"y\": 1, \"yref\": \"y\"}, {\"align\": \"left\", \"font\": {\"color\": \"#000000\"}, \"showarrow\": false, \"text\": \"Snapp\", \"x\": 0.55, \"xanchor\": \"left\", \"xref\": \"x\", \"y\": 1, \"yref\": \"y\"}, {\"align\": \"left\", \"font\": {\"color\": \"#000000\"}, \"showarrow\": false, \"text\": \"False\", \"x\": 1.55, \"xanchor\": \"left\", \"xref\": \"x\", \"y\": 1, \"yref\": \"y\"}, {\"align\": \"left\", \"font\": {\"color\": \"#000000\"}, \"showarrow\": false, \"text\": \"99.19%\", \"x\": 2.55, \"xanchor\": \"left\", \"xref\": \"x\", \"y\": 1, \"yref\": \"y\"}, {\"align\": \"left\", \"font\": {\"color\": \"#000000\"}, \"showarrow\": false, \"text\": \"Tehran\", \"x\": -0.45, \"xanchor\": \"left\", \"xref\": \"x\", \"y\": 2, \"yref\": \"y\"}, {\"align\": \"left\", \"font\": {\"color\": \"#000000\"}, \"showarrow\": false, \"text\": \"Snapp\", \"x\": 0.55, \"xanchor\": \"left\", \"xref\": \"x\", \"y\": 2, \"yref\": \"y\"}, {\"align\": \"left\", \"font\": {\"color\": \"#000000\"}, \"showarrow\": false, \"text\": \"True\", \"x\": 1.55, \"xanchor\": \"left\", \"xref\": \"x\", \"y\": 2, \"yref\": \"y\"}, {\"align\": \"left\", \"font\": {\"color\": \"#000000\"}, \"showarrow\": false, \"text\": \"0.81%\", \"x\": 2.55, \"xanchor\": \"left\", \"xref\": \"x\", \"y\": 2, \"yref\": \"y\"}, {\"align\": \"left\", \"font\": {\"color\": \"#000000\"}, \"showarrow\": false, \"text\": \"Tehran\", \"x\": -0.45, \"xanchor\": \"left\", \"xref\": \"x\", \"y\": 3, \"yref\": \"y\"}, {\"align\": \"left\", \"font\": {\"color\": \"#000000\"}, \"showarrow\": false, \"text\": \"Tap30\", \"x\": 0.55, \"xanchor\": \"left\", \"xref\": \"x\", \"y\": 3, \"yref\": \"y\"}, {\"align\": \"left\", \"font\": {\"color\": \"#000000\"}, \"showarrow\": false, \"text\": \"False\", \"x\": 1.55, \"xanchor\": \"left\", \"xref\": \"x\", \"y\": 3, \"yref\": \"y\"}, {\"align\": \"left\", \"font\": {\"color\": \"#000000\"}, \"showarrow\": false, \"text\": \"91.53%\", \"x\": 2.55, \"xanchor\": \"left\", \"xref\": \"x\", \"y\": 3, \"yref\": \"y\"}, {\"align\": \"left\", \"font\": {\"color\": \"#000000\"}, \"showarrow\": false, \"text\": \"Tehran\", \"x\": -0.45, \"xanchor\": \"left\", \"xref\": \"x\", \"y\": 4, \"yref\": \"y\"}, {\"align\": \"left\", \"font\": {\"color\": \"#000000\"}, \"showarrow\": false, \"text\": \"Tap30\", \"x\": 0.55, \"xanchor\": \"left\", \"xref\": \"x\", \"y\": 4, \"yref\": \"y\"}, {\"align\": \"left\", \"font\": {\"color\": \"#000000\"}, \"showarrow\": false, \"text\": \"True\", \"x\": 1.55, \"xanchor\": \"left\", \"xref\": \"x\", \"y\": 4, \"yref\": \"y\"}, {\"align\": \"left\", \"font\": {\"color\": \"#000000\"}, \"showarrow\": false, \"text\": \"8.47%\", \"x\": 2.55, \"xanchor\": \"left\", \"xref\": \"x\", \"y\": 4, \"yref\": \"y\"}, {\"align\": \"left\", \"font\": {\"color\": \"#000000\"}, \"showarrow\": false, \"text\": \"Karaj\", \"x\": -0.45, \"xanchor\": \"left\", \"xref\": \"x\", \"y\": 5, \"yref\": \"y\"}, {\"align\": \"left\", \"font\": {\"color\": \"#000000\"}, \"showarrow\": false, \"text\": \"Snapp\", \"x\": 0.55, \"xanchor\": \"left\", \"xref\": \"x\", \"y\": 5, \"yref\": \"y\"}, {\"align\": \"left\", \"font\": {\"color\": \"#000000\"}, \"showarrow\": false, \"text\": \"False\", \"x\": 1.55, \"xanchor\": \"left\", \"xref\": \"x\", \"y\": 5, \"yref\": \"y\"}, {\"align\": \"left\", \"font\": {\"color\": \"#000000\"}, \"showarrow\": false, \"text\": \"98.77%\", \"x\": 2.55, \"xanchor\": \"left\", \"xref\": \"x\", \"y\": 5, \"yref\": \"y\"}, {\"align\": \"left\", \"font\": {\"color\": \"#000000\"}, \"showarrow\": false, \"text\": \"Karaj\", \"x\": -0.45, \"xanchor\": \"left\", \"xref\": \"x\", \"y\": 6, \"yref\": \"y\"}, {\"align\": \"left\", \"font\": {\"color\": \"#000000\"}, \"showarrow\": false, \"text\": \"Snapp\", \"x\": 0.55, \"xanchor\": \"left\", \"xref\": \"x\", \"y\": 6, \"yref\": \"y\"}, {\"align\": \"left\", \"font\": {\"color\": \"#000000\"}, \"showarrow\": false, \"text\": \"True\", \"x\": 1.55, \"xanchor\": \"left\", \"xref\": \"x\", \"y\": 6, \"yref\": \"y\"}, {\"align\": \"left\", \"font\": {\"color\": \"#000000\"}, \"showarrow\": false, \"text\": \"1.23%\", \"x\": 2.55, \"xanchor\": \"left\", \"xref\": \"x\", \"y\": 6, \"yref\": \"y\"}, {\"align\": \"left\", \"font\": {\"color\": \"#000000\"}, \"showarrow\": false, \"text\": \"Karaj\", \"x\": -0.45, \"xanchor\": \"left\", \"xref\": \"x\", \"y\": 7, \"yref\": \"y\"}, {\"align\": \"left\", \"font\": {\"color\": \"#000000\"}, \"showarrow\": false, \"text\": \"Tap30\", \"x\": 0.55, \"xanchor\": \"left\", \"xref\": \"x\", \"y\": 7, \"yref\": \"y\"}, {\"align\": \"left\", \"font\": {\"color\": \"#000000\"}, \"showarrow\": false, \"text\": \"False\", \"x\": 1.55, \"xanchor\": \"left\", \"xref\": \"x\", \"y\": 7, \"yref\": \"y\"}, {\"align\": \"left\", \"font\": {\"color\": \"#000000\"}, \"showarrow\": false, \"text\": \"93.31%\", \"x\": 2.55, \"xanchor\": \"left\", \"xref\": \"x\", \"y\": 7, \"yref\": \"y\"}, {\"align\": \"left\", \"font\": {\"color\": \"#000000\"}, \"showarrow\": false, \"text\": \"Karaj\", \"x\": -0.45, \"xanchor\": \"left\", \"xref\": \"x\", \"y\": 8, \"yref\": \"y\"}, {\"align\": \"left\", \"font\": {\"color\": \"#000000\"}, \"showarrow\": false, \"text\": \"Tap30\", \"x\": 0.55, \"xanchor\": \"left\", \"xref\": \"x\", \"y\": 8, \"yref\": \"y\"}, {\"align\": \"left\", \"font\": {\"color\": \"#000000\"}, \"showarrow\": false, \"text\": \"True\", \"x\": 1.55, \"xanchor\": \"left\", \"xref\": \"x\", \"y\": 8, \"yref\": \"y\"}, {\"align\": \"left\", \"font\": {\"color\": \"#000000\"}, \"showarrow\": false, \"text\": \"6.69%\", \"x\": 2.55, \"xanchor\": \"left\", \"xref\": \"x\", \"y\": 8, \"yref\": \"y\"}, {\"align\": \"left\", \"font\": {\"color\": \"#000000\"}, \"showarrow\": false, \"text\": \"Tabriz\", \"x\": -0.45, \"xanchor\": \"left\", \"xref\": \"x\", \"y\": 9, \"yref\": \"y\"}, {\"align\": \"left\", \"font\": {\"color\": \"#000000\"}, \"showarrow\": false, \"text\": \"Snapp\", \"x\": 0.55, \"xanchor\": \"left\", \"xref\": \"x\", \"y\": 9, \"yref\": \"y\"}, {\"align\": \"left\", \"font\": {\"color\": \"#000000\"}, \"showarrow\": false, \"text\": \"False\", \"x\": 1.55, \"xanchor\": \"left\", \"xref\": \"x\", \"y\": 9, \"yref\": \"y\"}, {\"align\": \"left\", \"font\": {\"color\": \"#000000\"}, \"showarrow\": false, \"text\": \"99.43%\", \"x\": 2.55, \"xanchor\": \"left\", \"xref\": \"x\", \"y\": 9, \"yref\": \"y\"}, {\"align\": \"left\", \"font\": {\"color\": \"#000000\"}, \"showarrow\": false, \"text\": \"Tabriz\", \"x\": -0.45, \"xanchor\": \"left\", \"xref\": \"x\", \"y\": 10, \"yref\": \"y\"}, {\"align\": \"left\", \"font\": {\"color\": \"#000000\"}, \"showarrow\": false, \"text\": \"Snapp\", \"x\": 0.55, \"xanchor\": \"left\", \"xref\": \"x\", \"y\": 10, \"yref\": \"y\"}, {\"align\": \"left\", \"font\": {\"color\": \"#000000\"}, \"showarrow\": false, \"text\": \"True\", \"x\": 1.55, \"xanchor\": \"left\", \"xref\": \"x\", \"y\": 10, \"yref\": \"y\"}, {\"align\": \"left\", \"font\": {\"color\": \"#000000\"}, \"showarrow\": false, \"text\": \"0.57%\", \"x\": 2.55, \"xanchor\": \"left\", \"xref\": \"x\", \"y\": 10, \"yref\": \"y\"}, {\"align\": \"left\", \"font\": {\"color\": \"#000000\"}, \"showarrow\": false, \"text\": \"Tabriz\", \"x\": -0.45, \"xanchor\": \"left\", \"xref\": \"x\", \"y\": 11, \"yref\": \"y\"}, {\"align\": \"left\", \"font\": {\"color\": \"#000000\"}, \"showarrow\": false, \"text\": \"Tap30\", \"x\": 0.55, \"xanchor\": \"left\", \"xref\": \"x\", \"y\": 11, \"yref\": \"y\"}, {\"align\": \"left\", \"font\": {\"color\": \"#000000\"}, \"showarrow\": false, \"text\": \"False\", \"x\": 1.55, \"xanchor\": \"left\", \"xref\": \"x\", \"y\": 11, \"yref\": \"y\"}, {\"align\": \"left\", \"font\": {\"color\": \"#000000\"}, \"showarrow\": false, \"text\": \"97.43%\", \"x\": 2.55, \"xanchor\": \"left\", \"xref\": \"x\", \"y\": 11, \"yref\": \"y\"}, {\"align\": \"left\", \"font\": {\"color\": \"#000000\"}, \"showarrow\": false, \"text\": \"Tabriz\", \"x\": -0.45, \"xanchor\": \"left\", \"xref\": \"x\", \"y\": 12, \"yref\": \"y\"}, {\"align\": \"left\", \"font\": {\"color\": \"#000000\"}, \"showarrow\": false, \"text\": \"Tap30\", \"x\": 0.55, \"xanchor\": \"left\", \"xref\": \"x\", \"y\": 12, \"yref\": \"y\"}, {\"align\": \"left\", \"font\": {\"color\": \"#000000\"}, \"showarrow\": false, \"text\": \"True\", \"x\": 1.55, \"xanchor\": \"left\", \"xref\": \"x\", \"y\": 12, \"yref\": \"y\"}, {\"align\": \"left\", \"font\": {\"color\": \"#000000\"}, \"showarrow\": false, \"text\": \"2.57%\", \"x\": 2.55, \"xanchor\": \"left\", \"xref\": \"x\", \"y\": 12, \"yref\": \"y\"}, {\"align\": \"left\", \"font\": {\"color\": \"#000000\"}, \"showarrow\": false, \"text\": \"Urmia\", \"x\": -0.45, \"xanchor\": \"left\", \"xref\": \"x\", \"y\": 13, \"yref\": \"y\"}, {\"align\": \"left\", \"font\": {\"color\": \"#000000\"}, \"showarrow\": false, \"text\": \"Snapp\", \"x\": 0.55, \"xanchor\": \"left\", \"xref\": \"x\", \"y\": 13, \"yref\": \"y\"}, {\"align\": \"left\", \"font\": {\"color\": \"#000000\"}, \"showarrow\": false, \"text\": \"False\", \"x\": 1.55, \"xanchor\": \"left\", \"xref\": \"x\", \"y\": 13, \"yref\": \"y\"}, {\"align\": \"left\", \"font\": {\"color\": \"#000000\"}, \"showarrow\": false, \"text\": \"99.75%\", \"x\": 2.55, \"xanchor\": \"left\", \"xref\": \"x\", \"y\": 13, \"yref\": \"y\"}, {\"align\": \"left\", \"font\": {\"color\": \"#000000\"}, \"showarrow\": false, \"text\": \"Urmia\", \"x\": -0.45, \"xanchor\": \"left\", \"xref\": \"x\", \"y\": 14, \"yref\": \"y\"}, {\"align\": \"left\", \"font\": {\"color\": \"#000000\"}, \"showarrow\": false, \"text\": \"Snapp\", \"x\": 0.55, \"xanchor\": \"left\", \"xref\": \"x\", \"y\": 14, \"yref\": \"y\"}, {\"align\": \"left\", \"font\": {\"color\": \"#000000\"}, \"showarrow\": false, \"text\": \"True\", \"x\": 1.55, \"xanchor\": \"left\", \"xref\": \"x\", \"y\": 14, \"yref\": \"y\"}, {\"align\": \"left\", \"font\": {\"color\": \"#000000\"}, \"showarrow\": false, \"text\": \"0.25%\", \"x\": 2.55, \"xanchor\": \"left\", \"xref\": \"x\", \"y\": 14, \"yref\": \"y\"}, {\"align\": \"left\", \"font\": {\"color\": \"#000000\"}, \"showarrow\": false, \"text\": \"Urmia\", \"x\": -0.45, \"xanchor\": \"left\", \"xref\": \"x\", \"y\": 15, \"yref\": \"y\"}, {\"align\": \"left\", \"font\": {\"color\": \"#000000\"}, \"showarrow\": false, \"text\": \"Tap30\", \"x\": 0.55, \"xanchor\": \"left\", \"xref\": \"x\", \"y\": 15, \"yref\": \"y\"}, {\"align\": \"left\", \"font\": {\"color\": \"#000000\"}, \"showarrow\": false, \"text\": \"False\", \"x\": 1.55, \"xanchor\": \"left\", \"xref\": \"x\", \"y\": 15, \"yref\": \"y\"}, {\"align\": \"left\", \"font\": {\"color\": \"#000000\"}, \"showarrow\": false, \"text\": \"99.81%\", \"x\": 2.55, \"xanchor\": \"left\", \"xref\": \"x\", \"y\": 15, \"yref\": \"y\"}, {\"align\": \"left\", \"font\": {\"color\": \"#000000\"}, \"showarrow\": false, \"text\": \"Urmia\", \"x\": -0.45, \"xanchor\": \"left\", \"xref\": \"x\", \"y\": 16, \"yref\": \"y\"}, {\"align\": \"left\", \"font\": {\"color\": \"#000000\"}, \"showarrow\": false, \"text\": \"Tap30\", \"x\": 0.55, \"xanchor\": \"left\", \"xref\": \"x\", \"y\": 16, \"yref\": \"y\"}, {\"align\": \"left\", \"font\": {\"color\": \"#000000\"}, \"showarrow\": false, \"text\": \"True\", \"x\": 1.55, \"xanchor\": \"left\", \"xref\": \"x\", \"y\": 16, \"yref\": \"y\"}, {\"align\": \"left\", \"font\": {\"color\": \"#000000\"}, \"showarrow\": false, \"text\": \"0.19%\", \"x\": 2.55, \"xanchor\": \"left\", \"xref\": \"x\", \"y\": 16, \"yref\": \"y\"}], \"height\": 560, \"margin\": {\"b\": 0, \"l\": 0, \"r\": 0, \"t\": 0}, \"xaxis\": {\"dtick\": 1, \"gridwidth\": 2, \"showticklabels\": false, \"tick0\": -0.5, \"ticks\": \"\", \"zeroline\": false}, \"yaxis\": {\"autorange\": \"reversed\", \"dtick\": 1, \"gridwidth\": 2, \"showticklabels\": false, \"tick0\": 0.5, \"ticks\": \"\", \"zeroline\": false}, \"width\": 350}, {\"showLink\": true, \"linkText\": \"Export to plot.ly\"})});</script>"
      ]
     },
     "metadata": {},
     "output_type": "display_data"
    }
   ],
   "source": [
    "table = ff.create_table(df_merge)\n",
    "table.layout.width=350\n",
    "iplot(table, filename='jupyter-table1')"
   ]
  },
  {
   "cell_type": "code",
   "execution_count": 13,
   "metadata": {},
   "outputs": [],
   "source": [
    "# some origin-destinations\n",
    "rides = ['35696615137856357980251413', '3540454511621835812645147261', '357306751531735721995134098', '3574962515126535756865141025']\n",
    "names = ['Jomhouri Square to Palladium', 'Imam Khomeini Airport to Niavaran', 'Tehranpars to Sadeghiyeh', 'Narmak to Vanak Square']"
   ]
  },
  {
   "cell_type": "code",
   "execution_count": 14,
   "metadata": {},
   "outputs": [],
   "source": [
    "df_1 = df[df.ride_id == rides[0]]\n",
    "df_1['timestamp'] = pd.to_datetime(df_1['timestamp'])\n",
    "df_1_g = df_1.groupby([df_1.timestamp.dt.hour, df_1.service], as_index=True).agg({\n",
    "    'price': 'mean'\n",
    "})\n",
    "df_1_g.reset_index(inplace=True)  \n",
    "\n",
    "df_snapp = df_1_g[df_1_g.service == \"Snapp\"][['timestamp', 'price']]\n",
    "df_snapp.columns = ['timestamp', 'snapp_price']\n",
    "df_tap30 = df_1_g[df_1_g.service == \"Tap30\"][['timestamp', 'price']]\n",
    "df_tap30.columns = ['timestamp', 'tap30_price']\n",
    "\n",
    "df_1_g = pd.merge(df_snapp, df_tap30)\n",
    "\n",
    "\n",
    "##\n",
    "df_2 = df[df.ride_id == rides[1]]\n",
    "df_2['timestamp'] = pd.to_datetime(df_2['timestamp'])\n",
    "df_2_g = df_2.groupby([df_2.timestamp.dt.hour, df_2.service], as_index=True).agg({\n",
    "    'price': 'mean'\n",
    "})\n",
    "df_2_g.reset_index(inplace=True)  \n",
    "\n",
    "df_snapp = df_2_g[df_2_g.service == \"Snapp\"][['timestamp', 'price']]\n",
    "df_snapp.columns = ['timestamp', 'snapp_price']\n",
    "df_tap30 = df_2_g[df_2_g.service == \"Tap30\"][['timestamp', 'price']]\n",
    "df_tap30.columns = ['timestamp', 'tap30_price']\n",
    "\n",
    "df_2_g = pd.merge(df_snapp, df_tap30)\n",
    "\n",
    "\n",
    "##\n",
    "df_3 = df[df.ride_id == rides[2]]\n",
    "df_3['timestamp'] = pd.to_datetime(df_3['timestamp'])\n",
    "df_3_g = df_3.groupby([df_3.timestamp.dt.hour, df_3.service], as_index=True).agg({\n",
    "    'price': 'mean'\n",
    "})\n",
    "df_3_g.reset_index(inplace=True)  \n",
    "\n",
    "df_snapp = df_3_g[df_3_g.service == \"Snapp\"][['timestamp', 'price']]\n",
    "df_snapp.columns = ['timestamp', 'snapp_price']\n",
    "df_tap30 = df_3_g[df_3_g.service == \"Tap30\"][['timestamp', 'price']]\n",
    "df_tap30.columns = ['timestamp', 'tap30_price']\n",
    "\n",
    "df_3_g = pd.merge(df_snapp, df_tap30)\n",
    "\n",
    "##\n",
    "df_4 = df[df.ride_id == rides[3]]\n",
    "df_4['timestamp'] = pd.to_datetime(df_4['timestamp'])\n",
    "df_4_g = df_4.groupby([df_4.timestamp.dt.hour, df_4.service], as_index=True).agg({\n",
    "    'price': 'mean'\n",
    "})\n",
    "df_4_g.reset_index(inplace=True)  \n",
    "\n",
    "df_snapp = df_4_g[df_4_g.service == \"Snapp\"][['timestamp', 'price']]\n",
    "df_snapp.columns = ['timestamp', 'snapp_price']\n",
    "df_tap30 = df_4_g[df_4_g.service == \"Tap30\"][['timestamp', 'price']]\n",
    "df_tap30.columns = ['timestamp', 'tap30_price']\n",
    "\n",
    "df_4_g = pd.merge(df_snapp, df_tap30)"
   ]
  },
  {
   "cell_type": "code",
   "execution_count": 17,
   "metadata": {},
   "outputs": [
    {
     "name": "stdout",
     "output_type": "stream",
     "text": [
      "This is the format of your plot grid:\n",
      "[ (1,1) x1,y1 ]  [ (1,2) x2,y2 ]\n",
      "[ (2,1) x3,y3 ]  [ (2,2) x4,y4 ]\n",
      "\n"
     ]
    },
    {
     "data": {
      "application/vnd.plotly.v1+json": {
       "data": [
        {
         "line": {
          "color": "#00ADB5",
          "width": 2
         },
         "mode": "lines+markers",
         "name": "Snapp",
         "type": "scatter",
         "uid": "9e6f06e2-f18f-4388-b5c6-0846ed0c5831",
         "x": [
          0,
          1,
          2,
          3,
          4,
          5,
          6,
          7,
          8,
          9,
          11,
          12,
          13,
          14,
          15,
          16,
          17,
          18,
          20,
          21,
          22,
          23
         ],
         "xaxis": "x",
         "y": [
          14166.666666666666,
          14000,
          14500,
          14800,
          13250,
          12625,
          18083.333333333332,
          19666.666666666668,
          15200,
          12400,
          14833.333333333334,
          13000,
          17000,
          18571.428571428572,
          20800,
          22500,
          28250,
          28000,
          16500,
          16500,
          13100,
          15500
         ],
         "yaxis": "y"
        },
        {
         "line": {
          "color": "#000000",
          "width": 2
         },
         "mode": "lines+markers",
         "name": "Tap30",
         "type": "scatter",
         "uid": "b8988746-1a88-4240-be90-ee6652524d07",
         "x": [
          0,
          1,
          2,
          3,
          4,
          5,
          6,
          7,
          8,
          9,
          11,
          12,
          13,
          14,
          15,
          16,
          17,
          18,
          20,
          21,
          22,
          23
         ],
         "xaxis": "x",
         "y": [
          12666.666666666666,
          14750,
          14625,
          14800,
          13500,
          13625,
          14666.666666666666,
          19166.666666666668,
          15900,
          15700,
          17000,
          16000,
          16750,
          21928.571428571428,
          21200,
          20583.333333333332,
          25500,
          30000,
          27500,
          20166.666666666668,
          13900,
          14500
         ],
         "yaxis": "y"
        },
        {
         "line": {
          "color": "#00ADB5",
          "width": 2
         },
         "mode": "lines+markers",
         "name": "Snapp",
         "showlegend": false,
         "type": "scatter",
         "uid": "b7766a81-fda7-4246-aba4-f059418f0cd7",
         "x": [
          0,
          1,
          2,
          3,
          4,
          5,
          6,
          7,
          8,
          9,
          10,
          11,
          13,
          14,
          15,
          16,
          17,
          18,
          19,
          20,
          21,
          22,
          23
         ],
         "xaxis": "x2",
         "y": [
          54500,
          54333.333333333336,
          48000,
          50500,
          46900,
          47500,
          53100,
          59700,
          48000,
          44666.666666666664,
          43666.666666666664,
          45428.57142857143,
          45666.666666666664,
          59166.666666666664,
          58750,
          60500,
          78500,
          69333.33333333333,
          48000,
          58750,
          55500,
          43500,
          43500
         ],
         "yaxis": "y2"
        },
        {
         "line": {
          "color": "#000000",
          "width": 2
         },
         "mode": "lines+markers",
         "name": "Tap30",
         "showlegend": false,
         "type": "scatter",
         "uid": "75349383-6a56-4579-a6ea-efcbc58ac1dc",
         "x": [
          0,
          1,
          2,
          3,
          4,
          5,
          6,
          7,
          8,
          9,
          10,
          11,
          13,
          14,
          15,
          16,
          17,
          18,
          19,
          20,
          21,
          22,
          23
         ],
         "xaxis": "x2",
         "y": [
          44300,
          45666.666666666664,
          44000,
          44000,
          44800,
          44416.666666666664,
          45800,
          49000,
          47500,
          50000,
          49000,
          47857.142857142855,
          47000,
          49666.666666666664,
          50500,
          50000,
          50000,
          53333.333333333336,
          52000,
          50250,
          48500,
          46666.666666666664,
          46500
         ],
         "yaxis": "y2"
        },
        {
         "line": {
          "color": "#00ADB5",
          "width": 2
         },
         "mode": "lines+markers",
         "name": "Snapp",
         "showlegend": false,
         "type": "scatter",
         "uid": "881a0708-78fd-4b41-9d4d-c82022a66219",
         "x": [
          0,
          1,
          2,
          3,
          4,
          5,
          6,
          7,
          8,
          9,
          10,
          11,
          12,
          13,
          15,
          16,
          17,
          18,
          19,
          20,
          21,
          22,
          23
         ],
         "xaxis": "x3",
         "y": [
          20000,
          18500,
          19000,
          19750,
          19000,
          16000,
          17000,
          32000,
          21500,
          19500,
          15500,
          17875,
          17875,
          17500,
          19500,
          21666.666666666668,
          22375,
          19500,
          18900,
          16750,
          17333.333333333332,
          16000,
          18000
         ],
         "yaxis": "y3"
        },
        {
         "line": {
          "color": "#000000",
          "width": 2
         },
         "mode": "lines+markers",
         "name": "Tap30",
         "showlegend": false,
         "type": "scatter",
         "uid": "10ec1640-cbb1-4836-bae6-a543802223f0",
         "x": [
          0,
          1,
          2,
          3,
          4,
          5,
          6,
          7,
          8,
          9,
          10,
          11,
          12,
          13,
          15,
          16,
          17,
          18,
          19,
          20,
          21,
          22,
          23
         ],
         "xaxis": "x3",
         "y": [
          17625,
          19000,
          18900,
          19250,
          19500,
          17333.333333333332,
          19666.666666666668,
          26500,
          20000,
          18750,
          16500,
          18250,
          18000,
          18500,
          18166.666666666668,
          19000,
          22500,
          22800,
          22200,
          18250,
          18500,
          17833.333333333332,
          16500
         ],
         "yaxis": "y3"
        },
        {
         "line": {
          "color": "#00ADB5",
          "width": 2
         },
         "mode": "lines+markers",
         "name": "Snapp",
         "showlegend": false,
         "type": "scatter",
         "uid": "b82806d6-9d51-490f-a4a8-4d686a564741",
         "x": [
          0,
          2,
          3,
          4,
          5,
          6,
          7,
          8,
          9,
          10,
          11,
          12,
          13,
          14,
          15,
          16,
          17,
          18,
          19,
          20,
          21,
          22,
          23
         ],
         "xaxis": "x4",
         "y": [
          12750,
          12500,
          13500,
          11500,
          11625,
          13928.57142857143,
          14500,
          14000,
          13300,
          13250,
          11833.333333333334,
          11666.666666666666,
          11000,
          12000,
          11500,
          15000,
          14900,
          15750,
          15500,
          12666.666666666666,
          12500,
          10666.666666666666,
          12000
         ],
         "yaxis": "y4"
        },
        {
         "line": {
          "color": "#000000",
          "width": 2
         },
         "mode": "lines+markers",
         "name": "Tap30",
         "showlegend": false,
         "type": "scatter",
         "uid": "22c66cf7-56d4-4af4-9dd9-7f1d90521867",
         "x": [
          0,
          2,
          3,
          4,
          5,
          6,
          7,
          8,
          9,
          10,
          11,
          12,
          13,
          14,
          15,
          16,
          17,
          18,
          19,
          20,
          21,
          22,
          23
         ],
         "xaxis": "x4",
         "y": [
          11250,
          12500,
          13000,
          10500,
          11000,
          12785.714285714286,
          12500,
          14333.333333333334,
          13900,
          14875,
          13666.666666666666,
          12000,
          10500,
          12000,
          13000,
          13333.333333333334,
          14900,
          12750,
          14166.666666666666,
          12166.666666666666,
          10750,
          10666.666666666666,
          11250
         ],
         "yaxis": "y4"
        }
       ],
       "layout": {
        "annotations": [
         {
          "font": {
           "size": 16
          },
          "showarrow": false,
          "text": "Jomhouri Square to Palladium",
          "x": 0.225,
          "xanchor": "center",
          "xref": "paper",
          "y": 1,
          "yanchor": "bottom",
          "yref": "paper"
         },
         {
          "font": {
           "size": 16
          },
          "showarrow": false,
          "text": "Imam Khomeini Airport to Niavaran",
          "x": 0.775,
          "xanchor": "center",
          "xref": "paper",
          "y": 1,
          "yanchor": "bottom",
          "yref": "paper"
         },
         {
          "font": {
           "size": 16
          },
          "showarrow": false,
          "text": "Tehranpars to Sadeghiyeh",
          "x": 0.225,
          "xanchor": "center",
          "xref": "paper",
          "y": 0.375,
          "yanchor": "bottom",
          "yref": "paper"
         },
         {
          "font": {
           "size": 16
          },
          "showarrow": false,
          "text": "Narmak to Vanak Square",
          "x": 0.775,
          "xanchor": "center",
          "xref": "paper",
          "y": 0.375,
          "yanchor": "bottom",
          "yref": "paper"
         }
        ],
        "legend": {
         "orientation": "h",
         "x": -0.1,
         "y": 1.2
        },
        "title": "Hourly price trend<br><span style=\"font-size: 1rem\">rides: 74</span>",
        "width": 900,
        "xaxis": {
         "anchor": "y",
         "domain": [
          0,
          0.45
         ],
         "dtick": 6
        },
        "xaxis2": {
         "anchor": "y2",
         "domain": [
          0.55,
          1
         ],
         "dtick": 6
        },
        "xaxis3": {
         "anchor": "y3",
         "domain": [
          0,
          0.45
         ],
         "dtick": 6
        },
        "xaxis4": {
         "anchor": "y4",
         "domain": [
          0.55,
          1
         ],
         "dtick": 6
        },
        "yaxis": {
         "anchor": "x",
         "domain": [
          0.625,
          1
         ],
         "exponentformat": "none"
        },
        "yaxis2": {
         "anchor": "x2",
         "domain": [
          0.625,
          1
         ],
         "exponentformat": "none"
        },
        "yaxis3": {
         "anchor": "x3",
         "domain": [
          0,
          0.375
         ],
         "exponentformat": "none"
        },
        "yaxis4": {
         "anchor": "x4",
         "domain": [
          0,
          0.375
         ],
         "exponentformat": "none"
        }
       }
      },
      "text/html": [
       "<div id=\"39dcc3db-820e-45e9-9cd2-1470346cd42a\" style=\"height: 525px; width: 900px;\" class=\"plotly-graph-div\"></div><script type=\"text/javascript\">require([\"plotly\"], function(Plotly) { window.PLOTLYENV=window.PLOTLYENV || {};window.PLOTLYENV.BASE_URL=\"https://plot.ly\";Plotly.newPlot(\"39dcc3db-820e-45e9-9cd2-1470346cd42a\", [{\"line\": {\"color\": \"#00ADB5\", \"width\": 2}, \"mode\": \"lines+markers\", \"name\": \"Snapp\", \"x\": [0, 1, 2, 3, 4, 5, 6, 7, 8, 9, 11, 12, 13, 14, 15, 16, 17, 18, 20, 21, 22, 23], \"y\": [14166.666666666666, 14000.0, 14500.0, 14800.0, 13250.0, 12625.0, 18083.333333333332, 19666.666666666668, 15200.0, 12400.0, 14833.333333333334, 13000.0, 17000.0, 18571.428571428572, 20800.0, 22500.0, 28250.0, 28000.0, 16500.0, 16500.0, 13100.0, 15500.0], \"type\": \"scatter\", \"uid\": \"9e6f06e2-f18f-4388-b5c6-0846ed0c5831\", \"xaxis\": \"x\", \"yaxis\": \"y\"}, {\"line\": {\"color\": \"#000000\", \"width\": 2}, \"mode\": \"lines+markers\", \"name\": \"Tap30\", \"x\": [0, 1, 2, 3, 4, 5, 6, 7, 8, 9, 11, 12, 13, 14, 15, 16, 17, 18, 20, 21, 22, 23], \"y\": [12666.666666666666, 14750.0, 14625.0, 14800.0, 13500.0, 13625.0, 14666.666666666666, 19166.666666666668, 15900.0, 15700.0, 17000.0, 16000.0, 16750.0, 21928.571428571428, 21200.0, 20583.333333333332, 25500.0, 30000.0, 27500.0, 20166.666666666668, 13900.0, 14500.0], \"type\": \"scatter\", \"uid\": \"b8988746-1a88-4240-be90-ee6652524d07\", \"xaxis\": \"x\", \"yaxis\": \"y\"}, {\"line\": {\"color\": \"#00ADB5\", \"width\": 2}, \"mode\": \"lines+markers\", \"name\": \"Snapp\", \"showlegend\": false, \"x\": [0, 1, 2, 3, 4, 5, 6, 7, 8, 9, 10, 11, 13, 14, 15, 16, 17, 18, 19, 20, 21, 22, 23], \"xaxis\": \"x2\", \"y\": [54500.0, 54333.333333333336, 48000.0, 50500.0, 46900.0, 47500.0, 53100.0, 59700.0, 48000.0, 44666.666666666664, 43666.666666666664, 45428.57142857143, 45666.666666666664, 59166.666666666664, 58750.0, 60500.0, 78500.0, 69333.33333333333, 48000.0, 58750.0, 55500.0, 43500.0, 43500.0], \"yaxis\": \"y2\", \"type\": \"scatter\", \"uid\": \"b7766a81-fda7-4246-aba4-f059418f0cd7\"}, {\"line\": {\"color\": \"#000000\", \"width\": 2}, \"mode\": \"lines+markers\", \"name\": \"Tap30\", \"showlegend\": false, \"x\": [0, 1, 2, 3, 4, 5, 6, 7, 8, 9, 10, 11, 13, 14, 15, 16, 17, 18, 19, 20, 21, 22, 23], \"xaxis\": \"x2\", \"y\": [44300.0, 45666.666666666664, 44000.0, 44000.0, 44800.0, 44416.666666666664, 45800.0, 49000.0, 47500.0, 50000.0, 49000.0, 47857.142857142855, 47000.0, 49666.666666666664, 50500.0, 50000.0, 50000.0, 53333.333333333336, 52000.0, 50250.0, 48500.0, 46666.666666666664, 46500.0], \"yaxis\": \"y2\", \"type\": \"scatter\", \"uid\": \"75349383-6a56-4579-a6ea-efcbc58ac1dc\"}, {\"line\": {\"color\": \"#00ADB5\", \"width\": 2}, \"mode\": \"lines+markers\", \"name\": \"Snapp\", \"showlegend\": false, \"x\": [0, 1, 2, 3, 4, 5, 6, 7, 8, 9, 10, 11, 12, 13, 15, 16, 17, 18, 19, 20, 21, 22, 23], \"xaxis\": \"x3\", \"y\": [20000.0, 18500.0, 19000.0, 19750.0, 19000.0, 16000.0, 17000.0, 32000.0, 21500.0, 19500.0, 15500.0, 17875.0, 17875.0, 17500.0, 19500.0, 21666.666666666668, 22375.0, 19500.0, 18900.0, 16750.0, 17333.333333333332, 16000.0, 18000.0], \"yaxis\": \"y3\", \"type\": \"scatter\", \"uid\": \"881a0708-78fd-4b41-9d4d-c82022a66219\"}, {\"line\": {\"color\": \"#000000\", \"width\": 2}, \"mode\": \"lines+markers\", \"name\": \"Tap30\", \"showlegend\": false, \"x\": [0, 1, 2, 3, 4, 5, 6, 7, 8, 9, 10, 11, 12, 13, 15, 16, 17, 18, 19, 20, 21, 22, 23], \"xaxis\": \"x3\", \"y\": [17625.0, 19000.0, 18900.0, 19250.0, 19500.0, 17333.333333333332, 19666.666666666668, 26500.0, 20000.0, 18750.0, 16500.0, 18250.0, 18000.0, 18500.0, 18166.666666666668, 19000.0, 22500.0, 22800.0, 22200.0, 18250.0, 18500.0, 17833.333333333332, 16500.0], \"yaxis\": \"y3\", \"type\": \"scatter\", \"uid\": \"10ec1640-cbb1-4836-bae6-a543802223f0\"}, {\"line\": {\"color\": \"#00ADB5\", \"width\": 2}, \"mode\": \"lines+markers\", \"name\": \"Snapp\", \"showlegend\": false, \"x\": [0, 2, 3, 4, 5, 6, 7, 8, 9, 10, 11, 12, 13, 14, 15, 16, 17, 18, 19, 20, 21, 22, 23], \"y\": [12750.0, 12500.0, 13500.0, 11500.0, 11625.0, 13928.57142857143, 14500.0, 14000.0, 13300.0, 13250.0, 11833.333333333334, 11666.666666666666, 11000.0, 12000.0, 11500.0, 15000.0, 14900.0, 15750.0, 15500.0, 12666.666666666666, 12500.0, 10666.666666666666, 12000.0], \"type\": \"scatter\", \"uid\": \"b82806d6-9d51-490f-a4a8-4d686a564741\", \"xaxis\": \"x4\", \"yaxis\": \"y4\"}, {\"line\": {\"color\": \"#000000\", \"width\": 2}, \"mode\": \"lines+markers\", \"name\": \"Tap30\", \"showlegend\": false, \"x\": [0, 2, 3, 4, 5, 6, 7, 8, 9, 10, 11, 12, 13, 14, 15, 16, 17, 18, 19, 20, 21, 22, 23], \"y\": [11250.0, 12500.0, 13000.0, 10500.0, 11000.0, 12785.714285714286, 12500.0, 14333.333333333334, 13900.0, 14875.0, 13666.666666666666, 12000.0, 10500.0, 12000.0, 13000.0, 13333.333333333334, 14900.0, 12750.0, 14166.666666666666, 12166.666666666666, 10750.0, 10666.666666666666, 11250.0], \"type\": \"scatter\", \"uid\": \"22c66cf7-56d4-4af4-9dd9-7f1d90521867\", \"xaxis\": \"x4\", \"yaxis\": \"y4\"}], {\"annotations\": [{\"font\": {\"size\": 16}, \"showarrow\": false, \"text\": \"Jomhouri Square to Palladium\", \"x\": 0.225, \"xanchor\": \"center\", \"xref\": \"paper\", \"y\": 1.0, \"yanchor\": \"bottom\", \"yref\": \"paper\"}, {\"font\": {\"size\": 16}, \"showarrow\": false, \"text\": \"Imam Khomeini Airport to Niavaran\", \"x\": 0.775, \"xanchor\": \"center\", \"xref\": \"paper\", \"y\": 1.0, \"yanchor\": \"bottom\", \"yref\": \"paper\"}, {\"font\": {\"size\": 16}, \"showarrow\": false, \"text\": \"Tehranpars to Sadeghiyeh\", \"x\": 0.225, \"xanchor\": \"center\", \"xref\": \"paper\", \"y\": 0.375, \"yanchor\": \"bottom\", \"yref\": \"paper\"}, {\"font\": {\"size\": 16}, \"showarrow\": false, \"text\": \"Narmak to Vanak Square\", \"x\": 0.775, \"xanchor\": \"center\", \"xref\": \"paper\", \"y\": 0.375, \"yanchor\": \"bottom\", \"yref\": \"paper\"}], \"xaxis\": {\"anchor\": \"y\", \"domain\": [0.0, 0.45], \"dtick\": 6}, \"yaxis\": {\"anchor\": \"x\", \"domain\": [0.625, 1.0], \"exponentformat\": \"none\"}, \"xaxis2\": {\"anchor\": \"y2\", \"domain\": [0.55, 1.0], \"dtick\": 6}, \"yaxis2\": {\"anchor\": \"x2\", \"domain\": [0.625, 1.0], \"exponentformat\": \"none\"}, \"xaxis3\": {\"anchor\": \"y3\", \"domain\": [0.0, 0.45], \"dtick\": 6}, \"yaxis3\": {\"anchor\": \"x3\", \"domain\": [0.0, 0.375], \"exponentformat\": \"none\"}, \"xaxis4\": {\"anchor\": \"y4\", \"domain\": [0.55, 1.0], \"dtick\": 6}, \"yaxis4\": {\"anchor\": \"x4\", \"domain\": [0.0, 0.375], \"exponentformat\": \"none\"}, \"legend\": {\"orientation\": \"h\", \"x\": -0.1, \"y\": 1.2}, \"width\": 900, \"title\": \"Hourly price trend<br><span style=\\\"font-size: 1rem\\\">rides: 74</span>\"}, {\"showLink\": true, \"linkText\": \"Export to plot.ly\"})});</script>"
      ],
      "text/vnd.plotly.v1+html": [
       "<div id=\"39dcc3db-820e-45e9-9cd2-1470346cd42a\" style=\"height: 525px; width: 900px;\" class=\"plotly-graph-div\"></div><script type=\"text/javascript\">require([\"plotly\"], function(Plotly) { window.PLOTLYENV=window.PLOTLYENV || {};window.PLOTLYENV.BASE_URL=\"https://plot.ly\";Plotly.newPlot(\"39dcc3db-820e-45e9-9cd2-1470346cd42a\", [{\"line\": {\"color\": \"#00ADB5\", \"width\": 2}, \"mode\": \"lines+markers\", \"name\": \"Snapp\", \"x\": [0, 1, 2, 3, 4, 5, 6, 7, 8, 9, 11, 12, 13, 14, 15, 16, 17, 18, 20, 21, 22, 23], \"y\": [14166.666666666666, 14000.0, 14500.0, 14800.0, 13250.0, 12625.0, 18083.333333333332, 19666.666666666668, 15200.0, 12400.0, 14833.333333333334, 13000.0, 17000.0, 18571.428571428572, 20800.0, 22500.0, 28250.0, 28000.0, 16500.0, 16500.0, 13100.0, 15500.0], \"type\": \"scatter\", \"uid\": \"9e6f06e2-f18f-4388-b5c6-0846ed0c5831\", \"xaxis\": \"x\", \"yaxis\": \"y\"}, {\"line\": {\"color\": \"#000000\", \"width\": 2}, \"mode\": \"lines+markers\", \"name\": \"Tap30\", \"x\": [0, 1, 2, 3, 4, 5, 6, 7, 8, 9, 11, 12, 13, 14, 15, 16, 17, 18, 20, 21, 22, 23], \"y\": [12666.666666666666, 14750.0, 14625.0, 14800.0, 13500.0, 13625.0, 14666.666666666666, 19166.666666666668, 15900.0, 15700.0, 17000.0, 16000.0, 16750.0, 21928.571428571428, 21200.0, 20583.333333333332, 25500.0, 30000.0, 27500.0, 20166.666666666668, 13900.0, 14500.0], \"type\": \"scatter\", \"uid\": \"b8988746-1a88-4240-be90-ee6652524d07\", \"xaxis\": \"x\", \"yaxis\": \"y\"}, {\"line\": {\"color\": \"#00ADB5\", \"width\": 2}, \"mode\": \"lines+markers\", \"name\": \"Snapp\", \"showlegend\": false, \"x\": [0, 1, 2, 3, 4, 5, 6, 7, 8, 9, 10, 11, 13, 14, 15, 16, 17, 18, 19, 20, 21, 22, 23], \"xaxis\": \"x2\", \"y\": [54500.0, 54333.333333333336, 48000.0, 50500.0, 46900.0, 47500.0, 53100.0, 59700.0, 48000.0, 44666.666666666664, 43666.666666666664, 45428.57142857143, 45666.666666666664, 59166.666666666664, 58750.0, 60500.0, 78500.0, 69333.33333333333, 48000.0, 58750.0, 55500.0, 43500.0, 43500.0], \"yaxis\": \"y2\", \"type\": \"scatter\", \"uid\": \"b7766a81-fda7-4246-aba4-f059418f0cd7\"}, {\"line\": {\"color\": \"#000000\", \"width\": 2}, \"mode\": \"lines+markers\", \"name\": \"Tap30\", \"showlegend\": false, \"x\": [0, 1, 2, 3, 4, 5, 6, 7, 8, 9, 10, 11, 13, 14, 15, 16, 17, 18, 19, 20, 21, 22, 23], \"xaxis\": \"x2\", \"y\": [44300.0, 45666.666666666664, 44000.0, 44000.0, 44800.0, 44416.666666666664, 45800.0, 49000.0, 47500.0, 50000.0, 49000.0, 47857.142857142855, 47000.0, 49666.666666666664, 50500.0, 50000.0, 50000.0, 53333.333333333336, 52000.0, 50250.0, 48500.0, 46666.666666666664, 46500.0], \"yaxis\": \"y2\", \"type\": \"scatter\", \"uid\": \"75349383-6a56-4579-a6ea-efcbc58ac1dc\"}, {\"line\": {\"color\": \"#00ADB5\", \"width\": 2}, \"mode\": \"lines+markers\", \"name\": \"Snapp\", \"showlegend\": false, \"x\": [0, 1, 2, 3, 4, 5, 6, 7, 8, 9, 10, 11, 12, 13, 15, 16, 17, 18, 19, 20, 21, 22, 23], \"xaxis\": \"x3\", \"y\": [20000.0, 18500.0, 19000.0, 19750.0, 19000.0, 16000.0, 17000.0, 32000.0, 21500.0, 19500.0, 15500.0, 17875.0, 17875.0, 17500.0, 19500.0, 21666.666666666668, 22375.0, 19500.0, 18900.0, 16750.0, 17333.333333333332, 16000.0, 18000.0], \"yaxis\": \"y3\", \"type\": \"scatter\", \"uid\": \"881a0708-78fd-4b41-9d4d-c82022a66219\"}, {\"line\": {\"color\": \"#000000\", \"width\": 2}, \"mode\": \"lines+markers\", \"name\": \"Tap30\", \"showlegend\": false, \"x\": [0, 1, 2, 3, 4, 5, 6, 7, 8, 9, 10, 11, 12, 13, 15, 16, 17, 18, 19, 20, 21, 22, 23], \"xaxis\": \"x3\", \"y\": [17625.0, 19000.0, 18900.0, 19250.0, 19500.0, 17333.333333333332, 19666.666666666668, 26500.0, 20000.0, 18750.0, 16500.0, 18250.0, 18000.0, 18500.0, 18166.666666666668, 19000.0, 22500.0, 22800.0, 22200.0, 18250.0, 18500.0, 17833.333333333332, 16500.0], \"yaxis\": \"y3\", \"type\": \"scatter\", \"uid\": \"10ec1640-cbb1-4836-bae6-a543802223f0\"}, {\"line\": {\"color\": \"#00ADB5\", \"width\": 2}, \"mode\": \"lines+markers\", \"name\": \"Snapp\", \"showlegend\": false, \"x\": [0, 2, 3, 4, 5, 6, 7, 8, 9, 10, 11, 12, 13, 14, 15, 16, 17, 18, 19, 20, 21, 22, 23], \"y\": [12750.0, 12500.0, 13500.0, 11500.0, 11625.0, 13928.57142857143, 14500.0, 14000.0, 13300.0, 13250.0, 11833.333333333334, 11666.666666666666, 11000.0, 12000.0, 11500.0, 15000.0, 14900.0, 15750.0, 15500.0, 12666.666666666666, 12500.0, 10666.666666666666, 12000.0], \"type\": \"scatter\", \"uid\": \"b82806d6-9d51-490f-a4a8-4d686a564741\", \"xaxis\": \"x4\", \"yaxis\": \"y4\"}, {\"line\": {\"color\": \"#000000\", \"width\": 2}, \"mode\": \"lines+markers\", \"name\": \"Tap30\", \"showlegend\": false, \"x\": [0, 2, 3, 4, 5, 6, 7, 8, 9, 10, 11, 12, 13, 14, 15, 16, 17, 18, 19, 20, 21, 22, 23], \"y\": [11250.0, 12500.0, 13000.0, 10500.0, 11000.0, 12785.714285714286, 12500.0, 14333.333333333334, 13900.0, 14875.0, 13666.666666666666, 12000.0, 10500.0, 12000.0, 13000.0, 13333.333333333334, 14900.0, 12750.0, 14166.666666666666, 12166.666666666666, 10750.0, 10666.666666666666, 11250.0], \"type\": \"scatter\", \"uid\": \"22c66cf7-56d4-4af4-9dd9-7f1d90521867\", \"xaxis\": \"x4\", \"yaxis\": \"y4\"}], {\"annotations\": [{\"font\": {\"size\": 16}, \"showarrow\": false, \"text\": \"Jomhouri Square to Palladium\", \"x\": 0.225, \"xanchor\": \"center\", \"xref\": \"paper\", \"y\": 1.0, \"yanchor\": \"bottom\", \"yref\": \"paper\"}, {\"font\": {\"size\": 16}, \"showarrow\": false, \"text\": \"Imam Khomeini Airport to Niavaran\", \"x\": 0.775, \"xanchor\": \"center\", \"xref\": \"paper\", \"y\": 1.0, \"yanchor\": \"bottom\", \"yref\": \"paper\"}, {\"font\": {\"size\": 16}, \"showarrow\": false, \"text\": \"Tehranpars to Sadeghiyeh\", \"x\": 0.225, \"xanchor\": \"center\", \"xref\": \"paper\", \"y\": 0.375, \"yanchor\": \"bottom\", \"yref\": \"paper\"}, {\"font\": {\"size\": 16}, \"showarrow\": false, \"text\": \"Narmak to Vanak Square\", \"x\": 0.775, \"xanchor\": \"center\", \"xref\": \"paper\", \"y\": 0.375, \"yanchor\": \"bottom\", \"yref\": \"paper\"}], \"xaxis\": {\"anchor\": \"y\", \"domain\": [0.0, 0.45], \"dtick\": 6}, \"yaxis\": {\"anchor\": \"x\", \"domain\": [0.625, 1.0], \"exponentformat\": \"none\"}, \"xaxis2\": {\"anchor\": \"y2\", \"domain\": [0.55, 1.0], \"dtick\": 6}, \"yaxis2\": {\"anchor\": \"x2\", \"domain\": [0.625, 1.0], \"exponentformat\": \"none\"}, \"xaxis3\": {\"anchor\": \"y3\", \"domain\": [0.0, 0.45], \"dtick\": 6}, \"yaxis3\": {\"anchor\": \"x3\", \"domain\": [0.0, 0.375], \"exponentformat\": \"none\"}, \"xaxis4\": {\"anchor\": \"y4\", \"domain\": [0.55, 1.0], \"dtick\": 6}, \"yaxis4\": {\"anchor\": \"x4\", \"domain\": [0.0, 0.375], \"exponentformat\": \"none\"}, \"legend\": {\"orientation\": \"h\", \"x\": -0.1, \"y\": 1.2}, \"width\": 900, \"title\": \"Hourly price trend<br><span style=\\\"font-size: 1rem\\\">rides: 74</span>\"}, {\"showLink\": true, \"linkText\": \"Export to plot.ly\"})});</script>"
      ]
     },
     "metadata": {},
     "output_type": "display_data"
    }
   ],
   "source": [
    "trace1 = go.Scatter(\n",
    "    x = df_1_g.timestamp,\n",
    "    y = df_1_g.snapp_price,\n",
    "    mode = 'lines+markers',\n",
    "    name = 'Snapp',\n",
    "    line = dict(\n",
    "        color = ('#00ADB5'),\n",
    "        width = 2)\n",
    ")\n",
    "trace2 = go.Scatter(\n",
    "    x = df_1_g.timestamp,\n",
    "    y = df_1_g.tap30_price,\n",
    "    mode = 'lines+markers',\n",
    "    name = 'Tap30',\n",
    "    line = dict(\n",
    "        color = ('#000000'),\n",
    "        width = 2)\n",
    ")\n",
    "\n",
    "trace3 = go.Scatter(\n",
    "    x = df_2_g.timestamp,\n",
    "    y = df_2_g.snapp_price,\n",
    "    mode = 'lines+markers',\n",
    "    name = 'Snapp',\n",
    "    line = dict(\n",
    "        color = ('#00ADB5'),\n",
    "        width = 2),\n",
    "    xaxis='x2',\n",
    "    yaxis='y2',\n",
    "    showlegend=False\n",
    ")\n",
    "trace4 = go.Scatter(\n",
    "    x = df_2_g.timestamp,\n",
    "    y = df_2_g.tap30_price,\n",
    "    mode = 'lines+markers',\n",
    "    name = 'Tap30',\n",
    "    line = dict(\n",
    "        color = ('#000000'),\n",
    "        width = 2),\n",
    "    xaxis='x2',\n",
    "    yaxis='y2',\n",
    "    showlegend=False\n",
    ")\n",
    "\n",
    "trace5 = go.Scatter(\n",
    "    x = df_3_g.timestamp,\n",
    "    y = df_3_g.snapp_price,\n",
    "    mode = 'lines+markers',\n",
    "    name = 'Snapp',\n",
    "    line = dict(\n",
    "        color = ('#00ADB5'),\n",
    "        width = 2),\n",
    "    xaxis='x2',\n",
    "    yaxis='y2',\n",
    "    showlegend=False\n",
    ")\n",
    "trace6 = go.Scatter(\n",
    "    x = df_3_g.timestamp,\n",
    "    y = df_3_g.tap30_price,\n",
    "    mode = 'lines+markers',\n",
    "    name = 'Tap30',\n",
    "    line = dict(\n",
    "        color = ('#000000'),\n",
    "        width = 2),\n",
    "    xaxis='x2',\n",
    "    yaxis='y2',\n",
    "    showlegend=False\n",
    ")\n",
    "\n",
    "trace7 = go.Scatter(\n",
    "    x = df_4_g.timestamp,\n",
    "    y = df_4_g.snapp_price,\n",
    "    mode = 'lines+markers',\n",
    "    name = 'Snapp',\n",
    "    line = dict(\n",
    "        color = ('#00ADB5'),\n",
    "        width = 2),\n",
    "    showlegend=False\n",
    ")\n",
    "trace8 = go.Scatter(\n",
    "    x = df_4_g.timestamp,\n",
    "    y = df_4_g.tap30_price,\n",
    "    mode = 'lines+markers',\n",
    "    name = 'Tap30',\n",
    "    line = dict(\n",
    "        color = ('#000000'),\n",
    "        width = 2),\n",
    "    showlegend=False\n",
    ")\n",
    "\n",
    "fig = tools.make_subplots(rows=2, cols=2, subplot_titles=(names))\n",
    "\n",
    "fig.append_trace(trace1, 1, 1)\n",
    "fig.append_trace(trace2, 1, 1)\n",
    "fig.append_trace(trace3, 1, 2)\n",
    "fig.append_trace(trace4, 1, 2)\n",
    "fig.append_trace(trace5, 2, 1)\n",
    "fig.append_trace(trace6, 2, 1)\n",
    "fig.append_trace(trace7, 2, 2)\n",
    "fig.append_trace(trace8, 2, 2)\n",
    "\n",
    "fig['layout'].update(xaxis = dict(dtick=6), \n",
    "                     xaxis2 = dict(dtick=6),\n",
    "                     xaxis3 = dict(dtick=6), \n",
    "                     xaxis4 = dict(dtick=6),\n",
    "                     yaxis = dict(exponentformat='none'),\n",
    "                     yaxis2 = dict(exponentformat='none'),\n",
    "                     yaxis3 = dict(exponentformat='none'),\n",
    "                     yaxis4 = dict(exponentformat='none'),\n",
    "                     width=900, \n",
    "                     title='Hourly price trend<br><span style=\"font-size: 1rem\">rides: 74</span>', \n",
    "                     legend=dict(orientation=\"h\", x=-.1, y=1.2)\n",
    "                    )\n",
    "\n",
    "iplot(fig, filename='Hourly price trend')"
   ]
  },
  {
   "cell_type": "code",
   "execution_count": 16,
   "metadata": {},
   "outputs": [
    {
     "data": {
      "text/plain": [
       "74.0"
      ]
     },
     "execution_count": 16,
     "metadata": {},
     "output_type": "execute_result"
    }
   ],
   "source": [
    "((df_1.timestamp.count() + df_2.timestamp.count() + df_3.timestamp.count() + df_4.timestamp.count()) / 2)/ 4"
   ]
  },
  {
   "cell_type": "code",
   "execution_count": null,
   "metadata": {},
   "outputs": [],
   "source": []
  }
 ],
 "metadata": {
  "kernelspec": {
   "display_name": "Python 3",
   "language": "python",
   "name": "python3"
  },
  "language_info": {
   "codemirror_mode": {
    "name": "ipython",
    "version": 3
   },
   "file_extension": ".py",
   "mimetype": "text/x-python",
   "name": "python",
   "nbconvert_exporter": "python",
   "pygments_lexer": "ipython3",
   "version": "3.6.7"
  }
 },
 "nbformat": 4,
 "nbformat_minor": 2
}
